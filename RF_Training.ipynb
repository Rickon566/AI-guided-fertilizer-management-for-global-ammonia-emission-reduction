{
 "cells": [
  {
   "cell_type": "code",
   "execution_count": 1,
   "id": "ea9ba978",
   "metadata": {},
   "outputs": [],
   "source": [
    "import numpy as np\n",
    "import pandas as pd\n",
    "import re\n",
    "import matplotlib.pyplot as plt\n",
    "from matplotlib.ticker import FuncFormatter\n",
    "from sklearn.metrics import mean_squared_error\n",
    "%matplotlib inline\n",
    "np.set_printoptions(suppress=True)   \n",
    "pd.set_option('display.float_format', lambda x: '%.5f' % x) \n",
    "pd.set_option('display.max_columns', 1000)\n",
    "pd.set_option('display.width', 1000)\n",
    "pd.set_option('display.max_colwidth', 100)\n",
    "import pandas as pd\n",
    "import re\n",
    "import matplotlib.pyplot as plt\n",
    "from matplotlib.ticker import FuncFormatter\n",
    "import seaborn as sns\n",
    "%matplotlib inline\n",
    "np.set_printoptions(suppress=True)   \n",
    "import sklearn\n",
    "from sklearn import preprocessing\n",
    "from sklearn.linear_model import LinearRegression\n",
    "from sklearn.model_selection import train_test_split\n",
    "from sklearn.metrics import mean_squared_error\n",
    "from sklearn.inspection import permutation_importance\n",
    "from sklearn.ensemble import RandomForestRegressor\n",
    "from matplotlib.ticker import FuncFormatter\n",
    "from matplotlib.pyplot import MultipleLocator\n",
    "import pickle\n",
    "from sklearn.model_selection import GridSearchCV\n",
    "from sklearn.metrics import r2_score\n",
    "import joblib\n",
    "import scipy.stats\n",
    "from time import *\n",
    "from tqdm import tnrange, tqdm_notebook\n",
    "from time import sleep\n",
    "from matplotlib.mathtext import _mathtext as mathtext\n",
    "from sklearn.utils import resample\n",
    "from sklearn.ensemble import VotingRegressor\n",
    "mathtext.FontConstantsBase.sup1 = 0.3 "
   ]
  },
  {
   "cell_type": "markdown",
   "id": "391cd0c7",
   "metadata": {},
   "source": [
    "Please forgive my inelegant code"
   ]
  },
  {
   "cell_type": "code",
   "execution_count": 2,
   "id": "4ac416fe",
   "metadata": {},
   "outputs": [],
   "source": [
    "var = locals()"
   ]
  },
  {
   "cell_type": "code",
   "execution_count": 3,
   "id": "f9402a81",
   "metadata": {},
   "outputs": [],
   "source": [
    "nh3 = pd.read_excel('E:\\\\OneDrive - HKUST Connect\\\\Research\\\\nh3_ml\\\\Global_EF\\\\df_training_2627_space10fold.xlsx')"
   ]
  },
  {
   "cell_type": "code",
   "execution_count": 4,
   "id": "cbf186cf",
   "metadata": {},
   "outputs": [],
   "source": [
    "nh3['Number of fertilizer applications'] = [1 if x >= 2 else 0 for x in nh3['Number of fertilizer applications']]"
   ]
  },
  {
   "cell_type": "code",
   "execution_count": 5,
   "id": "f4cd3c09",
   "metadata": {
    "scrolled": true
   },
   "outputs": [],
   "source": [
    "stratify_columns = ['Fertilizer type', 'Nitrogen placement', 'Number of fertilizer applications', 'Soil tillage practices', 'Crop type']\n",
    "bootstrapped_datasets = []\n",
    "\n",
    "\n",
    "for i in range(5,104):\n",
    "    var['nh3_' + str(i)] = resample(nh3, stratify=nh3[stratify_columns], replace=True,random_state = i)\n",
    "    bootstrapped_datasets.append(var['nh3_' + str(i)])\n",
    "    #print(var['nh3_' + str(i)]['EF'].mean())\n",
    "    #print(var['nh3_' + str(i)]['Number of fertilizer applications'].sum())\n",
    "    #print(len(var['nh3_' + str(i)][var['nh3_' + str(i)]['Crop type'] == 'Rice']))\n",
    "bootstrapped_datasets.append(nh3)"
   ]
  },
  {
   "cell_type": "code",
   "execution_count": 304,
   "id": "0f1781ca",
   "metadata": {},
   "outputs": [
    {
     "data": {
      "text/plain": [
       "100"
      ]
     },
     "execution_count": 304,
     "metadata": {},
     "output_type": "execute_result"
    }
   ],
   "source": [
    "len(bootstrapped_datasets)"
   ]
  },
  {
   "cell_type": "code",
   "execution_count": 312,
   "id": "e17c3038",
   "metadata": {},
   "outputs": [],
   "source": [
    "nh3_orig = nh3.copy()"
   ]
  },
  {
   "cell_type": "code",
   "execution_count": 321,
   "id": "38516709",
   "metadata": {},
   "outputs": [],
   "source": [
    "for nh3df in bootstrapped_datasets:    \n",
    "    for i in range(1, len(nh3df['Fertilizer type'].unique()) + 1) :\n",
    "        nh3df[nh3df['Fertilizer type'].unique()[i - 1]] = np.array(nh3df['Fertilizer type'] == nh3df['Fertilizer type'].unique()[i - 1]).astype(np.int32)\n",
    "        i += 1\n",
    "    del nh3df['Fertilizer type']"
   ]
  },
  {
   "cell_type": "code",
   "execution_count": 322,
   "id": "8cd778dd",
   "metadata": {},
   "outputs": [],
   "source": [
    "for nh3df in bootstrapped_datasets:   \n",
    "    for i in range(1, len(nh3df['Nitrogen placement'].unique()) + 1) :\n",
    "        nh3df[nh3df['Nitrogen placement'].unique()[i - 1]] = np.array(nh3df['Nitrogen placement'] == nh3df['Nitrogen placement'].unique()[i - 1]).astype(np.int32)\n",
    "        i += 1\n",
    "    del nh3df['Nitrogen placement']"
   ]
  },
  {
   "cell_type": "code",
   "execution_count": 323,
   "id": "a8ca07cc",
   "metadata": {},
   "outputs": [],
   "source": [
    "for nh3df in bootstrapped_datasets:   \n",
    "    nh3df['Soil tillage practices'] = [1 if x=='NT' else 0 for x in nh3df['Soil tillage practices']]"
   ]
  },
  {
   "cell_type": "code",
   "execution_count": 324,
   "id": "0023bbec",
   "metadata": {},
   "outputs": [],
   "source": [
    "for nh3df in bootstrapped_datasets:   \n",
    "    for i in range(1, len(nh3df['Crop type'].unique()) + 1) :\n",
    "        nh3df[nh3df['Crop type'].unique()[i - 1]] = np.array(nh3df['Crop type'] == nh3df['Crop type'].unique()[i - 1]).astype(np.int32)\n",
    "        i += 1\n",
    "    del nh3df['Crop type']"
   ]
  },
  {
   "cell_type": "code",
   "execution_count": 329,
   "id": "b3f075e4",
   "metadata": {},
   "outputs": [],
   "source": [
    "for nh3df in bootstrapped_datasets[:-1]: \n",
    "    nh3df = sklearn.utils.shuffle(nh3df,random_state=2022)  \n",
    "    nh3df.index = range(0,len(nh3df))\n",
    "    nh3df"
   ]
  },
  {
   "cell_type": "code",
   "execution_count": 6,
   "id": "5a86d39d",
   "metadata": {},
   "outputs": [],
   "source": [
    "nh3 = sklearn.utils.shuffle(nh3,random_state=2022)  #数据乱序\n",
    "nh3.index = range(0,len(nh3))"
   ]
  },
  {
   "cell_type": "code",
   "execution_count": 333,
   "id": "a9364310",
   "metadata": {},
   "outputs": [],
   "source": [
    "EFraw = nh3['EF'].copy()\n",
    "#nh3['EF'] = np.log(nh3['EF'])\n",
    "pt = preprocessing.PowerTransformer(method='box-cox', standardize=False)\n",
    "nh3['EF'] = pt.fit_transform(nh3['EF'].ravel().reshape(-1, 1))"
   ]
  },
  {
   "cell_type": "code",
   "execution_count": 334,
   "id": "232b2828",
   "metadata": {},
   "outputs": [],
   "source": [
    "for nh3df in bootstrapped_datasets[:-1]: \n",
    "    nh3df['EF'] = pt.transform(nh3df['EF'].ravel().reshape(-1, 1))"
   ]
  },
  {
   "cell_type": "code",
   "execution_count": 339,
   "id": "bf801a28",
   "metadata": {},
   "outputs": [],
   "source": [
    "X_col_ori = list(nh3.columns)"
   ]
  },
  {
   "cell_type": "code",
   "execution_count": 340,
   "id": "19eec40a",
   "metadata": {},
   "outputs": [],
   "source": [
    "X_col_ori.remove('EF')\n",
    "X_col_ori.remove('region')\n",
    "X_col_ori.remove('Longitude')\n",
    "X_col_ori.remove('Latitude')"
   ]
  },
  {
   "cell_type": "code",
   "execution_count": 341,
   "id": "a3be2dd5",
   "metadata": {},
   "outputs": [],
   "source": [
    "X = nh3[X_col_ori]"
   ]
  },
  {
   "cell_type": "code",
   "execution_count": 342,
   "id": "5d710c53",
   "metadata": {},
   "outputs": [],
   "source": [
    "for i in range(5,104):\n",
    "    var['X_'+str(i)] = var['nh3_' + str(i)][X_col_ori]\n",
    "    var['X_'+str(i)] = var['X_'+str(i)].rename(columns={'Number of fertilizer applications':'FAT',\n",
    "                      'Soil tillage practices':'STP',\n",
    "                      'Average daily air temperature':'Tem',\n",
    "                      'SOC(g/kg)':'SOC','TN(g/kg)':'TN','BD(g/cm3)':'BD','clay(%)':'Clay','CEC(cmol/kg)':'CEC',\n",
    "                      'Nitrogen application rate':'Nrate',\n",
    "                      'U':'UOA','P+I':'Water'})"
   ]
  },
  {
   "cell_type": "code",
   "execution_count": 344,
   "id": "3e54857c",
   "metadata": {},
   "outputs": [],
   "source": [
    "X = X.rename(columns={'Number of fertilizer applications':'FAT',\n",
    "                      'Soil tillage practices':'STP',\n",
    "                      'Average daily air temperature':'Tem',\n",
    "                      'SOC(g/kg)':'SOC','TN(g/kg)':'TN','BD(g/cm3)':'BD','clay(%)':'Clay','CEC(cmol/kg)':'CEC',\n",
    "                      'Nitrogen application rate':'Nrate',\n",
    "                      'U':'UOA','P+I':'Water'})"
   ]
  },
  {
   "cell_type": "code",
   "execution_count": 345,
   "id": "fcef4868",
   "metadata": {},
   "outputs": [],
   "source": [
    "X_col = list(X.columns)"
   ]
  },
  {
   "cell_type": "code",
   "execution_count": null,
   "id": "141ff9c5",
   "metadata": {},
   "outputs": [],
   "source": []
  },
  {
   "cell_type": "code",
   "execution_count": 348,
   "id": "5e8f3dce",
   "metadata": {},
   "outputs": [],
   "source": [
    "Y = nh3['EF'].values.reshape(len(nh3),1)"
   ]
  },
  {
   "cell_type": "code",
   "execution_count": 349,
   "id": "863c2397",
   "metadata": {},
   "outputs": [],
   "source": [
    "for i in range(5,104):\n",
    "    var['Y_'+str(i)] = var['nh3_' + str(i)]['EF'].values.reshape(len(var['nh3_' + str(i)]),1)"
   ]
  },
  {
   "cell_type": "code",
   "execution_count": 350,
   "id": "186d2739",
   "metadata": {},
   "outputs": [
    {
     "data": {
      "text/plain": [
       "((2627, 22), (2627, 1))"
      ]
     },
     "execution_count": 350,
     "metadata": {},
     "output_type": "execute_result"
    }
   ],
   "source": [
    "X.shape, Y.shape"
   ]
  },
  {
   "cell_type": "code",
   "execution_count": 351,
   "id": "788c3e04",
   "metadata": {},
   "outputs": [
    {
     "data": {
      "text/plain": [
       "((2627, 22), (2627, 1))"
      ]
     },
     "execution_count": 351,
     "metadata": {},
     "output_type": "execute_result"
    }
   ],
   "source": [
    "var['X_'+str(i)].shape, var['Y_'+str(i)].shape"
   ]
  },
  {
   "cell_type": "code",
   "execution_count": 371,
   "id": "d56ba496",
   "metadata": {},
   "outputs": [],
   "source": [
    "x_train, x_test, y_train, y_test = train_test_split(X, Y, test_size=0.2, random_state = 266) "
   ]
  },
  {
   "cell_type": "code",
   "execution_count": 373,
   "id": "c15ae987",
   "metadata": {},
   "outputs": [
    {
     "data": {
      "text/plain": [
       "((2101, 22), (526, 22))"
      ]
     },
     "execution_count": 373,
     "metadata": {},
     "output_type": "execute_result"
    }
   ],
   "source": [
    "x_train.shape, x_test.shape"
   ]
  },
  {
   "cell_type": "code",
   "execution_count": 374,
   "id": "5599bab8",
   "metadata": {
    "scrolled": true
   },
   "outputs": [
    {
     "data": {
      "text/plain": [
       "((2101, 1), (526, 1))"
      ]
     },
     "execution_count": 374,
     "metadata": {},
     "output_type": "execute_result"
    }
   ],
   "source": [
    "y_train.shape, y_test.shape"
   ]
  },
  {
   "cell_type": "code",
   "execution_count": 375,
   "id": "6c308abd",
   "metadata": {},
   "outputs": [],
   "source": [
    "n_estimators = range(100,101)\n",
    "random_state = range(2023,2024)\n",
    "max_features= range(1,22)\n",
    "min_samples_leaf = range(1,5)\n",
    "max_depth = [3, 5, 8, 10, 15, 20, 25, 30, 35, 40, None] "
   ]
  },
  {
   "cell_type": "code",
   "execution_count": 376,
   "id": "aac247a4",
   "metadata": {},
   "outputs": [],
   "source": [
    "param_grid = {'n_estimators': n_estimators,\n",
    "              'max_features': max_features,\n",
    "             'random_state': random_state,\n",
    "             'min_samples_leaf': min_samples_leaf,\n",
    "             'max_depth': max_depth}"
   ]
  },
  {
   "cell_type": "code",
   "execution_count": 377,
   "id": "e8b30596",
   "metadata": {},
   "outputs": [],
   "source": [
    "grid = GridSearchCV(RandomForestRegressor(), param_grid, cv=10,n_jobs = -1,return_train_score=False)"
   ]
  },
  {
   "cell_type": "code",
   "execution_count": 378,
   "id": "83363a8c",
   "metadata": {},
   "outputs": [],
   "source": [
    "begin_time = time()"
   ]
  },
  {
   "cell_type": "code",
   "execution_count": 379,
   "id": "727b98bc",
   "metadata": {},
   "outputs": [
    {
     "data": {
      "text/html": [
       "<style>#sk-container-id-14 {color: black;background-color: white;}#sk-container-id-14 pre{padding: 0;}#sk-container-id-14 div.sk-toggleable {background-color: white;}#sk-container-id-14 label.sk-toggleable__label {cursor: pointer;display: block;width: 100%;margin-bottom: 0;padding: 0.3em;box-sizing: border-box;text-align: center;}#sk-container-id-14 label.sk-toggleable__label-arrow:before {content: \"▸\";float: left;margin-right: 0.25em;color: #696969;}#sk-container-id-14 label.sk-toggleable__label-arrow:hover:before {color: black;}#sk-container-id-14 div.sk-estimator:hover label.sk-toggleable__label-arrow:before {color: black;}#sk-container-id-14 div.sk-toggleable__content {max-height: 0;max-width: 0;overflow: hidden;text-align: left;background-color: #f0f8ff;}#sk-container-id-14 div.sk-toggleable__content pre {margin: 0.2em;color: black;border-radius: 0.25em;background-color: #f0f8ff;}#sk-container-id-14 input.sk-toggleable__control:checked~div.sk-toggleable__content {max-height: 200px;max-width: 100%;overflow: auto;}#sk-container-id-14 input.sk-toggleable__control:checked~label.sk-toggleable__label-arrow:before {content: \"▾\";}#sk-container-id-14 div.sk-estimator input.sk-toggleable__control:checked~label.sk-toggleable__label {background-color: #d4ebff;}#sk-container-id-14 div.sk-label input.sk-toggleable__control:checked~label.sk-toggleable__label {background-color: #d4ebff;}#sk-container-id-14 input.sk-hidden--visually {border: 0;clip: rect(1px 1px 1px 1px);clip: rect(1px, 1px, 1px, 1px);height: 1px;margin: -1px;overflow: hidden;padding: 0;position: absolute;width: 1px;}#sk-container-id-14 div.sk-estimator {font-family: monospace;background-color: #f0f8ff;border: 1px dotted black;border-radius: 0.25em;box-sizing: border-box;margin-bottom: 0.5em;}#sk-container-id-14 div.sk-estimator:hover {background-color: #d4ebff;}#sk-container-id-14 div.sk-parallel-item::after {content: \"\";width: 100%;border-bottom: 1px solid gray;flex-grow: 1;}#sk-container-id-14 div.sk-label:hover label.sk-toggleable__label {background-color: #d4ebff;}#sk-container-id-14 div.sk-serial::before {content: \"\";position: absolute;border-left: 1px solid gray;box-sizing: border-box;top: 0;bottom: 0;left: 50%;z-index: 0;}#sk-container-id-14 div.sk-serial {display: flex;flex-direction: column;align-items: center;background-color: white;padding-right: 0.2em;padding-left: 0.2em;position: relative;}#sk-container-id-14 div.sk-item {position: relative;z-index: 1;}#sk-container-id-14 div.sk-parallel {display: flex;align-items: stretch;justify-content: center;background-color: white;position: relative;}#sk-container-id-14 div.sk-item::before, #sk-container-id-14 div.sk-parallel-item::before {content: \"\";position: absolute;border-left: 1px solid gray;box-sizing: border-box;top: 0;bottom: 0;left: 50%;z-index: -1;}#sk-container-id-14 div.sk-parallel-item {display: flex;flex-direction: column;z-index: 1;position: relative;background-color: white;}#sk-container-id-14 div.sk-parallel-item:first-child::after {align-self: flex-end;width: 50%;}#sk-container-id-14 div.sk-parallel-item:last-child::after {align-self: flex-start;width: 50%;}#sk-container-id-14 div.sk-parallel-item:only-child::after {width: 0;}#sk-container-id-14 div.sk-dashed-wrapped {border: 1px dashed gray;margin: 0 0.4em 0.5em 0.4em;box-sizing: border-box;padding-bottom: 0.4em;background-color: white;}#sk-container-id-14 div.sk-label label {font-family: monospace;font-weight: bold;display: inline-block;line-height: 1.2em;}#sk-container-id-14 div.sk-label-container {text-align: center;}#sk-container-id-14 div.sk-container {/* jupyter's `normalize.less` sets `[hidden] { display: none; }` but bootstrap.min.css set `[hidden] { display: none !important; }` so we also need the `!important` here to be able to override the default hidden behavior on the sphinx rendered scikit-learn.org. See: https://github.com/scikit-learn/scikit-learn/issues/21755 */display: inline-block !important;position: relative;}#sk-container-id-14 div.sk-text-repr-fallback {display: none;}</style><div id=\"sk-container-id-14\" class=\"sk-top-container\"><div class=\"sk-text-repr-fallback\"><pre>GridSearchCV(cv=10, estimator=RandomForestRegressor(), n_jobs=-1,\n",
       "             param_grid={&#x27;max_depth&#x27;: [3, 5, 8, 10, 15, 20, 25, 30, 35, 40,\n",
       "                                       None],\n",
       "                         &#x27;max_features&#x27;: range(1, 22),\n",
       "                         &#x27;min_samples_leaf&#x27;: range(1, 5),\n",
       "                         &#x27;n_estimators&#x27;: range(100, 101),\n",
       "                         &#x27;random_state&#x27;: range(2023, 2024)})</pre><b>In a Jupyter environment, please rerun this cell to show the HTML representation or trust the notebook. <br />On GitHub, the HTML representation is unable to render, please try loading this page with nbviewer.org.</b></div><div class=\"sk-container\" hidden><div class=\"sk-item sk-dashed-wrapped\"><div class=\"sk-label-container\"><div class=\"sk-label sk-toggleable\"><input class=\"sk-toggleable__control sk-hidden--visually\" id=\"sk-estimator-id-22\" type=\"checkbox\" ><label for=\"sk-estimator-id-22\" class=\"sk-toggleable__label sk-toggleable__label-arrow\">GridSearchCV</label><div class=\"sk-toggleable__content\"><pre>GridSearchCV(cv=10, estimator=RandomForestRegressor(), n_jobs=-1,\n",
       "             param_grid={&#x27;max_depth&#x27;: [3, 5, 8, 10, 15, 20, 25, 30, 35, 40,\n",
       "                                       None],\n",
       "                         &#x27;max_features&#x27;: range(1, 22),\n",
       "                         &#x27;min_samples_leaf&#x27;: range(1, 5),\n",
       "                         &#x27;n_estimators&#x27;: range(100, 101),\n",
       "                         &#x27;random_state&#x27;: range(2023, 2024)})</pre></div></div></div><div class=\"sk-parallel\"><div class=\"sk-parallel-item\"><div class=\"sk-item\"><div class=\"sk-label-container\"><div class=\"sk-label sk-toggleable\"><input class=\"sk-toggleable__control sk-hidden--visually\" id=\"sk-estimator-id-23\" type=\"checkbox\" ><label for=\"sk-estimator-id-23\" class=\"sk-toggleable__label sk-toggleable__label-arrow\">estimator: RandomForestRegressor</label><div class=\"sk-toggleable__content\"><pre>RandomForestRegressor()</pre></div></div></div><div class=\"sk-serial\"><div class=\"sk-item\"><div class=\"sk-estimator sk-toggleable\"><input class=\"sk-toggleable__control sk-hidden--visually\" id=\"sk-estimator-id-24\" type=\"checkbox\" ><label for=\"sk-estimator-id-24\" class=\"sk-toggleable__label sk-toggleable__label-arrow\">RandomForestRegressor</label><div class=\"sk-toggleable__content\"><pre>RandomForestRegressor()</pre></div></div></div></div></div></div></div></div></div></div>"
      ],
      "text/plain": [
       "GridSearchCV(cv=10, estimator=RandomForestRegressor(), n_jobs=-1,\n",
       "             param_grid={'max_depth': [3, 5, 8, 10, 15, 20, 25, 30, 35, 40,\n",
       "                                       None],\n",
       "                         'max_features': range(1, 22),\n",
       "                         'min_samples_leaf': range(1, 5),\n",
       "                         'n_estimators': range(100, 101),\n",
       "                         'random_state': range(2023, 2024)})"
      ]
     },
     "execution_count": 379,
     "metadata": {},
     "output_type": "execute_result"
    }
   ],
   "source": [
    "grid.fit(x_train, y_train.ravel())\n",
    "#grid.fit(X, Y.ravel())"
   ]
  },
  {
   "cell_type": "code",
   "execution_count": 380,
   "id": "7de19d46",
   "metadata": {},
   "outputs": [
    {
     "name": "stdout",
     "output_type": "stream",
     "text": [
      "time cost： 6.464568634827931 min\n"
     ]
    }
   ],
   "source": [
    "end_time = time()\n",
    "run_time = end_time-begin_time\n",
    "print ('time cost：',run_time/60, 'min') "
   ]
  },
  {
   "cell_type": "code",
   "execution_count": 381,
   "id": "5f8698db",
   "metadata": {},
   "outputs": [
    {
     "data": {
      "text/plain": [
       "{'max_depth': 25,\n",
       " 'max_features': 17,\n",
       " 'min_samples_leaf': 1,\n",
       " 'n_estimators': 100,\n",
       " 'random_state': 2023}"
      ]
     },
     "execution_count": 381,
     "metadata": {},
     "output_type": "execute_result"
    }
   ],
   "source": [
    "grid.best_params_"
   ]
  },
  {
   "cell_type": "code",
   "execution_count": 382,
   "id": "d81582b6",
   "metadata": {},
   "outputs": [],
   "source": [
    "n_estimators = range(500,501)\n",
    "random_state = range(2023,2024)\n",
    "max_features= range(6,22)\n",
    "min_samples_leaf = range(1,2)\n",
    "max_depth = [15, 20, 25, 30, 35, 40, None]"
   ]
  },
  {
   "cell_type": "code",
   "execution_count": 383,
   "id": "9e4a4810",
   "metadata": {},
   "outputs": [],
   "source": [
    "param_grid = {'n_estimators': n_estimators,\n",
    "              'max_features': max_features,\n",
    "             'random_state': random_state,\n",
    "             'min_samples_leaf': min_samples_leaf,\n",
    "             'max_depth': max_depth}"
   ]
  },
  {
   "cell_type": "code",
   "execution_count": 384,
   "id": "91e0059d",
   "metadata": {},
   "outputs": [],
   "source": [
    "grid = GridSearchCV(RandomForestRegressor(), param_grid, cv=10,n_jobs = 7,return_train_score=False)"
   ]
  },
  {
   "cell_type": "code",
   "execution_count": 385,
   "id": "49a362e1",
   "metadata": {},
   "outputs": [],
   "source": [
    "begin_time = time()"
   ]
  },
  {
   "cell_type": "code",
   "execution_count": 386,
   "id": "2d781ce9",
   "metadata": {},
   "outputs": [
    {
     "data": {
      "text/html": [
       "<style>#sk-container-id-15 {color: black;background-color: white;}#sk-container-id-15 pre{padding: 0;}#sk-container-id-15 div.sk-toggleable {background-color: white;}#sk-container-id-15 label.sk-toggleable__label {cursor: pointer;display: block;width: 100%;margin-bottom: 0;padding: 0.3em;box-sizing: border-box;text-align: center;}#sk-container-id-15 label.sk-toggleable__label-arrow:before {content: \"▸\";float: left;margin-right: 0.25em;color: #696969;}#sk-container-id-15 label.sk-toggleable__label-arrow:hover:before {color: black;}#sk-container-id-15 div.sk-estimator:hover label.sk-toggleable__label-arrow:before {color: black;}#sk-container-id-15 div.sk-toggleable__content {max-height: 0;max-width: 0;overflow: hidden;text-align: left;background-color: #f0f8ff;}#sk-container-id-15 div.sk-toggleable__content pre {margin: 0.2em;color: black;border-radius: 0.25em;background-color: #f0f8ff;}#sk-container-id-15 input.sk-toggleable__control:checked~div.sk-toggleable__content {max-height: 200px;max-width: 100%;overflow: auto;}#sk-container-id-15 input.sk-toggleable__control:checked~label.sk-toggleable__label-arrow:before {content: \"▾\";}#sk-container-id-15 div.sk-estimator input.sk-toggleable__control:checked~label.sk-toggleable__label {background-color: #d4ebff;}#sk-container-id-15 div.sk-label input.sk-toggleable__control:checked~label.sk-toggleable__label {background-color: #d4ebff;}#sk-container-id-15 input.sk-hidden--visually {border: 0;clip: rect(1px 1px 1px 1px);clip: rect(1px, 1px, 1px, 1px);height: 1px;margin: -1px;overflow: hidden;padding: 0;position: absolute;width: 1px;}#sk-container-id-15 div.sk-estimator {font-family: monospace;background-color: #f0f8ff;border: 1px dotted black;border-radius: 0.25em;box-sizing: border-box;margin-bottom: 0.5em;}#sk-container-id-15 div.sk-estimator:hover {background-color: #d4ebff;}#sk-container-id-15 div.sk-parallel-item::after {content: \"\";width: 100%;border-bottom: 1px solid gray;flex-grow: 1;}#sk-container-id-15 div.sk-label:hover label.sk-toggleable__label {background-color: #d4ebff;}#sk-container-id-15 div.sk-serial::before {content: \"\";position: absolute;border-left: 1px solid gray;box-sizing: border-box;top: 0;bottom: 0;left: 50%;z-index: 0;}#sk-container-id-15 div.sk-serial {display: flex;flex-direction: column;align-items: center;background-color: white;padding-right: 0.2em;padding-left: 0.2em;position: relative;}#sk-container-id-15 div.sk-item {position: relative;z-index: 1;}#sk-container-id-15 div.sk-parallel {display: flex;align-items: stretch;justify-content: center;background-color: white;position: relative;}#sk-container-id-15 div.sk-item::before, #sk-container-id-15 div.sk-parallel-item::before {content: \"\";position: absolute;border-left: 1px solid gray;box-sizing: border-box;top: 0;bottom: 0;left: 50%;z-index: -1;}#sk-container-id-15 div.sk-parallel-item {display: flex;flex-direction: column;z-index: 1;position: relative;background-color: white;}#sk-container-id-15 div.sk-parallel-item:first-child::after {align-self: flex-end;width: 50%;}#sk-container-id-15 div.sk-parallel-item:last-child::after {align-self: flex-start;width: 50%;}#sk-container-id-15 div.sk-parallel-item:only-child::after {width: 0;}#sk-container-id-15 div.sk-dashed-wrapped {border: 1px dashed gray;margin: 0 0.4em 0.5em 0.4em;box-sizing: border-box;padding-bottom: 0.4em;background-color: white;}#sk-container-id-15 div.sk-label label {font-family: monospace;font-weight: bold;display: inline-block;line-height: 1.2em;}#sk-container-id-15 div.sk-label-container {text-align: center;}#sk-container-id-15 div.sk-container {/* jupyter's `normalize.less` sets `[hidden] { display: none; }` but bootstrap.min.css set `[hidden] { display: none !important; }` so we also need the `!important` here to be able to override the default hidden behavior on the sphinx rendered scikit-learn.org. See: https://github.com/scikit-learn/scikit-learn/issues/21755 */display: inline-block !important;position: relative;}#sk-container-id-15 div.sk-text-repr-fallback {display: none;}</style><div id=\"sk-container-id-15\" class=\"sk-top-container\"><div class=\"sk-text-repr-fallback\"><pre>GridSearchCV(cv=10, estimator=RandomForestRegressor(), n_jobs=7,\n",
       "             param_grid={&#x27;max_depth&#x27;: [15, 20, 25, 30, 35, 40, None],\n",
       "                         &#x27;max_features&#x27;: range(6, 22),\n",
       "                         &#x27;min_samples_leaf&#x27;: range(1, 2),\n",
       "                         &#x27;n_estimators&#x27;: range(500, 501),\n",
       "                         &#x27;random_state&#x27;: range(2023, 2024)})</pre><b>In a Jupyter environment, please rerun this cell to show the HTML representation or trust the notebook. <br />On GitHub, the HTML representation is unable to render, please try loading this page with nbviewer.org.</b></div><div class=\"sk-container\" hidden><div class=\"sk-item sk-dashed-wrapped\"><div class=\"sk-label-container\"><div class=\"sk-label sk-toggleable\"><input class=\"sk-toggleable__control sk-hidden--visually\" id=\"sk-estimator-id-25\" type=\"checkbox\" ><label for=\"sk-estimator-id-25\" class=\"sk-toggleable__label sk-toggleable__label-arrow\">GridSearchCV</label><div class=\"sk-toggleable__content\"><pre>GridSearchCV(cv=10, estimator=RandomForestRegressor(), n_jobs=7,\n",
       "             param_grid={&#x27;max_depth&#x27;: [15, 20, 25, 30, 35, 40, None],\n",
       "                         &#x27;max_features&#x27;: range(6, 22),\n",
       "                         &#x27;min_samples_leaf&#x27;: range(1, 2),\n",
       "                         &#x27;n_estimators&#x27;: range(500, 501),\n",
       "                         &#x27;random_state&#x27;: range(2023, 2024)})</pre></div></div></div><div class=\"sk-parallel\"><div class=\"sk-parallel-item\"><div class=\"sk-item\"><div class=\"sk-label-container\"><div class=\"sk-label sk-toggleable\"><input class=\"sk-toggleable__control sk-hidden--visually\" id=\"sk-estimator-id-26\" type=\"checkbox\" ><label for=\"sk-estimator-id-26\" class=\"sk-toggleable__label sk-toggleable__label-arrow\">estimator: RandomForestRegressor</label><div class=\"sk-toggleable__content\"><pre>RandomForestRegressor()</pre></div></div></div><div class=\"sk-serial\"><div class=\"sk-item\"><div class=\"sk-estimator sk-toggleable\"><input class=\"sk-toggleable__control sk-hidden--visually\" id=\"sk-estimator-id-27\" type=\"checkbox\" ><label for=\"sk-estimator-id-27\" class=\"sk-toggleable__label sk-toggleable__label-arrow\">RandomForestRegressor</label><div class=\"sk-toggleable__content\"><pre>RandomForestRegressor()</pre></div></div></div></div></div></div></div></div></div></div>"
      ],
      "text/plain": [
       "GridSearchCV(cv=10, estimator=RandomForestRegressor(), n_jobs=7,\n",
       "             param_grid={'max_depth': [15, 20, 25, 30, 35, 40, None],\n",
       "                         'max_features': range(6, 22),\n",
       "                         'min_samples_leaf': range(1, 2),\n",
       "                         'n_estimators': range(500, 501),\n",
       "                         'random_state': range(2023, 2024)})"
      ]
     },
     "execution_count": 386,
     "metadata": {},
     "output_type": "execute_result"
    }
   ],
   "source": [
    "grid.fit(x_train, y_train.ravel())\n",
    "#grid.fit(X, Y.ravel())"
   ]
  },
  {
   "cell_type": "code",
   "execution_count": 387,
   "id": "23409cbf",
   "metadata": {},
   "outputs": [
    {
     "name": "stdout",
     "output_type": "stream",
     "text": [
      "time cost： 8.312330182393392 min\n"
     ]
    }
   ],
   "source": [
    "end_time = time()\n",
    "run_time = end_time-begin_time\n",
    "print ('time cost：',run_time/60, 'min') "
   ]
  },
  {
   "cell_type": "code",
   "execution_count": 388,
   "id": "c3c2712b",
   "metadata": {},
   "outputs": [
    {
     "data": {
      "text/plain": [
       "{'max_depth': 20,\n",
       " 'max_features': 11,\n",
       " 'min_samples_leaf': 1,\n",
       " 'n_estimators': 500,\n",
       " 'random_state': 2023}"
      ]
     },
     "execution_count": 388,
     "metadata": {},
     "output_type": "execute_result"
    }
   ],
   "source": [
    "grid.best_params_"
   ]
  },
  {
   "cell_type": "code",
   "execution_count": 389,
   "id": "26681d6d",
   "metadata": {},
   "outputs": [
    {
     "data": {
      "text/plain": [
       "0.793153978833463"
      ]
     },
     "execution_count": 389,
     "metadata": {},
     "output_type": "execute_result"
    }
   ],
   "source": [
    "grid.score(x_test, y_test)"
   ]
  },
  {
   "cell_type": "code",
   "execution_count": 392,
   "id": "decc04dc",
   "metadata": {},
   "outputs": [
    {
     "data": {
      "text/plain": [
       "0.9190411677147101"
      ]
     },
     "execution_count": 392,
     "metadata": {},
     "output_type": "execute_result"
    }
   ],
   "source": [
    "grid.score(x_train, y_train)"
   ]
  },
  {
   "cell_type": "code",
   "execution_count": 393,
   "id": "8f6c2dff",
   "metadata": {},
   "outputs": [
    {
     "data": {
      "text/plain": [
       "0.8792060120099658"
      ]
     },
     "execution_count": 393,
     "metadata": {},
     "output_type": "execute_result"
    }
   ],
   "source": [
    "np.sqrt(mean_squared_error(grid.predict(x_test), y_test))"
   ]
  },
  {
   "cell_type": "code",
   "execution_count": 394,
   "id": "5a43177e",
   "metadata": {},
   "outputs": [
    {
     "data": {
      "text/plain": [
       "0.6354907500245996"
      ]
     },
     "execution_count": 394,
     "metadata": {},
     "output_type": "execute_result"
    }
   ],
   "source": [
    "np.sqrt(mean_squared_error(grid.predict(X), Y))"
   ]
  },
  {
   "cell_type": "code",
   "execution_count": 396,
   "id": "534cd970",
   "metadata": {},
   "outputs": [
    {
     "data": {
      "text/plain": [
       "mean_fit_time                                                                                                         3.06346\n",
       "std_fit_time                                                                                                          0.05099\n",
       "mean_score_time                                                                                                       0.06938\n",
       "std_score_time                                                                                                        0.01441\n",
       "param_max_depth                                                                                                            20\n",
       "param_max_features                                                                                                         11\n",
       "param_min_samples_leaf                                                                                                      1\n",
       "param_n_estimators                                                                                                        500\n",
       "param_random_state                                                                                                       2023\n",
       "params                    {'max_depth': 20, 'max_features': 11, 'min_samples_leaf': 1, 'n_estimators': 500, 'random_state'...\n",
       "split0_test_score                                                                                                     0.57483\n",
       "split1_test_score                                                                                                     0.70695\n",
       "split2_test_score                                                                                                     0.74495\n",
       "split3_test_score                                                                                                     0.64494\n",
       "split4_test_score                                                                                                     0.66097\n",
       "split5_test_score                                                                                                     0.58246\n",
       "split6_test_score                                                                                                     0.69516\n",
       "split7_test_score                                                                                                     0.65125\n",
       "split8_test_score                                                                                                     0.66296\n",
       "split9_test_score                                                                                                     0.71157\n",
       "mean_test_score                                                                                                       0.66361\n",
       "std_test_score                                                                                                        0.05174\n",
       "rank_test_score                                                                                                             1\n",
       "Name: 21, dtype: object"
      ]
     },
     "execution_count": 396,
     "metadata": {},
     "output_type": "execute_result"
    }
   ],
   "source": [
    "pd.DataFrame(grid.cv_results_).iloc[grid.best_index_,:]"
   ]
  },
  {
   "cell_type": "code",
   "execution_count": 397,
   "id": "ce76800b",
   "metadata": {},
   "outputs": [
    {
     "data": {
      "text/html": [
       "<style>#sk-container-id-16 {color: black;background-color: white;}#sk-container-id-16 pre{padding: 0;}#sk-container-id-16 div.sk-toggleable {background-color: white;}#sk-container-id-16 label.sk-toggleable__label {cursor: pointer;display: block;width: 100%;margin-bottom: 0;padding: 0.3em;box-sizing: border-box;text-align: center;}#sk-container-id-16 label.sk-toggleable__label-arrow:before {content: \"▸\";float: left;margin-right: 0.25em;color: #696969;}#sk-container-id-16 label.sk-toggleable__label-arrow:hover:before {color: black;}#sk-container-id-16 div.sk-estimator:hover label.sk-toggleable__label-arrow:before {color: black;}#sk-container-id-16 div.sk-toggleable__content {max-height: 0;max-width: 0;overflow: hidden;text-align: left;background-color: #f0f8ff;}#sk-container-id-16 div.sk-toggleable__content pre {margin: 0.2em;color: black;border-radius: 0.25em;background-color: #f0f8ff;}#sk-container-id-16 input.sk-toggleable__control:checked~div.sk-toggleable__content {max-height: 200px;max-width: 100%;overflow: auto;}#sk-container-id-16 input.sk-toggleable__control:checked~label.sk-toggleable__label-arrow:before {content: \"▾\";}#sk-container-id-16 div.sk-estimator input.sk-toggleable__control:checked~label.sk-toggleable__label {background-color: #d4ebff;}#sk-container-id-16 div.sk-label input.sk-toggleable__control:checked~label.sk-toggleable__label {background-color: #d4ebff;}#sk-container-id-16 input.sk-hidden--visually {border: 0;clip: rect(1px 1px 1px 1px);clip: rect(1px, 1px, 1px, 1px);height: 1px;margin: -1px;overflow: hidden;padding: 0;position: absolute;width: 1px;}#sk-container-id-16 div.sk-estimator {font-family: monospace;background-color: #f0f8ff;border: 1px dotted black;border-radius: 0.25em;box-sizing: border-box;margin-bottom: 0.5em;}#sk-container-id-16 div.sk-estimator:hover {background-color: #d4ebff;}#sk-container-id-16 div.sk-parallel-item::after {content: \"\";width: 100%;border-bottom: 1px solid gray;flex-grow: 1;}#sk-container-id-16 div.sk-label:hover label.sk-toggleable__label {background-color: #d4ebff;}#sk-container-id-16 div.sk-serial::before {content: \"\";position: absolute;border-left: 1px solid gray;box-sizing: border-box;top: 0;bottom: 0;left: 50%;z-index: 0;}#sk-container-id-16 div.sk-serial {display: flex;flex-direction: column;align-items: center;background-color: white;padding-right: 0.2em;padding-left: 0.2em;position: relative;}#sk-container-id-16 div.sk-item {position: relative;z-index: 1;}#sk-container-id-16 div.sk-parallel {display: flex;align-items: stretch;justify-content: center;background-color: white;position: relative;}#sk-container-id-16 div.sk-item::before, #sk-container-id-16 div.sk-parallel-item::before {content: \"\";position: absolute;border-left: 1px solid gray;box-sizing: border-box;top: 0;bottom: 0;left: 50%;z-index: -1;}#sk-container-id-16 div.sk-parallel-item {display: flex;flex-direction: column;z-index: 1;position: relative;background-color: white;}#sk-container-id-16 div.sk-parallel-item:first-child::after {align-self: flex-end;width: 50%;}#sk-container-id-16 div.sk-parallel-item:last-child::after {align-self: flex-start;width: 50%;}#sk-container-id-16 div.sk-parallel-item:only-child::after {width: 0;}#sk-container-id-16 div.sk-dashed-wrapped {border: 1px dashed gray;margin: 0 0.4em 0.5em 0.4em;box-sizing: border-box;padding-bottom: 0.4em;background-color: white;}#sk-container-id-16 div.sk-label label {font-family: monospace;font-weight: bold;display: inline-block;line-height: 1.2em;}#sk-container-id-16 div.sk-label-container {text-align: center;}#sk-container-id-16 div.sk-container {/* jupyter's `normalize.less` sets `[hidden] { display: none; }` but bootstrap.min.css set `[hidden] { display: none !important; }` so we also need the `!important` here to be able to override the default hidden behavior on the sphinx rendered scikit-learn.org. See: https://github.com/scikit-learn/scikit-learn/issues/21755 */display: inline-block !important;position: relative;}#sk-container-id-16 div.sk-text-repr-fallback {display: none;}</style><div id=\"sk-container-id-16\" class=\"sk-top-container\"><div class=\"sk-text-repr-fallback\"><pre>RandomForestRegressor(max_depth=20, max_features=11, n_estimators=500,\n",
       "                      n_jobs=14, oob_score=True, random_state=2023)</pre><b>In a Jupyter environment, please rerun this cell to show the HTML representation or trust the notebook. <br />On GitHub, the HTML representation is unable to render, please try loading this page with nbviewer.org.</b></div><div class=\"sk-container\" hidden><div class=\"sk-item\"><div class=\"sk-estimator sk-toggleable\"><input class=\"sk-toggleable__control sk-hidden--visually\" id=\"sk-estimator-id-28\" type=\"checkbox\" checked><label for=\"sk-estimator-id-28\" class=\"sk-toggleable__label sk-toggleable__label-arrow\">RandomForestRegressor</label><div class=\"sk-toggleable__content\"><pre>RandomForestRegressor(max_depth=20, max_features=11, n_estimators=500,\n",
       "                      n_jobs=14, oob_score=True, random_state=2023)</pre></div></div></div></div></div>"
      ],
      "text/plain": [
       "RandomForestRegressor(max_depth=20, max_features=11, n_estimators=500,\n",
       "                      n_jobs=14, oob_score=True, random_state=2023)"
      ]
     },
     "execution_count": 397,
     "metadata": {},
     "output_type": "execute_result"
    }
   ],
   "source": [
    "RF = RandomForestRegressor(n_estimators=grid.best_params_['n_estimators'], max_features=grid.best_params_['max_features'],min_samples_leaf = grid.best_params_['min_samples_leaf'],max_depth = grid.best_params_['max_depth'],oob_score = True,random_state=grid.best_params_['random_state'],n_jobs=14)\n",
    "RF.fit(x_train, y_train.ravel())"
   ]
  },
  {
   "cell_type": "code",
   "execution_count": 398,
   "id": "728d7401",
   "metadata": {},
   "outputs": [
    {
     "data": {
      "text/html": [
       "<style>#sk-container-id-17 {color: black;background-color: white;}#sk-container-id-17 pre{padding: 0;}#sk-container-id-17 div.sk-toggleable {background-color: white;}#sk-container-id-17 label.sk-toggleable__label {cursor: pointer;display: block;width: 100%;margin-bottom: 0;padding: 0.3em;box-sizing: border-box;text-align: center;}#sk-container-id-17 label.sk-toggleable__label-arrow:before {content: \"▸\";float: left;margin-right: 0.25em;color: #696969;}#sk-container-id-17 label.sk-toggleable__label-arrow:hover:before {color: black;}#sk-container-id-17 div.sk-estimator:hover label.sk-toggleable__label-arrow:before {color: black;}#sk-container-id-17 div.sk-toggleable__content {max-height: 0;max-width: 0;overflow: hidden;text-align: left;background-color: #f0f8ff;}#sk-container-id-17 div.sk-toggleable__content pre {margin: 0.2em;color: black;border-radius: 0.25em;background-color: #f0f8ff;}#sk-container-id-17 input.sk-toggleable__control:checked~div.sk-toggleable__content {max-height: 200px;max-width: 100%;overflow: auto;}#sk-container-id-17 input.sk-toggleable__control:checked~label.sk-toggleable__label-arrow:before {content: \"▾\";}#sk-container-id-17 div.sk-estimator input.sk-toggleable__control:checked~label.sk-toggleable__label {background-color: #d4ebff;}#sk-container-id-17 div.sk-label input.sk-toggleable__control:checked~label.sk-toggleable__label {background-color: #d4ebff;}#sk-container-id-17 input.sk-hidden--visually {border: 0;clip: rect(1px 1px 1px 1px);clip: rect(1px, 1px, 1px, 1px);height: 1px;margin: -1px;overflow: hidden;padding: 0;position: absolute;width: 1px;}#sk-container-id-17 div.sk-estimator {font-family: monospace;background-color: #f0f8ff;border: 1px dotted black;border-radius: 0.25em;box-sizing: border-box;margin-bottom: 0.5em;}#sk-container-id-17 div.sk-estimator:hover {background-color: #d4ebff;}#sk-container-id-17 div.sk-parallel-item::after {content: \"\";width: 100%;border-bottom: 1px solid gray;flex-grow: 1;}#sk-container-id-17 div.sk-label:hover label.sk-toggleable__label {background-color: #d4ebff;}#sk-container-id-17 div.sk-serial::before {content: \"\";position: absolute;border-left: 1px solid gray;box-sizing: border-box;top: 0;bottom: 0;left: 50%;z-index: 0;}#sk-container-id-17 div.sk-serial {display: flex;flex-direction: column;align-items: center;background-color: white;padding-right: 0.2em;padding-left: 0.2em;position: relative;}#sk-container-id-17 div.sk-item {position: relative;z-index: 1;}#sk-container-id-17 div.sk-parallel {display: flex;align-items: stretch;justify-content: center;background-color: white;position: relative;}#sk-container-id-17 div.sk-item::before, #sk-container-id-17 div.sk-parallel-item::before {content: \"\";position: absolute;border-left: 1px solid gray;box-sizing: border-box;top: 0;bottom: 0;left: 50%;z-index: -1;}#sk-container-id-17 div.sk-parallel-item {display: flex;flex-direction: column;z-index: 1;position: relative;background-color: white;}#sk-container-id-17 div.sk-parallel-item:first-child::after {align-self: flex-end;width: 50%;}#sk-container-id-17 div.sk-parallel-item:last-child::after {align-self: flex-start;width: 50%;}#sk-container-id-17 div.sk-parallel-item:only-child::after {width: 0;}#sk-container-id-17 div.sk-dashed-wrapped {border: 1px dashed gray;margin: 0 0.4em 0.5em 0.4em;box-sizing: border-box;padding-bottom: 0.4em;background-color: white;}#sk-container-id-17 div.sk-label label {font-family: monospace;font-weight: bold;display: inline-block;line-height: 1.2em;}#sk-container-id-17 div.sk-label-container {text-align: center;}#sk-container-id-17 div.sk-container {/* jupyter's `normalize.less` sets `[hidden] { display: none; }` but bootstrap.min.css set `[hidden] { display: none !important; }` so we also need the `!important` here to be able to override the default hidden behavior on the sphinx rendered scikit-learn.org. See: https://github.com/scikit-learn/scikit-learn/issues/21755 */display: inline-block !important;position: relative;}#sk-container-id-17 div.sk-text-repr-fallback {display: none;}</style><div id=\"sk-container-id-17\" class=\"sk-top-container\"><div class=\"sk-text-repr-fallback\"><pre>RandomForestRegressor(max_depth=20, max_features=11, n_estimators=500,\n",
       "                      n_jobs=14, oob_score=True, random_state=2023)</pre><b>In a Jupyter environment, please rerun this cell to show the HTML representation or trust the notebook. <br />On GitHub, the HTML representation is unable to render, please try loading this page with nbviewer.org.</b></div><div class=\"sk-container\" hidden><div class=\"sk-item\"><div class=\"sk-estimator sk-toggleable\"><input class=\"sk-toggleable__control sk-hidden--visually\" id=\"sk-estimator-id-29\" type=\"checkbox\" checked><label for=\"sk-estimator-id-29\" class=\"sk-toggleable__label sk-toggleable__label-arrow\">RandomForestRegressor</label><div class=\"sk-toggleable__content\"><pre>RandomForestRegressor(max_depth=20, max_features=11, n_estimators=500,\n",
       "                      n_jobs=14, oob_score=True, random_state=2023)</pre></div></div></div></div></div>"
      ],
      "text/plain": [
       "RandomForestRegressor(max_depth=20, max_features=11, n_estimators=500,\n",
       "                      n_jobs=14, oob_score=True, random_state=2023)"
      ]
     },
     "execution_count": 398,
     "metadata": {},
     "output_type": "execute_result"
    }
   ],
   "source": [
    "RF"
   ]
  },
  {
   "cell_type": "code",
   "execution_count": 399,
   "id": "0ac28a6a",
   "metadata": {},
   "outputs": [
    {
     "data": {
      "text/plain": [
       "['E:\\\\OneDrive - HKUST Connect\\\\Research\\\\nh3_ml\\\\model\\\\RF_V6_alldatatraining_trainingset_100bootstrap_1000Nmax.pkl']"
      ]
     },
     "execution_count": 399,
     "metadata": {},
     "output_type": "execute_result"
    }
   ],
   "source": [
    "joblib.dump(RF,'E:\\\\OneDrive - HKUST Connect\\\\Research\\\\nh3_ml\\\\model\\\\RF_V6_alldatatraining_trainingset_100bootstrap_1000Nmax.pkl') #save model"
   ]
  },
  {
   "cell_type": "code",
   "execution_count": 400,
   "id": "46b6304a",
   "metadata": {},
   "outputs": [
    {
     "data": {
      "text/plain": [
       "0.793153978833463"
      ]
     },
     "execution_count": 400,
     "metadata": {},
     "output_type": "execute_result"
    }
   ],
   "source": [
    "RF.score(x_test, y_test)"
   ]
  },
  {
   "cell_type": "code",
   "execution_count": null,
   "id": "c3f8ce5d",
   "metadata": {},
   "outputs": [],
   "source": []
  },
  {
   "cell_type": "code",
   "execution_count": 401,
   "id": "375e64f9",
   "metadata": {},
   "outputs": [],
   "source": [
    "from sklearn.metrics import mean_absolute_error\n",
    "from sklearn.metrics import max_error\n",
    "from quantile_forest import RandomForestQuantileRegressor"
   ]
  },
  {
   "cell_type": "code",
   "execution_count": null,
   "id": "08a8c477",
   "metadata": {},
   "outputs": [],
   "source": []
  },
  {
   "cell_type": "code",
   "execution_count": 402,
   "id": "c35d9f77",
   "metadata": {},
   "outputs": [
    {
     "name": "stderr",
     "output_type": "stream",
     "text": [
      "<ipython-input-402-1c307f09e766>:2: TqdmDeprecationWarning: This function will be removed in tqdm==5.0.0\n",
      "Please use `tqdm.notebook.tqdm` instead of `tqdm.tqdm_notebook`\n",
      "  for i in tqdm_notebook(range(5,104)):\n"
     ]
    },
    {
     "data": {
      "application/vnd.jupyter.widget-view+json": {
       "model_id": "f002551085874a93ab923618dd5594ef",
       "version_major": 2,
       "version_minor": 0
      },
      "text/plain": [
       "  0%|          | 0/99 [00:00<?, ?it/s]"
      ]
     },
     "metadata": {},
     "output_type": "display_data"
    },
    {
     "name": "stdout",
     "output_type": "stream",
     "text": [
      "6.389741306568287\n",
      "0.733645165741682\n",
      "0.11481609826481347\n",
      "5.462807121008626\n",
      "7.877703039367899\n"
     ]
    }
   ],
   "source": [
    "sdf = []  \n",
    "for i in tqdm_notebook(range(5,104)):\n",
    "    RF = RandomForestRegressor(n_estimators=grid.best_params_['n_estimators'], max_features=grid.best_params_['max_features'],min_samples_leaf = grid.best_params_['min_samples_leaf'],max_depth = grid.best_params_['max_depth'],oob_score = False,random_state=grid.best_params_['random_state'],n_jobs=14)#random_state=grid.best_params_['random_state']   #最佳随机状态 = 2023\n",
    "    RF.fit(var['X_'+str(i)], var['Y_'+str(i)].ravel())\n",
    "    joblib.dump(RF,'E:\\\\OneDrive - HKUST Connect\\\\Research\\\\nh3_ml\\\\model\\\\RF_V6_alldatatraining_100bootstrap_1000Nmax_'+ str(i) +'.pkl')\n",
    "    sdf.append(pt.inverse_transform(np.array(RF.predict(x_test).reshape(-1, 1)))[0])\n",
    "print(np.mean(sdf))\n",
    "print(np.std(sdf))\n",
    "print(np.std(sdf)/np.mean(sdf))\n",
    "print(np.percentile(sdf, 2.5 ))\n",
    "print(np.percentile(sdf, 97.5 ))"
   ]
  },
  {
   "cell_type": "code",
   "execution_count": 403,
   "id": "cd99628f",
   "metadata": {
    "scrolled": true
   },
   "outputs": [
    {
     "data": {
      "text/html": [
       "<style>#sk-container-id-18 {color: black;background-color: white;}#sk-container-id-18 pre{padding: 0;}#sk-container-id-18 div.sk-toggleable {background-color: white;}#sk-container-id-18 label.sk-toggleable__label {cursor: pointer;display: block;width: 100%;margin-bottom: 0;padding: 0.3em;box-sizing: border-box;text-align: center;}#sk-container-id-18 label.sk-toggleable__label-arrow:before {content: \"▸\";float: left;margin-right: 0.25em;color: #696969;}#sk-container-id-18 label.sk-toggleable__label-arrow:hover:before {color: black;}#sk-container-id-18 div.sk-estimator:hover label.sk-toggleable__label-arrow:before {color: black;}#sk-container-id-18 div.sk-toggleable__content {max-height: 0;max-width: 0;overflow: hidden;text-align: left;background-color: #f0f8ff;}#sk-container-id-18 div.sk-toggleable__content pre {margin: 0.2em;color: black;border-radius: 0.25em;background-color: #f0f8ff;}#sk-container-id-18 input.sk-toggleable__control:checked~div.sk-toggleable__content {max-height: 200px;max-width: 100%;overflow: auto;}#sk-container-id-18 input.sk-toggleable__control:checked~label.sk-toggleable__label-arrow:before {content: \"▾\";}#sk-container-id-18 div.sk-estimator input.sk-toggleable__control:checked~label.sk-toggleable__label {background-color: #d4ebff;}#sk-container-id-18 div.sk-label input.sk-toggleable__control:checked~label.sk-toggleable__label {background-color: #d4ebff;}#sk-container-id-18 input.sk-hidden--visually {border: 0;clip: rect(1px 1px 1px 1px);clip: rect(1px, 1px, 1px, 1px);height: 1px;margin: -1px;overflow: hidden;padding: 0;position: absolute;width: 1px;}#sk-container-id-18 div.sk-estimator {font-family: monospace;background-color: #f0f8ff;border: 1px dotted black;border-radius: 0.25em;box-sizing: border-box;margin-bottom: 0.5em;}#sk-container-id-18 div.sk-estimator:hover {background-color: #d4ebff;}#sk-container-id-18 div.sk-parallel-item::after {content: \"\";width: 100%;border-bottom: 1px solid gray;flex-grow: 1;}#sk-container-id-18 div.sk-label:hover label.sk-toggleable__label {background-color: #d4ebff;}#sk-container-id-18 div.sk-serial::before {content: \"\";position: absolute;border-left: 1px solid gray;box-sizing: border-box;top: 0;bottom: 0;left: 50%;z-index: 0;}#sk-container-id-18 div.sk-serial {display: flex;flex-direction: column;align-items: center;background-color: white;padding-right: 0.2em;padding-left: 0.2em;position: relative;}#sk-container-id-18 div.sk-item {position: relative;z-index: 1;}#sk-container-id-18 div.sk-parallel {display: flex;align-items: stretch;justify-content: center;background-color: white;position: relative;}#sk-container-id-18 div.sk-item::before, #sk-container-id-18 div.sk-parallel-item::before {content: \"\";position: absolute;border-left: 1px solid gray;box-sizing: border-box;top: 0;bottom: 0;left: 50%;z-index: -1;}#sk-container-id-18 div.sk-parallel-item {display: flex;flex-direction: column;z-index: 1;position: relative;background-color: white;}#sk-container-id-18 div.sk-parallel-item:first-child::after {align-self: flex-end;width: 50%;}#sk-container-id-18 div.sk-parallel-item:last-child::after {align-self: flex-start;width: 50%;}#sk-container-id-18 div.sk-parallel-item:only-child::after {width: 0;}#sk-container-id-18 div.sk-dashed-wrapped {border: 1px dashed gray;margin: 0 0.4em 0.5em 0.4em;box-sizing: border-box;padding-bottom: 0.4em;background-color: white;}#sk-container-id-18 div.sk-label label {font-family: monospace;font-weight: bold;display: inline-block;line-height: 1.2em;}#sk-container-id-18 div.sk-label-container {text-align: center;}#sk-container-id-18 div.sk-container {/* jupyter's `normalize.less` sets `[hidden] { display: none; }` but bootstrap.min.css set `[hidden] { display: none !important; }` so we also need the `!important` here to be able to override the default hidden behavior on the sphinx rendered scikit-learn.org. See: https://github.com/scikit-learn/scikit-learn/issues/21755 */display: inline-block !important;position: relative;}#sk-container-id-18 div.sk-text-repr-fallback {display: none;}</style><div id=\"sk-container-id-18\" class=\"sk-top-container\"><div class=\"sk-text-repr-fallback\"><pre>RandomForestRegressor(max_depth=20, max_features=11, n_estimators=500,\n",
       "                      n_jobs=14, oob_score=True, random_state=2023)</pre><b>In a Jupyter environment, please rerun this cell to show the HTML representation or trust the notebook. <br />On GitHub, the HTML representation is unable to render, please try loading this page with nbviewer.org.</b></div><div class=\"sk-container\" hidden><div class=\"sk-item\"><div class=\"sk-estimator sk-toggleable\"><input class=\"sk-toggleable__control sk-hidden--visually\" id=\"sk-estimator-id-30\" type=\"checkbox\" checked><label for=\"sk-estimator-id-30\" class=\"sk-toggleable__label sk-toggleable__label-arrow\">RandomForestRegressor</label><div class=\"sk-toggleable__content\"><pre>RandomForestRegressor(max_depth=20, max_features=11, n_estimators=500,\n",
       "                      n_jobs=14, oob_score=True, random_state=2023)</pre></div></div></div></div></div>"
      ],
      "text/plain": [
       "RandomForestRegressor(max_depth=20, max_features=11, n_estimators=500,\n",
       "                      n_jobs=14, oob_score=True, random_state=2023)"
      ]
     },
     "execution_count": 403,
     "metadata": {},
     "output_type": "execute_result"
    }
   ],
   "source": [
    "RF = RandomForestRegressor(n_estimators=grid.best_params_['n_estimators'], max_features=grid.best_params_['max_features'],min_samples_leaf = grid.best_params_['min_samples_leaf'],max_depth = grid.best_params_['max_depth'],oob_score = True,random_state=grid.best_params_['random_state'],n_jobs=14)"
   ]
  },
  {
   "cell_type": "code",
   "execution_count": 405,
   "id": "0629dbed",
   "metadata": {},
   "outputs": [],
   "source": [
    "from sklearn.model_selection import cross_val_score"
   ]
  },
  {
   "cell_type": "code",
   "execution_count": 406,
   "id": "aa213789",
   "metadata": {
    "scrolled": true
   },
   "outputs": [
    {
     "name": "stderr",
     "output_type": "stream",
     "text": [
      "E:\\Anaconda3\\lib\\site-packages\\sklearn\\model_selection\\_validation.py:686: DataConversionWarning: A column-vector y was passed when a 1d array was expected. Please change the shape of y to (n_samples,), for example using ravel().\n",
      "  estimator.fit(X_train, y_train, **fit_params)\n",
      "E:\\Anaconda3\\lib\\site-packages\\sklearn\\model_selection\\_validation.py:686: DataConversionWarning: A column-vector y was passed when a 1d array was expected. Please change the shape of y to (n_samples,), for example using ravel().\n",
      "  estimator.fit(X_train, y_train, **fit_params)\n",
      "E:\\Anaconda3\\lib\\site-packages\\sklearn\\model_selection\\_validation.py:686: DataConversionWarning: A column-vector y was passed when a 1d array was expected. Please change the shape of y to (n_samples,), for example using ravel().\n",
      "  estimator.fit(X_train, y_train, **fit_params)\n",
      "E:\\Anaconda3\\lib\\site-packages\\sklearn\\model_selection\\_validation.py:686: DataConversionWarning: A column-vector y was passed when a 1d array was expected. Please change the shape of y to (n_samples,), for example using ravel().\n",
      "  estimator.fit(X_train, y_train, **fit_params)\n",
      "E:\\Anaconda3\\lib\\site-packages\\sklearn\\model_selection\\_validation.py:686: DataConversionWarning: A column-vector y was passed when a 1d array was expected. Please change the shape of y to (n_samples,), for example using ravel().\n",
      "  estimator.fit(X_train, y_train, **fit_params)\n",
      "E:\\Anaconda3\\lib\\site-packages\\sklearn\\model_selection\\_validation.py:686: DataConversionWarning: A column-vector y was passed when a 1d array was expected. Please change the shape of y to (n_samples,), for example using ravel().\n",
      "  estimator.fit(X_train, y_train, **fit_params)\n",
      "E:\\Anaconda3\\lib\\site-packages\\sklearn\\model_selection\\_validation.py:686: DataConversionWarning: A column-vector y was passed when a 1d array was expected. Please change the shape of y to (n_samples,), for example using ravel().\n",
      "  estimator.fit(X_train, y_train, **fit_params)\n",
      "E:\\Anaconda3\\lib\\site-packages\\sklearn\\model_selection\\_validation.py:686: DataConversionWarning: A column-vector y was passed when a 1d array was expected. Please change the shape of y to (n_samples,), for example using ravel().\n",
      "  estimator.fit(X_train, y_train, **fit_params)\n",
      "E:\\Anaconda3\\lib\\site-packages\\sklearn\\model_selection\\_validation.py:686: DataConversionWarning: A column-vector y was passed when a 1d array was expected. Please change the shape of y to (n_samples,), for example using ravel().\n",
      "  estimator.fit(X_train, y_train, **fit_params)\n",
      "E:\\Anaconda3\\lib\\site-packages\\sklearn\\model_selection\\_validation.py:686: DataConversionWarning: A column-vector y was passed when a 1d array was expected. Please change the shape of y to (n_samples,), for example using ravel().\n",
      "  estimator.fit(X_train, y_train, **fit_params)\n"
     ]
    }
   ],
   "source": [
    "scores = cross_val_score(RF, X, Y, cv=10)"
   ]
  },
  {
   "cell_type": "code",
   "execution_count": 407,
   "id": "b62b0feb",
   "metadata": {},
   "outputs": [
    {
     "data": {
      "text/plain": [
       "array([0.75786924, 0.73029795, 0.70031377, 0.78173028, 0.67750061,\n",
       "       0.75221561, 0.6973141 , 0.68132409, 0.67273229, 0.67676306])"
      ]
     },
     "execution_count": 407,
     "metadata": {},
     "output_type": "execute_result"
    }
   ],
   "source": [
    "scores"
   ]
  },
  {
   "cell_type": "code",
   "execution_count": 408,
   "id": "d49e1ca6",
   "metadata": {},
   "outputs": [
    {
     "data": {
      "text/plain": [
       "0.712806100756368"
      ]
     },
     "execution_count": 408,
     "metadata": {},
     "output_type": "execute_result"
    }
   ],
   "source": [
    "scores.mean()"
   ]
  },
  {
   "cell_type": "code",
   "execution_count": null,
   "id": "943bf44b",
   "metadata": {},
   "outputs": [],
   "source": [
    "RF.fit(X, Y.ravel())"
   ]
  },
  {
   "cell_type": "code",
   "execution_count": 410,
   "id": "57a3208d",
   "metadata": {},
   "outputs": [
    {
     "data": {
      "text/plain": [
       "['E:\\\\OneDrive - HKUST Connect\\\\Research\\\\nh3_ml\\\\model\\\\boxcox_V6_alldatatraining_100bootstrap_1000Nmax.pkl']"
      ]
     },
     "execution_count": 410,
     "metadata": {},
     "output_type": "execute_result"
    }
   ],
   "source": [
    "##save model\n",
    "joblib.dump(RF,'E:\\\\OneDrive - HKUST Connect\\\\Research\\\\nh3_ml\\\\model\\\\RF_V6_alldatatraining_100bootstrap_1000Nmax.pkl')\n",
    "joblib.dump(grid,'E:\\\\OneDrive - HKUST Connect\\\\Research\\\\nh3_ml\\\\model\\\\RF_grid_V6_alldatatraining_100bootstrap_1000Nmax.pkl')\n",
    "joblib.dump(pt,'E:\\\\OneDrive - HKUST Connect\\\\Research\\\\nh3_ml\\\\model\\\\boxcox_V6_alldatatraining_100bootstrap_1000Nmax.pkl')"
   ]
  }
 ],
 "metadata": {
  "kernelspec": {
   "display_name": "Python 3",
   "language": "python",
   "name": "python3"
  },
  "language_info": {
   "codemirror_mode": {
    "name": "ipython",
    "version": 3
   },
   "file_extension": ".py",
   "mimetype": "text/x-python",
   "name": "python",
   "nbconvert_exporter": "python",
   "pygments_lexer": "ipython3",
   "version": "3.8.8"
  }
 },
 "nbformat": 4,
 "nbformat_minor": 5
}
