{
 "cells": [
  {
   "cell_type": "code",
   "execution_count": 1,
   "id": "7db2b289",
   "metadata": {},
   "outputs": [],
   "source": [
    "import numpy as np\n",
    "import pandas as pd\n",
    "import re\n",
    "import matplotlib.pyplot as plt\n",
    "from matplotlib.ticker import FuncFormatter\n",
    "from sklearn.metrics import mean_squared_error\n",
    "%matplotlib inline\n",
    "np.set_printoptions(suppress=True)   \n",
    "pd.set_option('display.float_format', lambda x: '%.5f' % x)  \n",
    "pd.set_option('display.max_columns', 1000)\n",
    "pd.set_option('display.width', 1000)\n",
    "pd.set_option('display.max_colwidth', 100)\n",
    "import pandas as pd\n",
    "import re\n",
    "import matplotlib.pyplot as plt\n",
    "from matplotlib.ticker import FuncFormatter\n",
    "import seaborn as sns\n",
    "%matplotlib inline\n",
    "np.set_printoptions(suppress=True)   \n",
    "import sklearn\n",
    "from sklearn import preprocessing\n",
    "from sklearn.linear_model import LinearRegression\n",
    "from sklearn.model_selection import train_test_split\n",
    "from sklearn.metrics import mean_squared_error\n",
    "from sklearn.inspection import permutation_importance\n",
    "from sklearn.ensemble import RandomForestRegressor\n",
    "from matplotlib.ticker import FuncFormatter\n",
    "from matplotlib.pyplot import MultipleLocator\n",
    "import pickle\n",
    "from sklearn.model_selection import GridSearchCV\n",
    "from sklearn.metrics import r2_score\n",
    "import joblib\n",
    "import scipy.stats\n",
    "from time import *\n",
    "from tqdm import tnrange, tqdm_notebook\n",
    "from time import sleep\n",
    "from quantile_forest import RandomForestQuantileRegressor"
   ]
  },
  {
   "cell_type": "code",
   "execution_count": null,
   "id": "3b59d243",
   "metadata": {},
   "outputs": [],
   "source": [
    "var = locals()"
   ]
  },
  {
   "cell_type": "code",
   "execution_count": null,
   "id": "752d5e34",
   "metadata": {},
   "outputs": [],
   "source": [
    "RF = joblib.load('./RF_V6_alldatatraining_100bootstrap_1000Nmax.pkl')\n",
    "pt = joblib.load('./boxcox_V6_alldatatraining_100bootstrap_1000Nmax.pkl')\n",
    "for i in tqdm_notebook(range(5,105)):\n",
    "    var['RF_'+str(i)] = joblib.load('./RF_V6_alldatatraining_100bootstrap_1000Nmax_'+ str(i) +'.pkl')"
   ]
  },
  {
   "cell_type": "code",
   "execution_count": null,
   "id": "247bce46",
   "metadata": {},
   "outputs": [],
   "source": [
    "nh3 = pd.read_excel('./df_training.xlsx')"
   ]
  },
  {
   "cell_type": "code",
   "execution_count": null,
   "id": "e17c3038",
   "metadata": {},
   "outputs": [],
   "source": [
    "nh3_orig = nh3.copy()"
   ]
  },
  {
   "cell_type": "code",
   "execution_count": null,
   "id": "d4b0eb0e",
   "metadata": {},
   "outputs": [],
   "source": [
    "###"
   ]
  },
  {
   "cell_type": "code",
   "execution_count": null,
   "id": "b917c158",
   "metadata": {},
   "outputs": [],
   "source": [
    "crops = nh3['Crop type'].unique()\n",
    "fers = nh3['Fertilizer type'].unique()\n",
    "nplaces = nh3['Nitrogen placement'].unique()\n",
    "tills = [0,1]\n",
    "ntimes = [0,1]\n",
    "t_name = ['CT','NT']\n",
    "n_name = ['one','more']"
   ]
  },
  {
   "cell_type": "code",
   "execution_count": null,
   "id": "3472017e",
   "metadata": {},
   "outputs": [],
   "source": [
    "X_col = ['FAT',\n",
    " 'STP',\n",
    " 'Water',\n",
    " 'Tem',\n",
    " 'SOC',\n",
    " 'TN',\n",
    " 'pH',\n",
    " 'BD',\n",
    " 'Clay',\n",
    " 'CEC',\n",
    " 'Nrate',\n",
    " 'UOA',\n",
    " 'others',\n",
    " 'CRF',\n",
    " 'manure',\n",
    " 'AN',\n",
    " 'SBC',\n",
    " 'Mix',\n",
    " 'DPM',\n",
    " 'Rice',\n",
    " 'Wheat',\n",
    " 'Maize']"
   ]
  },
  {
   "cell_type": "code",
   "execution_count": null,
   "id": "6920e176",
   "metadata": {},
   "outputs": [],
   "source": [
    "dfs = ['rice1', 'rice2','wheat1','wheat2','maize1','maize2']"
   ]
  },
  {
   "cell_type": "code",
   "execution_count": null,
   "id": "09febd3d",
   "metadata": {},
   "outputs": [],
   "source": [
    "begin_time = time()"
   ]
  },
  {
   "cell_type": "code",
   "execution_count": null,
   "id": "bf815e22",
   "metadata": {
    "scrolled": true
   },
   "outputs": [],
   "source": [
    "df_mean = pd.DataFrame(columns=['Ctype','Ftype','NP','FAT','STP','EF2018_mean','EF2018_5','EF2018_95','EF2018_std','EF2018_min','EF2018_max'])\n",
    "Ctype = []\n",
    "Ftype = []\n",
    "NP = []\n",
    "FAT = []\n",
    "STP = []\n",
    "EF2018_mean = []\n",
    "EF2018_5 = []\n",
    "EF2018_95 = []\n",
    "EF2018_std = []\n",
    "EF2018_min = []\n",
    "EF2018_max = []\n",
    "for df in dfs:\n",
    "    var[df] = pd.read_csv('./' + df + '.csv')\n",
    "    var[df]['water'] = var[df]['pre'] + var[df]['iri']\n",
    "    for fer in tqdm_notebook(fers):\n",
    "        for nplace in nplaces:\n",
    "            for till in tills:\n",
    "                for ntime in ntimes:\n",
    "                    ds = pd.DataFrame(np.zeros((len(var[df]),len(X_col))), columns=X_col)\n",
    "                    ds[var[df].columns] = var[df][var[df].columns]\n",
    "                    ds[df[0:-1].capitalize()] = 1\n",
    "                    ds[fer] = 1\n",
    "                    ds[nplace] = 1\n",
    "                    ds['STP'] = till\n",
    "                    ds['FAT'] = ntime\n",
    "                    ds[['Water','Tem','SOC','TN','pH','BD','Clay','CEC','Nrate']] = ds[['water','tem','soc','tn','ph','bd','clay','cec','Nrate_2018']]\n",
    "                    ds.loc[ds['Nrate'] > 1000, 'Nrate'] = 1000\n",
    "                    sdf = pd.DataFrame()\n",
    "                    for i in tqdm_notebook(range(5,105)):\n",
    "                        sdf[str(i)] = var['RF_'+str(i)].predict(ds[X_col])\n",
    "                    ds['BoxEF_2018'] = np.mean(sdf.iloc[:,:100], axis = 1)\n",
    "                    ds['BoxEF_2018_025'] = np.percentile(sdf.iloc[:,:100], 2.5 ,axis =1)\n",
    "                    ds['BoxEF_2018_975'] = np.percentile(sdf.iloc[:,:100], 97.5 ,axis =1)\n",
    "                    #sdf['std'] = np.std(sdf.iloc[:,:100], axis = 1)\n",
    "                    ds['EF_2018'] = pt.inverse_transform(np.array(ds['BoxEF_2018']).reshape(-1, 1))\n",
    "                    ds['EF_2018_025'] = pt.inverse_transform(np.array(ds['BoxEF_2018_025']).reshape(-1, 1))\n",
    "                    ds['EF_2018_975'] = pt.inverse_transform(np.array(ds['BoxEF_2018_975']).reshape(-1, 1))\n",
    "                    ds = ds[ds.columns.drop(['water','tem','soc','tn','ph','bd','clay','cec'])]\n",
    "\n",
    "                    ds.to_csv('./' + df+'_'+fer+'_'+nplace+'_'+t_name[till]+'_'+n_name[ntime] + '_alldatatraining_100bootstrap_1000Nmax.csv', index = False)"
   ]
  },
  {
   "cell_type": "code",
   "execution_count": null,
   "id": "eae54f79",
   "metadata": {},
   "outputs": [],
   "source": [
    "end_time = time()\n",
    "run_time = end_time-begin_time\n",
    "print ('time cost：',run_time/60, 'min') "
   ]
  },
  {
   "cell_type": "code",
   "execution_count": null,
   "id": "3e098d5d",
   "metadata": {},
   "outputs": [],
   "source": []
  }
 ],
 "metadata": {
  "kernelspec": {
   "display_name": "Python 3",
   "language": "python",
   "name": "python3"
  },
  "language_info": {
   "codemirror_mode": {
    "name": "ipython",
    "version": 3
   },
   "file_extension": ".py",
   "mimetype": "text/x-python",
   "name": "python",
   "nbconvert_exporter": "python",
   "pygments_lexer": "ipython3",
   "version": "3.8.8"
  }
 },
 "nbformat": 4,
 "nbformat_minor": 5
}
