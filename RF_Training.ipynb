{
 "cells": [
  {
   "cell_type": "code",
   "execution_count": 2,
   "id": "ea9ba978",
   "metadata": {},
   "outputs": [],
   "source": [
    "import numpy as np\n",
    "import pandas as pd\n",
    "import re\n",
    "import matplotlib.pyplot as plt\n",
    "from matplotlib.ticker import FuncFormatter\n",
    "from sklearn.metrics import mean_squared_error\n",
    "%matplotlib inline\n",
    "np.set_printoptions(suppress=True)   \n",
    "pd.set_option('display.float_format', lambda x: '%.5f' % x) \n",
    "pd.set_option('display.max_columns', 1000)\n",
    "pd.set_option('display.width', 1000)\n",
    "pd.set_option('display.max_colwidth', 100)\n",
    "import pandas as pd\n",
    "import re\n",
    "import matplotlib.pyplot as plt\n",
    "from matplotlib.ticker import FuncFormatter\n",
    "import seaborn as sns\n",
    "%matplotlib inline\n",
    "np.set_printoptions(suppress=True)   \n",
    "import sklearn\n",
    "from sklearn import preprocessing\n",
    "from sklearn.linear_model import LinearRegression\n",
    "from sklearn.model_selection import train_test_split\n",
    "from sklearn.metrics import mean_squared_error\n",
    "from sklearn.inspection import permutation_importance\n",
    "from sklearn.ensemble import RandomForestRegressor\n",
    "from matplotlib.ticker import FuncFormatter\n",
    "from matplotlib.pyplot import MultipleLocator\n",
    "import pickle\n",
    "from sklearn.model_selection import GridSearchCV\n",
    "from sklearn.metrics import r2_score\n",
    "import joblib\n",
    "import scipy.stats\n",
    "from time import *\n",
    "from tqdm import tnrange, tqdm_notebook\n",
    "from time import sleep\n",
    "from matplotlib.mathtext import _mathtext as mathtext\n",
    "from sklearn.utils import resample\n",
    "from sklearn.ensemble import VotingRegressor\n",
    "mathtext.FontConstantsBase.sup1 = 0.3 "
   ]
  },
  {
   "cell_type": "code",
   "execution_count": 3,
   "id": "4ac416fe",
   "metadata": {},
   "outputs": [],
   "source": [
    "var = locals()"
   ]
  },
  {
   "cell_type": "code",
   "execution_count": 443,
   "id": "f9402a81",
   "metadata": {},
   "outputs": [],
   "source": [
    "nh3 = pd.read_excel('E:\\\\OneDrive - HKUST Connect\\\\Research\\\\nh3_ml\\\\Global_EF\\\\df_training_2627_space10fold.xlsx')"
   ]
  },
  {
   "cell_type": "code",
   "execution_count": 446,
   "id": "eedfc3ca",
   "metadata": {},
   "outputs": [
    {
     "data": {
      "text/plain": [
       "0.6783403121431291"
      ]
     },
     "execution_count": 446,
     "metadata": {},
     "output_type": "execute_result"
    }
   ],
   "source": [
    "len(nh3[nh3['region'] == 'China'])/len(nh3)"
   ]
  },
  {
   "cell_type": "code",
   "execution_count": 447,
   "id": "5a16e3a1",
   "metadata": {},
   "outputs": [
    {
     "data": {
      "text/plain": [
       "(0.40159878188047204, 0.2447658926532166, 0.3536353254663114)"
      ]
     },
     "execution_count": 447,
     "metadata": {},
     "output_type": "execute_result"
    }
   ],
   "source": [
    "len(nh3[nh3['Crop type'] == 'Rice'])/len(nh3),len(nh3[nh3['Crop type'] == 'Wheat'])/len(nh3),len(nh3[nh3['Crop type'] == 'Maize'])/len(nh3)"
   ]
  },
  {
   "cell_type": "code",
   "execution_count": 449,
   "id": "cbf186cf",
   "metadata": {},
   "outputs": [],
   "source": [
    "nh3['Number of fertilizer applications'] = [1 if x >= 2 else 0 for x in nh3['Number of fertilizer applications']]"
   ]
  },
  {
   "cell_type": "code",
   "execution_count": 450,
   "id": "f4cd3c09",
   "metadata": {},
   "outputs": [
    {
     "name": "stdout",
     "output_type": "stream",
     "text": [
      "8.797282112324941\n",
      "1592\n",
      "1055\n",
      "8.875038567786351\n",
      "1592\n",
      "1055\n",
      "8.754782038022457\n",
      "1592\n",
      "1055\n",
      "8.753375695558786\n",
      "1592\n",
      "1055\n",
      "8.847147199894067\n",
      "1592\n",
      "1055\n",
      "8.68843878842965\n",
      "1592\n",
      "1055\n",
      "8.765781158284787\n",
      "1592\n",
      "1055\n",
      "8.98702782225614\n",
      "1592\n",
      "1055\n",
      "8.61854583874271\n",
      "1592\n",
      "1055\n",
      "8.784171803171821\n",
      "1592\n",
      "1055\n",
      "9.015887221112328\n",
      "1592\n",
      "1055\n",
      "8.814722573129265\n",
      "1592\n",
      "1055\n",
      "8.936976769072544\n",
      "1592\n",
      "1055\n",
      "8.74637532319378\n",
      "1592\n",
      "1055\n",
      "8.92977196718132\n",
      "1592\n",
      "1055\n",
      "8.95137319897666\n",
      "1592\n",
      "1055\n",
      "8.81349189928029\n",
      "1592\n",
      "1055\n",
      "8.606396171388216\n",
      "1592\n",
      "1055\n",
      "8.977048350057414\n",
      "1592\n",
      "1055\n",
      "8.592888852744359\n",
      "1592\n",
      "1055\n",
      "8.759541544515178\n",
      "1592\n",
      "1055\n",
      "8.478254497087699\n",
      "1592\n",
      "1055\n",
      "8.604855680659597\n",
      "1592\n",
      "1055\n",
      "8.58300373005396\n",
      "1592\n",
      "1055\n",
      "8.691890413435802\n",
      "1592\n",
      "1055\n",
      "8.79373086412211\n",
      "1592\n",
      "1055\n",
      "8.656556465808949\n",
      "1592\n",
      "1055\n",
      "8.693130602693856\n",
      "1592\n",
      "1055\n",
      "8.94980736999297\n",
      "1592\n",
      "1055\n",
      "8.727905776245759\n",
      "1592\n",
      "1055\n",
      "8.900378642094728\n",
      "1592\n",
      "1055\n",
      "8.767440893127961\n",
      "1592\n",
      "1055\n",
      "8.779207124074864\n",
      "1592\n",
      "1055\n",
      "8.841081972839783\n",
      "1592\n",
      "1055\n",
      "8.68946092789685\n",
      "1592\n",
      "1055\n",
      "8.932947101189107\n",
      "1592\n",
      "1055\n",
      "8.82439449720753\n",
      "1592\n",
      "1055\n",
      "8.949818654501925\n",
      "1592\n",
      "1055\n",
      "8.823015220624802\n",
      "1592\n",
      "1055\n",
      "8.719705207093348\n",
      "1592\n",
      "1055\n",
      "8.925888796038684\n",
      "1592\n",
      "1055\n",
      "8.806174119765988\n",
      "1592\n",
      "1055\n",
      "8.899111000932443\n",
      "1592\n",
      "1055\n",
      "8.863196215910392\n",
      "1592\n",
      "1055\n",
      "8.852257565556913\n",
      "1592\n",
      "1055\n",
      "8.81632083172904\n",
      "1592\n",
      "1055\n",
      "8.808310902339775\n",
      "1592\n",
      "1055\n",
      "8.84314758416413\n",
      "1592\n",
      "1055\n",
      "8.730472941774977\n",
      "1592\n",
      "1055\n",
      "8.598862847185147\n",
      "1592\n",
      "1055\n",
      "9.165144981416638\n",
      "1592\n",
      "1055\n",
      "8.726338032351453\n",
      "1592\n",
      "1055\n",
      "8.894992318567212\n",
      "1592\n",
      "1055\n",
      "8.819294223044489\n",
      "1592\n",
      "1055\n",
      "8.738313712015191\n",
      "1592\n",
      "1055\n",
      "9.01694453886326\n",
      "1592\n",
      "1055\n",
      "8.782840761829277\n",
      "1592\n",
      "1055\n",
      "8.718487096127022\n",
      "1592\n",
      "1055\n",
      "8.7289920043783\n",
      "1592\n",
      "1055\n",
      "8.927205812258954\n",
      "1592\n",
      "1055\n",
      "8.712468943714308\n",
      "1592\n",
      "1055\n",
      "8.74775932866172\n",
      "1592\n",
      "1055\n",
      "8.506568321520932\n",
      "1592\n",
      "1055\n",
      "8.607249975368497\n",
      "1592\n",
      "1055\n",
      "8.708490993411964\n",
      "1592\n",
      "1055\n",
      "8.766415617086045\n",
      "1592\n",
      "1055\n",
      "8.670429431536002\n",
      "1592\n",
      "1055\n",
      "8.773622493552523\n",
      "1592\n",
      "1055\n",
      "8.601784769180012\n",
      "1592\n",
      "1055\n",
      "8.726287004195017\n",
      "1592\n",
      "1055\n",
      "8.67933878865944\n",
      "1592\n",
      "1055\n",
      "8.648244103683234\n",
      "1592\n",
      "1055\n",
      "8.967669971983767\n",
      "1592\n",
      "1055\n",
      "8.766184839409256\n",
      "1592\n",
      "1055\n",
      "8.655148987668422\n",
      "1592\n",
      "1055\n",
      "8.538659238342907\n",
      "1592\n",
      "1055\n",
      "8.845611456421562\n",
      "1592\n",
      "1055\n",
      "8.825813526719203\n",
      "1592\n",
      "1055\n",
      "8.749555131607973\n",
      "1592\n",
      "1055\n",
      "8.797496558282441\n",
      "1592\n",
      "1055\n",
      "8.68397485020267\n",
      "1592\n",
      "1055\n",
      "8.80026329868965\n",
      "1592\n",
      "1055\n",
      "8.768413086840672\n",
      "1592\n",
      "1055\n",
      "8.50176311151902\n",
      "1592\n",
      "1055\n",
      "8.656535657541236\n",
      "1592\n",
      "1055\n",
      "8.649555915312312\n",
      "1592\n",
      "1055\n",
      "9.017274758608059\n",
      "1592\n",
      "1055\n",
      "8.920522759349925\n",
      "1592\n",
      "1055\n",
      "8.74594678287638\n",
      "1592\n",
      "1055\n",
      "8.678804241156083\n",
      "1592\n",
      "1055\n",
      "8.80310416231487\n",
      "1592\n",
      "1055\n",
      "8.724075633027704\n",
      "1592\n",
      "1055\n",
      "8.536566941677494\n",
      "1592\n",
      "1055\n",
      "8.72693096720641\n",
      "1592\n",
      "1055\n",
      "8.742141042678867\n",
      "1592\n",
      "1055\n",
      "8.679377796943347\n",
      "1592\n",
      "1055\n",
      "8.817330992311298\n",
      "1592\n",
      "1055\n",
      "8.591297125886175\n",
      "1592\n",
      "1055\n",
      "8.522329983240944\n",
      "1592\n",
      "1055\n"
     ]
    }
   ],
   "source": [
    "# 指定分层列\n",
    "stratify_columns = ['Fertilizer type', 'Nitrogen placement', 'Number of fertilizer applications', 'Soil tillage practices', 'Crop type']\n",
    "# 存储bootstrapped数据集的列表\n",
    "bootstrapped_datasets = []\n",
    "\n",
    "# 额外生成99个bootstrapped数据集\n",
    "for i in range(5,104):\n",
    "    # 对数据集进行分层抽样重采样\n",
    "    var['nh3_' + str(i)] = resample(nh3, stratify=nh3[stratify_columns], replace=True,random_state = i)\n",
    "    bootstrapped_datasets.append(var['nh3_' + str(i)])\n",
    "    print(var['nh3_' + str(i)]['EF'].mean())\n",
    "    print(var['nh3_' + str(i)]['Number of fertilizer applications'].sum())\n",
    "    print(len(var['nh3_' + str(i)][var['nh3_' + str(i)]['Crop type'] == 'Rice']))\n",
    "bootstrapped_datasets.append(nh3)"
   ]
  },
  {
   "cell_type": "code",
   "execution_count": 451,
   "id": "0f1781ca",
   "metadata": {},
   "outputs": [
    {
     "data": {
      "text/plain": [
       "100"
      ]
     },
     "execution_count": 451,
     "metadata": {},
     "output_type": "execute_result"
    }
   ],
   "source": [
    "len(bootstrapped_datasets)"
   ]
  },
  {
   "cell_type": "code",
   "execution_count": 465,
   "id": "daa6fd27",
   "metadata": {},
   "outputs": [],
   "source": [
    "nh3_raw = nh3.rename(columns={'Number of fertilizer applications':'FAT',\n",
    "                      'Soil tillage practices':'STP',\n",
    "                      'Average daily air temperature':'Tem',\n",
    "                      'SOC(g/kg)':'SOC','TN(g/kg)':'TN','BD(g/cm3)':'BD','clay(%)':'Clay','CEC(cmol/kg)':'CEC',\n",
    "                      'Nitrogen application rate':'Nrate',\n",
    "                      'Fertilizer type':'Ftype','P+I':'Water','Nitrogen placement':'NP','Crop type':'Ctype'})"
   ]
  },
  {
   "cell_type": "code",
   "execution_count": 468,
   "id": "38516709",
   "metadata": {},
   "outputs": [],
   "source": [
    "for nh3df in bootstrapped_datasets:    \n",
    "    for i in range(1, len(nh3df['Fertilizer type'].unique()) + 1) :\n",
    "        nh3df[nh3df['Fertilizer type'].unique()[i - 1]] = np.array(nh3df['Fertilizer type'] == nh3df['Fertilizer type'].unique()[i - 1]).astype(np.int32)\n",
    "        i += 1\n",
    "    del nh3df['Fertilizer type']"
   ]
  },
  {
   "cell_type": "code",
   "execution_count": 469,
   "id": "8cd778dd",
   "metadata": {},
   "outputs": [],
   "source": [
    "for nh3df in bootstrapped_datasets:   \n",
    "    for i in range(1, len(nh3df['Nitrogen placement'].unique()) + 1) :\n",
    "        nh3df[nh3df['Nitrogen placement'].unique()[i - 1]] = np.array(nh3df['Nitrogen placement'] == nh3df['Nitrogen placement'].unique()[i - 1]).astype(np.int32)\n",
    "        i += 1\n",
    "    del nh3df['Nitrogen placement']"
   ]
  },
  {
   "cell_type": "code",
   "execution_count": 470,
   "id": "a8ca07cc",
   "metadata": {},
   "outputs": [],
   "source": [
    "for nh3df in bootstrapped_datasets:   \n",
    "    nh3df['Soil tillage practices'] = [1 if x=='NT' else 0 for x in nh3df['Soil tillage practices']]"
   ]
  },
  {
   "cell_type": "code",
   "execution_count": 471,
   "id": "0023bbec",
   "metadata": {},
   "outputs": [],
   "source": [
    "for nh3df in bootstrapped_datasets:   \n",
    "    for i in range(1, len(nh3df['Crop type'].unique()) + 1) :\n",
    "        nh3df[nh3df['Crop type'].unique()[i - 1]] = np.array(nh3df['Crop type'] == nh3df['Crop type'].unique()[i - 1]).astype(np.int32)\n",
    "        i += 1\n",
    "    del nh3df['Crop type']"
   ]
  },
  {
   "cell_type": "code",
   "execution_count": 472,
   "id": "a1bce812",
   "metadata": {},
   "outputs": [
    {
     "data": {
      "text/html": [
       "<div>\n",
       "<style scoped>\n",
       "    .dataframe tbody tr th:only-of-type {\n",
       "        vertical-align: middle;\n",
       "    }\n",
       "\n",
       "    .dataframe tbody tr th {\n",
       "        vertical-align: top;\n",
       "    }\n",
       "\n",
       "    .dataframe thead th {\n",
       "        text-align: right;\n",
       "    }\n",
       "</style>\n",
       "<table border=\"1\" class=\"dataframe\">\n",
       "  <thead>\n",
       "    <tr style=\"text-align: right;\">\n",
       "      <th></th>\n",
       "      <th>Longitude</th>\n",
       "      <th>Latitude</th>\n",
       "      <th>Number of fertilizer applications</th>\n",
       "      <th>Soil tillage practices</th>\n",
       "      <th>P+I</th>\n",
       "      <th>Average daily air temperature</th>\n",
       "      <th>SOC(g/kg)</th>\n",
       "      <th>TN(g/kg)</th>\n",
       "      <th>pH</th>\n",
       "      <th>BD(g/cm3)</th>\n",
       "      <th>clay(%)</th>\n",
       "      <th>CEC(cmol/kg)</th>\n",
       "      <th>Nitrogen application rate</th>\n",
       "      <th>EF</th>\n",
       "      <th>U</th>\n",
       "      <th>others</th>\n",
       "      <th>CRF</th>\n",
       "      <th>manure</th>\n",
       "      <th>AN</th>\n",
       "      <th>SBC</th>\n",
       "      <th>Mix</th>\n",
       "      <th>DPM</th>\n",
       "      <th>Rice</th>\n",
       "      <th>Wheat</th>\n",
       "      <th>Maize</th>\n",
       "    </tr>\n",
       "  </thead>\n",
       "  <tbody>\n",
       "    <tr>\n",
       "      <th>count</th>\n",
       "      <td>2627.00000</td>\n",
       "      <td>2627.00000</td>\n",
       "      <td>2627.00000</td>\n",
       "      <td>2627.00000</td>\n",
       "      <td>2627.00000</td>\n",
       "      <td>2627.00000</td>\n",
       "      <td>2627.00000</td>\n",
       "      <td>2627.00000</td>\n",
       "      <td>2627.00000</td>\n",
       "      <td>2627.00000</td>\n",
       "      <td>2627.00000</td>\n",
       "      <td>2627.00000</td>\n",
       "      <td>2627.00000</td>\n",
       "      <td>2627.00000</td>\n",
       "      <td>2627.00000</td>\n",
       "      <td>2627.00000</td>\n",
       "      <td>2627.00000</td>\n",
       "      <td>2627.00000</td>\n",
       "      <td>2627.00000</td>\n",
       "      <td>2627.00000</td>\n",
       "      <td>2627.00000</td>\n",
       "      <td>2627.00000</td>\n",
       "      <td>2627.00000</td>\n",
       "      <td>2627.00000</td>\n",
       "      <td>2627.00000</td>\n",
       "    </tr>\n",
       "    <tr>\n",
       "      <th>mean</th>\n",
       "      <td>76.71030</td>\n",
       "      <td>28.67909</td>\n",
       "      <td>0.60601</td>\n",
       "      <td>0.10773</td>\n",
       "      <td>782.49759</td>\n",
       "      <td>20.51783</td>\n",
       "      <td>14.88120</td>\n",
       "      <td>1.78928</td>\n",
       "      <td>6.92639</td>\n",
       "      <td>1.31897</td>\n",
       "      <td>25.69515</td>\n",
       "      <td>15.20493</td>\n",
       "      <td>178.16510</td>\n",
       "      <td>8.75839</td>\n",
       "      <td>0.50285</td>\n",
       "      <td>0.10354</td>\n",
       "      <td>0.24210</td>\n",
       "      <td>0.13247</td>\n",
       "      <td>0.01903</td>\n",
       "      <td>0.45984</td>\n",
       "      <td>0.21203</td>\n",
       "      <td>0.32813</td>\n",
       "      <td>0.40160</td>\n",
       "      <td>0.24477</td>\n",
       "      <td>0.35364</td>\n",
       "    </tr>\n",
       "    <tr>\n",
       "      <th>std</th>\n",
       "      <td>74.53126</td>\n",
       "      <td>18.80983</td>\n",
       "      <td>0.48872</td>\n",
       "      <td>0.31009</td>\n",
       "      <td>456.30313</td>\n",
       "      <td>6.86699</td>\n",
       "      <td>14.78764</td>\n",
       "      <td>3.02887</td>\n",
       "      <td>1.09143</td>\n",
       "      <td>0.13506</td>\n",
       "      <td>13.56517</td>\n",
       "      <td>8.70027</td>\n",
       "      <td>77.56544</td>\n",
       "      <td>7.54155</td>\n",
       "      <td>0.50009</td>\n",
       "      <td>0.30472</td>\n",
       "      <td>0.42844</td>\n",
       "      <td>0.33907</td>\n",
       "      <td>0.13667</td>\n",
       "      <td>0.49848</td>\n",
       "      <td>0.40882</td>\n",
       "      <td>0.46962</td>\n",
       "      <td>0.49031</td>\n",
       "      <td>0.43003</td>\n",
       "      <td>0.47819</td>\n",
       "    </tr>\n",
       "    <tr>\n",
       "      <th>min</th>\n",
       "      <td>-119.50000</td>\n",
       "      <td>-43.63333</td>\n",
       "      <td>0.00000</td>\n",
       "      <td>0.00000</td>\n",
       "      <td>13.84363</td>\n",
       "      <td>-4.50000</td>\n",
       "      <td>0.65000</td>\n",
       "      <td>0.01190</td>\n",
       "      <td>4.60000</td>\n",
       "      <td>0.66000</td>\n",
       "      <td>1.00000</td>\n",
       "      <td>0.05000</td>\n",
       "      <td>26.70000</td>\n",
       "      <td>0.00513</td>\n",
       "      <td>0.00000</td>\n",
       "      <td>0.00000</td>\n",
       "      <td>0.00000</td>\n",
       "      <td>0.00000</td>\n",
       "      <td>0.00000</td>\n",
       "      <td>0.00000</td>\n",
       "      <td>0.00000</td>\n",
       "      <td>0.00000</td>\n",
       "      <td>0.00000</td>\n",
       "      <td>0.00000</td>\n",
       "      <td>0.00000</td>\n",
       "    </tr>\n",
       "    <tr>\n",
       "      <th>25%</th>\n",
       "      <td>85.91667</td>\n",
       "      <td>28.97361</td>\n",
       "      <td>0.00000</td>\n",
       "      <td>0.00000</td>\n",
       "      <td>368.20000</td>\n",
       "      <td>16.61000</td>\n",
       "      <td>7.47620</td>\n",
       "      <td>0.85000</td>\n",
       "      <td>6.00000</td>\n",
       "      <td>1.26000</td>\n",
       "      <td>16.70000</td>\n",
       "      <td>11.00000</td>\n",
       "      <td>120.00000</td>\n",
       "      <td>2.66253</td>\n",
       "      <td>0.00000</td>\n",
       "      <td>0.00000</td>\n",
       "      <td>0.00000</td>\n",
       "      <td>0.00000</td>\n",
       "      <td>0.00000</td>\n",
       "      <td>0.00000</td>\n",
       "      <td>0.00000</td>\n",
       "      <td>0.00000</td>\n",
       "      <td>0.00000</td>\n",
       "      <td>0.00000</td>\n",
       "      <td>0.00000</td>\n",
       "    </tr>\n",
       "    <tr>\n",
       "      <th>50%</th>\n",
       "      <td>113.55000</td>\n",
       "      <td>31.94500</td>\n",
       "      <td>1.00000</td>\n",
       "      <td>0.00000</td>\n",
       "      <td>759.00000</td>\n",
       "      <td>22.83333</td>\n",
       "      <td>11.50000</td>\n",
       "      <td>1.21499</td>\n",
       "      <td>7.15000</td>\n",
       "      <td>1.33000</td>\n",
       "      <td>21.86000</td>\n",
       "      <td>13.66667</td>\n",
       "      <td>180.00000</td>\n",
       "      <td>6.62000</td>\n",
       "      <td>1.00000</td>\n",
       "      <td>0.00000</td>\n",
       "      <td>0.00000</td>\n",
       "      <td>0.00000</td>\n",
       "      <td>0.00000</td>\n",
       "      <td>0.00000</td>\n",
       "      <td>0.00000</td>\n",
       "      <td>0.00000</td>\n",
       "      <td>0.00000</td>\n",
       "      <td>0.00000</td>\n",
       "      <td>0.00000</td>\n",
       "    </tr>\n",
       "    <tr>\n",
       "      <th>75%</th>\n",
       "      <td>117.86667</td>\n",
       "      <td>36.83000</td>\n",
       "      <td>1.00000</td>\n",
       "      <td>0.00000</td>\n",
       "      <td>1129.34615</td>\n",
       "      <td>25.60000</td>\n",
       "      <td>18.50000</td>\n",
       "      <td>1.94000</td>\n",
       "      <td>7.90000</td>\n",
       "      <td>1.40000</td>\n",
       "      <td>31.50000</td>\n",
       "      <td>17.70000</td>\n",
       "      <td>225.00000</td>\n",
       "      <td>13.22009</td>\n",
       "      <td>1.00000</td>\n",
       "      <td>0.00000</td>\n",
       "      <td>0.00000</td>\n",
       "      <td>0.00000</td>\n",
       "      <td>0.00000</td>\n",
       "      <td>1.00000</td>\n",
       "      <td>0.00000</td>\n",
       "      <td>1.00000</td>\n",
       "      <td>1.00000</td>\n",
       "      <td>0.00000</td>\n",
       "      <td>1.00000</td>\n",
       "    </tr>\n",
       "    <tr>\n",
       "      <th>max</th>\n",
       "      <td>172.46667</td>\n",
       "      <td>56.45000</td>\n",
       "      <td>1.00000</td>\n",
       "      <td>1.00000</td>\n",
       "      <td>2867.54615</td>\n",
       "      <td>35.00000</td>\n",
       "      <td>145.00000</td>\n",
       "      <td>31.00000</td>\n",
       "      <td>9.00000</td>\n",
       "      <td>1.94000</td>\n",
       "      <td>72.10000</td>\n",
       "      <td>95.90000</td>\n",
       "      <td>624.00000</td>\n",
       "      <td>31.91742</td>\n",
       "      <td>1.00000</td>\n",
       "      <td>1.00000</td>\n",
       "      <td>1.00000</td>\n",
       "      <td>1.00000</td>\n",
       "      <td>1.00000</td>\n",
       "      <td>1.00000</td>\n",
       "      <td>1.00000</td>\n",
       "      <td>1.00000</td>\n",
       "      <td>1.00000</td>\n",
       "      <td>1.00000</td>\n",
       "      <td>1.00000</td>\n",
       "    </tr>\n",
       "  </tbody>\n",
       "</table>\n",
       "</div>"
      ],
      "text/plain": [
       "       Longitude   Latitude  Number of fertilizer applications  Soil tillage practices        P+I  Average daily air temperature  SOC(g/kg)   TN(g/kg)         pH  BD(g/cm3)    clay(%)  CEC(cmol/kg)  Nitrogen application rate         EF          U     others        CRF     manure         AN        SBC        Mix        DPM       Rice      Wheat      Maize\n",
       "count 2627.00000 2627.00000                         2627.00000              2627.00000 2627.00000                     2627.00000 2627.00000 2627.00000 2627.00000 2627.00000 2627.00000    2627.00000                 2627.00000 2627.00000 2627.00000 2627.00000 2627.00000 2627.00000 2627.00000 2627.00000 2627.00000 2627.00000 2627.00000 2627.00000 2627.00000\n",
       "mean    76.71030   28.67909                            0.60601                 0.10773  782.49759                       20.51783   14.88120    1.78928    6.92639    1.31897   25.69515      15.20493                  178.16510    8.75839    0.50285    0.10354    0.24210    0.13247    0.01903    0.45984    0.21203    0.32813    0.40160    0.24477    0.35364\n",
       "std     74.53126   18.80983                            0.48872                 0.31009  456.30313                        6.86699   14.78764    3.02887    1.09143    0.13506   13.56517       8.70027                   77.56544    7.54155    0.50009    0.30472    0.42844    0.33907    0.13667    0.49848    0.40882    0.46962    0.49031    0.43003    0.47819\n",
       "min   -119.50000  -43.63333                            0.00000                 0.00000   13.84363                       -4.50000    0.65000    0.01190    4.60000    0.66000    1.00000       0.05000                   26.70000    0.00513    0.00000    0.00000    0.00000    0.00000    0.00000    0.00000    0.00000    0.00000    0.00000    0.00000    0.00000\n",
       "25%     85.91667   28.97361                            0.00000                 0.00000  368.20000                       16.61000    7.47620    0.85000    6.00000    1.26000   16.70000      11.00000                  120.00000    2.66253    0.00000    0.00000    0.00000    0.00000    0.00000    0.00000    0.00000    0.00000    0.00000    0.00000    0.00000\n",
       "50%    113.55000   31.94500                            1.00000                 0.00000  759.00000                       22.83333   11.50000    1.21499    7.15000    1.33000   21.86000      13.66667                  180.00000    6.62000    1.00000    0.00000    0.00000    0.00000    0.00000    0.00000    0.00000    0.00000    0.00000    0.00000    0.00000\n",
       "75%    117.86667   36.83000                            1.00000                 0.00000 1129.34615                       25.60000   18.50000    1.94000    7.90000    1.40000   31.50000      17.70000                  225.00000   13.22009    1.00000    0.00000    0.00000    0.00000    0.00000    1.00000    0.00000    1.00000    1.00000    0.00000    1.00000\n",
       "max    172.46667   56.45000                            1.00000                 1.00000 2867.54615                       35.00000  145.00000   31.00000    9.00000    1.94000   72.10000      95.90000                  624.00000   31.91742    1.00000    1.00000    1.00000    1.00000    1.00000    1.00000    1.00000    1.00000    1.00000    1.00000    1.00000"
      ]
     },
     "execution_count": 472,
     "metadata": {},
     "output_type": "execute_result"
    }
   ],
   "source": [
    "nh3.describe()"
   ]
  },
  {
   "cell_type": "code",
   "execution_count": 476,
   "id": "b3f075e4",
   "metadata": {},
   "outputs": [],
   "source": [
    "for nh3df in bootstrapped_datasets[:-1]: \n",
    "    nh3df = sklearn.utils.shuffle(nh3df,random_state=2022)  \n",
    "    nh3df.index = range(0,len(nh3df))\n",
    "    nh3df"
   ]
  },
  {
   "cell_type": "code",
   "execution_count": 479,
   "id": "5a86d39d",
   "metadata": {},
   "outputs": [
    {
     "data": {
      "text/html": [
       "<div>\n",
       "<style scoped>\n",
       "    .dataframe tbody tr th:only-of-type {\n",
       "        vertical-align: middle;\n",
       "    }\n",
       "\n",
       "    .dataframe tbody tr th {\n",
       "        vertical-align: top;\n",
       "    }\n",
       "\n",
       "    .dataframe thead th {\n",
       "        text-align: right;\n",
       "    }\n",
       "</style>\n",
       "<table border=\"1\" class=\"dataframe\">\n",
       "  <thead>\n",
       "    <tr style=\"text-align: right;\">\n",
       "      <th></th>\n",
       "      <th>Longitude</th>\n",
       "      <th>Latitude</th>\n",
       "      <th>Number of fertilizer applications</th>\n",
       "      <th>Soil tillage practices</th>\n",
       "      <th>P+I</th>\n",
       "      <th>Average daily air temperature</th>\n",
       "      <th>SOC(g/kg)</th>\n",
       "      <th>TN(g/kg)</th>\n",
       "      <th>pH</th>\n",
       "      <th>BD(g/cm3)</th>\n",
       "      <th>clay(%)</th>\n",
       "      <th>CEC(cmol/kg)</th>\n",
       "      <th>Nitrogen application rate</th>\n",
       "      <th>EF</th>\n",
       "      <th>region</th>\n",
       "      <th>U</th>\n",
       "      <th>others</th>\n",
       "      <th>CRF</th>\n",
       "      <th>manure</th>\n",
       "      <th>AN</th>\n",
       "      <th>SBC</th>\n",
       "      <th>Mix</th>\n",
       "      <th>DPM</th>\n",
       "      <th>Rice</th>\n",
       "      <th>Wheat</th>\n",
       "      <th>Maize</th>\n",
       "    </tr>\n",
       "  </thead>\n",
       "  <tbody>\n",
       "    <tr>\n",
       "      <th>0</th>\n",
       "      <td>-109.40000</td>\n",
       "      <td>48.30000</td>\n",
       "      <td>1</td>\n",
       "      <td>1</td>\n",
       "      <td>263.88196</td>\n",
       "      <td>-4.50000</td>\n",
       "      <td>18.50000</td>\n",
       "      <td>1.67000</td>\n",
       "      <td>6.30000</td>\n",
       "      <td>1.24500</td>\n",
       "      <td>22.00000</td>\n",
       "      <td>22.00000</td>\n",
       "      <td>100.00000</td>\n",
       "      <td>16.30000</td>\n",
       "      <td>NonChina</td>\n",
       "      <td>1</td>\n",
       "      <td>0</td>\n",
       "      <td>0</td>\n",
       "      <td>0</td>\n",
       "      <td>0</td>\n",
       "      <td>1</td>\n",
       "      <td>0</td>\n",
       "      <td>0</td>\n",
       "      <td>0</td>\n",
       "      <td>1</td>\n",
       "      <td>0</td>\n",
       "    </tr>\n",
       "    <tr>\n",
       "      <th>1</th>\n",
       "      <td>-91.26667</td>\n",
       "      <td>33.75000</td>\n",
       "      <td>0</td>\n",
       "      <td>0</td>\n",
       "      <td>971.54615</td>\n",
       "      <td>25.00000</td>\n",
       "      <td>16.40000</td>\n",
       "      <td>2.38000</td>\n",
       "      <td>6.60000</td>\n",
       "      <td>1.34500</td>\n",
       "      <td>30.25000</td>\n",
       "      <td>18.50000</td>\n",
       "      <td>168.00000</td>\n",
       "      <td>7.41176</td>\n",
       "      <td>NonChina</td>\n",
       "      <td>0</td>\n",
       "      <td>1</td>\n",
       "      <td>0</td>\n",
       "      <td>0</td>\n",
       "      <td>0</td>\n",
       "      <td>1</td>\n",
       "      <td>0</td>\n",
       "      <td>0</td>\n",
       "      <td>1</td>\n",
       "      <td>0</td>\n",
       "      <td>0</td>\n",
       "    </tr>\n",
       "    <tr>\n",
       "      <th>2</th>\n",
       "      <td>120.67000</td>\n",
       "      <td>30.83000</td>\n",
       "      <td>1</td>\n",
       "      <td>0</td>\n",
       "      <td>938.20000</td>\n",
       "      <td>28.35000</td>\n",
       "      <td>20.30162</td>\n",
       "      <td>2.65000</td>\n",
       "      <td>6.78000</td>\n",
       "      <td>1.33000</td>\n",
       "      <td>51.70000</td>\n",
       "      <td>8.10000</td>\n",
       "      <td>180.00000</td>\n",
       "      <td>6.00000</td>\n",
       "      <td>China</td>\n",
       "      <td>1</td>\n",
       "      <td>0</td>\n",
       "      <td>0</td>\n",
       "      <td>0</td>\n",
       "      <td>0</td>\n",
       "      <td>1</td>\n",
       "      <td>0</td>\n",
       "      <td>0</td>\n",
       "      <td>1</td>\n",
       "      <td>0</td>\n",
       "      <td>0</td>\n",
       "    </tr>\n",
       "    <tr>\n",
       "      <th>3</th>\n",
       "      <td>85.88333</td>\n",
       "      <td>20.50000</td>\n",
       "      <td>0</td>\n",
       "      <td>0</td>\n",
       "      <td>2174.24615</td>\n",
       "      <td>27.14286</td>\n",
       "      <td>7.10000</td>\n",
       "      <td>0.72500</td>\n",
       "      <td>6.10000</td>\n",
       "      <td>1.49000</td>\n",
       "      <td>18.75000</td>\n",
       "      <td>9.75000</td>\n",
       "      <td>60.00000</td>\n",
       "      <td>1.22000</td>\n",
       "      <td>NonChina</td>\n",
       "      <td>0</td>\n",
       "      <td>0</td>\n",
       "      <td>1</td>\n",
       "      <td>0</td>\n",
       "      <td>0</td>\n",
       "      <td>0</td>\n",
       "      <td>0</td>\n",
       "      <td>1</td>\n",
       "      <td>1</td>\n",
       "      <td>0</td>\n",
       "      <td>0</td>\n",
       "    </tr>\n",
       "    <tr>\n",
       "      <th>4</th>\n",
       "      <td>124.33000</td>\n",
       "      <td>43.30000</td>\n",
       "      <td>0</td>\n",
       "      <td>0</td>\n",
       "      <td>899.81251</td>\n",
       "      <td>20.18000</td>\n",
       "      <td>10.96200</td>\n",
       "      <td>1.00000</td>\n",
       "      <td>5.80000</td>\n",
       "      <td>1.50000</td>\n",
       "      <td>1.00000</td>\n",
       "      <td>23.80000</td>\n",
       "      <td>224.00000</td>\n",
       "      <td>3.95982</td>\n",
       "      <td>China</td>\n",
       "      <td>0</td>\n",
       "      <td>0</td>\n",
       "      <td>1</td>\n",
       "      <td>0</td>\n",
       "      <td>0</td>\n",
       "      <td>0</td>\n",
       "      <td>0</td>\n",
       "      <td>1</td>\n",
       "      <td>0</td>\n",
       "      <td>0</td>\n",
       "      <td>1</td>\n",
       "    </tr>\n",
       "    <tr>\n",
       "      <th>...</th>\n",
       "      <td>...</td>\n",
       "      <td>...</td>\n",
       "      <td>...</td>\n",
       "      <td>...</td>\n",
       "      <td>...</td>\n",
       "      <td>...</td>\n",
       "      <td>...</td>\n",
       "      <td>...</td>\n",
       "      <td>...</td>\n",
       "      <td>...</td>\n",
       "      <td>...</td>\n",
       "      <td>...</td>\n",
       "      <td>...</td>\n",
       "      <td>...</td>\n",
       "      <td>...</td>\n",
       "      <td>...</td>\n",
       "      <td>...</td>\n",
       "      <td>...</td>\n",
       "      <td>...</td>\n",
       "      <td>...</td>\n",
       "      <td>...</td>\n",
       "      <td>...</td>\n",
       "      <td>...</td>\n",
       "      <td>...</td>\n",
       "      <td>...</td>\n",
       "      <td>...</td>\n",
       "    </tr>\n",
       "    <tr>\n",
       "      <th>2622</th>\n",
       "      <td>115.78333</td>\n",
       "      <td>38.13333</td>\n",
       "      <td>1</td>\n",
       "      <td>0</td>\n",
       "      <td>206.56090</td>\n",
       "      <td>19.94452</td>\n",
       "      <td>11.19490</td>\n",
       "      <td>1.00000</td>\n",
       "      <td>8.60000</td>\n",
       "      <td>1.39000</td>\n",
       "      <td>18.00000</td>\n",
       "      <td>14.00000</td>\n",
       "      <td>180.00000</td>\n",
       "      <td>7.16667</td>\n",
       "      <td>China</td>\n",
       "      <td>1</td>\n",
       "      <td>0</td>\n",
       "      <td>0</td>\n",
       "      <td>0</td>\n",
       "      <td>0</td>\n",
       "      <td>1</td>\n",
       "      <td>0</td>\n",
       "      <td>0</td>\n",
       "      <td>0</td>\n",
       "      <td>0</td>\n",
       "      <td>1</td>\n",
       "    </tr>\n",
       "    <tr>\n",
       "      <th>2623</th>\n",
       "      <td>112.50000</td>\n",
       "      <td>28.51000</td>\n",
       "      <td>1</td>\n",
       "      <td>0</td>\n",
       "      <td>2867.54615</td>\n",
       "      <td>24.00000</td>\n",
       "      <td>20.78140</td>\n",
       "      <td>2.05000</td>\n",
       "      <td>5.16000</td>\n",
       "      <td>1.41000</td>\n",
       "      <td>41.75000</td>\n",
       "      <td>11.00000</td>\n",
       "      <td>150.00000</td>\n",
       "      <td>2.54000</td>\n",
       "      <td>China</td>\n",
       "      <td>0</td>\n",
       "      <td>0</td>\n",
       "      <td>0</td>\n",
       "      <td>1</td>\n",
       "      <td>0</td>\n",
       "      <td>0</td>\n",
       "      <td>1</td>\n",
       "      <td>0</td>\n",
       "      <td>1</td>\n",
       "      <td>0</td>\n",
       "      <td>0</td>\n",
       "    </tr>\n",
       "    <tr>\n",
       "      <th>2624</th>\n",
       "      <td>111.50000</td>\n",
       "      <td>28.91667</td>\n",
       "      <td>1</td>\n",
       "      <td>0</td>\n",
       "      <td>1195.90000</td>\n",
       "      <td>24.00000</td>\n",
       "      <td>14.10000</td>\n",
       "      <td>1.78000</td>\n",
       "      <td>5.38000</td>\n",
       "      <td>1.21000</td>\n",
       "      <td>28.20000</td>\n",
       "      <td>11.40000</td>\n",
       "      <td>81.30000</td>\n",
       "      <td>12.66913</td>\n",
       "      <td>China</td>\n",
       "      <td>1</td>\n",
       "      <td>0</td>\n",
       "      <td>0</td>\n",
       "      <td>0</td>\n",
       "      <td>0</td>\n",
       "      <td>0</td>\n",
       "      <td>1</td>\n",
       "      <td>0</td>\n",
       "      <td>1</td>\n",
       "      <td>0</td>\n",
       "      <td>0</td>\n",
       "    </tr>\n",
       "    <tr>\n",
       "      <th>2625</th>\n",
       "      <td>119.16869</td>\n",
       "      <td>31.94500</td>\n",
       "      <td>1</td>\n",
       "      <td>0</td>\n",
       "      <td>904.76117</td>\n",
       "      <td>9.85000</td>\n",
       "      <td>9.90000</td>\n",
       "      <td>0.68000</td>\n",
       "      <td>6.30000</td>\n",
       "      <td>1.41000</td>\n",
       "      <td>21.00000</td>\n",
       "      <td>11.00000</td>\n",
       "      <td>100.00000</td>\n",
       "      <td>7.60000</td>\n",
       "      <td>China</td>\n",
       "      <td>0</td>\n",
       "      <td>0</td>\n",
       "      <td>0</td>\n",
       "      <td>1</td>\n",
       "      <td>0</td>\n",
       "      <td>0</td>\n",
       "      <td>1</td>\n",
       "      <td>0</td>\n",
       "      <td>0</td>\n",
       "      <td>1</td>\n",
       "      <td>0</td>\n",
       "    </tr>\n",
       "    <tr>\n",
       "      <th>2626</th>\n",
       "      <td>-91.55000</td>\n",
       "      <td>34.50000</td>\n",
       "      <td>0</td>\n",
       "      <td>0</td>\n",
       "      <td>974.94615</td>\n",
       "      <td>30.00000</td>\n",
       "      <td>9.40000</td>\n",
       "      <td>1.94000</td>\n",
       "      <td>4.90000</td>\n",
       "      <td>1.43000</td>\n",
       "      <td>20.50000</td>\n",
       "      <td>11.00000</td>\n",
       "      <td>168.00000</td>\n",
       "      <td>17.50000</td>\n",
       "      <td>NonChina</td>\n",
       "      <td>1</td>\n",
       "      <td>0</td>\n",
       "      <td>0</td>\n",
       "      <td>0</td>\n",
       "      <td>0</td>\n",
       "      <td>1</td>\n",
       "      <td>0</td>\n",
       "      <td>0</td>\n",
       "      <td>1</td>\n",
       "      <td>0</td>\n",
       "      <td>0</td>\n",
       "    </tr>\n",
       "  </tbody>\n",
       "</table>\n",
       "<p>2627 rows × 26 columns</p>\n",
       "</div>"
      ],
      "text/plain": [
       "      Longitude  Latitude  Number of fertilizer applications  Soil tillage practices        P+I  Average daily air temperature  SOC(g/kg)  TN(g/kg)      pH  BD(g/cm3)  clay(%)  CEC(cmol/kg)  Nitrogen application rate       EF    region  U  others  CRF  manure  AN  SBC  Mix  DPM  Rice  Wheat  Maize\n",
       "0    -109.40000  48.30000                                  1                       1  263.88196                       -4.50000   18.50000   1.67000 6.30000    1.24500 22.00000      22.00000                  100.00000 16.30000  NonChina  1       0    0       0   0    1    0    0     0      1      0\n",
       "1     -91.26667  33.75000                                  0                       0  971.54615                       25.00000   16.40000   2.38000 6.60000    1.34500 30.25000      18.50000                  168.00000  7.41176  NonChina  0       1    0       0   0    1    0    0     1      0      0\n",
       "2     120.67000  30.83000                                  1                       0  938.20000                       28.35000   20.30162   2.65000 6.78000    1.33000 51.70000       8.10000                  180.00000  6.00000     China  1       0    0       0   0    1    0    0     1      0      0\n",
       "3      85.88333  20.50000                                  0                       0 2174.24615                       27.14286    7.10000   0.72500 6.10000    1.49000 18.75000       9.75000                   60.00000  1.22000  NonChina  0       0    1       0   0    0    0    1     1      0      0\n",
       "4     124.33000  43.30000                                  0                       0  899.81251                       20.18000   10.96200   1.00000 5.80000    1.50000  1.00000      23.80000                  224.00000  3.95982     China  0       0    1       0   0    0    0    1     0      0      1\n",
       "...         ...       ...                                ...                     ...        ...                            ...        ...       ...     ...        ...      ...           ...                        ...      ...       ... ..     ...  ...     ...  ..  ...  ...  ...   ...    ...    ...\n",
       "2622  115.78333  38.13333                                  1                       0  206.56090                       19.94452   11.19490   1.00000 8.60000    1.39000 18.00000      14.00000                  180.00000  7.16667     China  1       0    0       0   0    1    0    0     0      0      1\n",
       "2623  112.50000  28.51000                                  1                       0 2867.54615                       24.00000   20.78140   2.05000 5.16000    1.41000 41.75000      11.00000                  150.00000  2.54000     China  0       0    0       1   0    0    1    0     1      0      0\n",
       "2624  111.50000  28.91667                                  1                       0 1195.90000                       24.00000   14.10000   1.78000 5.38000    1.21000 28.20000      11.40000                   81.30000 12.66913     China  1       0    0       0   0    0    1    0     1      0      0\n",
       "2625  119.16869  31.94500                                  1                       0  904.76117                        9.85000    9.90000   0.68000 6.30000    1.41000 21.00000      11.00000                  100.00000  7.60000     China  0       0    0       1   0    0    1    0     0      1      0\n",
       "2626  -91.55000  34.50000                                  0                       0  974.94615                       30.00000    9.40000   1.94000 4.90000    1.43000 20.50000      11.00000                  168.00000 17.50000  NonChina  1       0    0       0   0    1    0    0     1      0      0\n",
       "\n",
       "[2627 rows x 26 columns]"
      ]
     },
     "execution_count": 479,
     "metadata": {},
     "output_type": "execute_result"
    }
   ],
   "source": [
    "nh3 = sklearn.utils.shuffle(nh3,random_state=2022) \n",
    "nh3.index = range(0,len(nh3))\n",
    "nh3"
   ]
  },
  {
   "cell_type": "code",
   "execution_count": 480,
   "id": "a9364310",
   "metadata": {},
   "outputs": [],
   "source": [
    "#data transformation\n",
    "EFraw = nh3['EF'].copy()\n",
    "#Box-Cox transformation\n",
    "pt = preprocessing.PowerTransformer(method='box-cox', standardize=False)\n",
    "nh3['EF'] = pt.fit_transform(nh3['EF'].ravel().reshape(-1, 1))"
   ]
  },
  {
   "cell_type": "code",
   "execution_count": 481,
   "id": "232b2828",
   "metadata": {},
   "outputs": [],
   "source": [
    "for nh3df in bootstrapped_datasets[:-1]: \n",
    "    nh3df['EF'] = pt.transform(nh3df['EF'].ravel().reshape(-1, 1))"
   ]
  },
  {
   "cell_type": "code",
   "execution_count": 483,
   "id": "bfb164a2",
   "metadata": {},
   "outputs": [
    {
     "data": {
      "text/plain": [
       "array([0.33617797])"
      ]
     },
     "execution_count": 483,
     "metadata": {},
     "output_type": "execute_result"
    }
   ],
   "source": [
    "pt.inverse_transform(np.array([[1]]))  \n",
    "pt.lambdas_  "
   ]
  },
  {
   "cell_type": "code",
   "execution_count": 484,
   "id": "0d3bbf8c",
   "metadata": {},
   "outputs": [
    {
     "data": {
      "text/plain": [
       "2.5919913061213378"
      ]
     },
     "execution_count": 484,
     "metadata": {},
     "output_type": "execute_result"
    }
   ],
   "source": [
    "nh3['EF'].mean()"
   ]
  },
  {
   "cell_type": "code",
   "execution_count": 486,
   "id": "bf801a28",
   "metadata": {},
   "outputs": [],
   "source": [
    "X_col_ori = list(nh3.columns)"
   ]
  },
  {
   "cell_type": "code",
   "execution_count": 487,
   "id": "19eec40a",
   "metadata": {},
   "outputs": [],
   "source": [
    "X2 = nh3[X_col_ori] \n",
    "X_col_ori.remove('EF')\n",
    "X_col_ori.remove('region')\n",
    "X_col_ori.remove('Longitude')\n",
    "X_col_ori.remove('Latitude')"
   ]
  },
  {
   "cell_type": "code",
   "execution_count": 488,
   "id": "a3be2dd5",
   "metadata": {},
   "outputs": [],
   "source": [
    "X = nh3[X_col_ori]"
   ]
  },
  {
   "cell_type": "code",
   "execution_count": 489,
   "id": "5d710c53",
   "metadata": {},
   "outputs": [],
   "source": [
    "for i in range(5,104):\n",
    "    var['X_'+str(i)] = var['nh3_' + str(i)][X_col_ori]\n",
    "    var['X_'+str(i)] = var['X_'+str(i)].rename(columns={'Number of fertilizer applications':'FAT',\n",
    "                      'Soil tillage practices':'STP',\n",
    "                      'Average daily air temperature':'Tem',\n",
    "                      'SOC(g/kg)':'SOC','TN(g/kg)':'TN','BD(g/cm3)':'BD','clay(%)':'Clay','CEC(cmol/kg)':'CEC',\n",
    "                      'Nitrogen application rate':'Nrate',\n",
    "                      'U':'UOA','P+I':'Water'})"
   ]
  },
  {
   "cell_type": "code",
   "execution_count": 490,
   "id": "dc84dd8b",
   "metadata": {},
   "outputs": [],
   "source": [
    "X2 = X2.rename(columns={'Number of fertilizer applications':'FAT',\n",
    "                      'Soil tillage practices':'STP',\n",
    "                      'Average daily air temperature':'Tem',\n",
    "                      'SOC(g/kg)':'SOC','TN(g/kg)':'TN','BD(g/cm3)':'BD','clay(%)':'Clay','CEC(cmol/kg)':'CEC',\n",
    "                      'Nitrogen application rate':'Nrate',\n",
    "                      'U':'UOA','P+I':'Water'})"
   ]
  },
  {
   "cell_type": "code",
   "execution_count": 491,
   "id": "3e54857c",
   "metadata": {},
   "outputs": [],
   "source": [
    "X = X.rename(columns={'Number of fertilizer applications':'FAT',\n",
    "                      'Soil tillage practices':'STP',\n",
    "                      'Average daily air temperature':'Tem',\n",
    "                      'SOC(g/kg)':'SOC','TN(g/kg)':'TN','BD(g/cm3)':'BD','clay(%)':'Clay','CEC(cmol/kg)':'CEC',\n",
    "                      'Nitrogen application rate':'Nrate',\n",
    "                      'U':'UOA','P+I':'Water'})"
   ]
  },
  {
   "cell_type": "code",
   "execution_count": 492,
   "id": "fcef4868",
   "metadata": {},
   "outputs": [],
   "source": [
    "X_col = list(X.columns)"
   ]
  },
  {
   "cell_type": "code",
   "execution_count": 495,
   "id": "5e8f3dce",
   "metadata": {},
   "outputs": [],
   "source": [
    "Y = nh3['EF'].values.reshape(len(nh3),1)"
   ]
  },
  {
   "cell_type": "code",
   "execution_count": 496,
   "id": "863c2397",
   "metadata": {},
   "outputs": [],
   "source": [
    "for i in range(5,104):\n",
    "    var['Y_'+str(i)] = var['nh3_' + str(i)]['EF'].values.reshape(len(var['nh3_' + str(i)]),1)"
   ]
  },
  {
   "cell_type": "code",
   "execution_count": 497,
   "id": "186d2739",
   "metadata": {},
   "outputs": [
    {
     "data": {
      "text/plain": [
       "((2627, 22), (2627, 1))"
      ]
     },
     "execution_count": 497,
     "metadata": {},
     "output_type": "execute_result"
    }
   ],
   "source": [
    "X.shape, Y.shape"
   ]
  },
  {
   "cell_type": "code",
   "execution_count": 498,
   "id": "788c3e04",
   "metadata": {},
   "outputs": [
    {
     "data": {
      "text/plain": [
       "((2627, 22), (2627, 1))"
      ]
     },
     "execution_count": 498,
     "metadata": {},
     "output_type": "execute_result"
    }
   ],
   "source": [
    "var['X_'+str(i)].shape, var['Y_'+str(i)].shape"
   ]
  },
  {
   "cell_type": "code",
   "execution_count": 335,
   "id": "d56ba496",
   "metadata": {},
   "outputs": [],
   "source": [
    "x_train, x_test, y_train, y_test = train_test_split(X, Y, test_size=0.2, random_state = 266) "
   ]
  },
  {
   "cell_type": "code",
   "execution_count": 229,
   "id": "c15ae987",
   "metadata": {},
   "outputs": [
    {
     "data": {
      "text/plain": [
       "((2101, 22), (526, 22))"
      ]
     },
     "execution_count": 229,
     "metadata": {},
     "output_type": "execute_result"
    }
   ],
   "source": [
    "x_train.shape, x_test.shape"
   ]
  },
  {
   "cell_type": "code",
   "execution_count": 230,
   "id": "5599bab8",
   "metadata": {
    "scrolled": true
   },
   "outputs": [
    {
     "data": {
      "text/plain": [
       "((2101, 1), (526, 1))"
      ]
     },
     "execution_count": 230,
     "metadata": {},
     "output_type": "execute_result"
    }
   ],
   "source": [
    "y_train.shape, y_test.shape"
   ]
  },
  {
   "cell_type": "code",
   "execution_count": 231,
   "id": "6c308abd",
   "metadata": {},
   "outputs": [],
   "source": [
    "n_estimators = range(100,101)\n",
    "random_state = range(2023,2024)\n",
    "max_features= range(1,22)\n",
    "min_samples_leaf = range(1,5)\n",
    "max_depth = [3, 5, 8, 10, 15, 20, 25, 30, 35, 40, None] "
   ]
  },
  {
   "cell_type": "code",
   "execution_count": 232,
   "id": "aac247a4",
   "metadata": {},
   "outputs": [],
   "source": [
    "param_grid = {'n_estimators': n_estimators,\n",
    "              'max_features': max_features,\n",
    "             'random_state': random_state,\n",
    "             'min_samples_leaf': min_samples_leaf,\n",
    "             'max_depth': max_depth}"
   ]
  },
  {
   "cell_type": "code",
   "execution_count": 233,
   "id": "e8b30596",
   "metadata": {},
   "outputs": [],
   "source": [
    "grid = GridSearchCV(RandomForestRegressor(), param_grid, cv=10,n_jobs = -1,return_train_score=False)"
   ]
  },
  {
   "cell_type": "code",
   "execution_count": 234,
   "id": "83363a8c",
   "metadata": {},
   "outputs": [],
   "source": [
    "begin_time = time()"
   ]
  },
  {
   "cell_type": "code",
   "execution_count": 235,
   "id": "727b98bc",
   "metadata": {},
   "outputs": [
    {
     "data": {
      "text/html": [
       "<style>#sk-container-id-3 {color: black;background-color: white;}#sk-container-id-3 pre{padding: 0;}#sk-container-id-3 div.sk-toggleable {background-color: white;}#sk-container-id-3 label.sk-toggleable__label {cursor: pointer;display: block;width: 100%;margin-bottom: 0;padding: 0.3em;box-sizing: border-box;text-align: center;}#sk-container-id-3 label.sk-toggleable__label-arrow:before {content: \"▸\";float: left;margin-right: 0.25em;color: #696969;}#sk-container-id-3 label.sk-toggleable__label-arrow:hover:before {color: black;}#sk-container-id-3 div.sk-estimator:hover label.sk-toggleable__label-arrow:before {color: black;}#sk-container-id-3 div.sk-toggleable__content {max-height: 0;max-width: 0;overflow: hidden;text-align: left;background-color: #f0f8ff;}#sk-container-id-3 div.sk-toggleable__content pre {margin: 0.2em;color: black;border-radius: 0.25em;background-color: #f0f8ff;}#sk-container-id-3 input.sk-toggleable__control:checked~div.sk-toggleable__content {max-height: 200px;max-width: 100%;overflow: auto;}#sk-container-id-3 input.sk-toggleable__control:checked~label.sk-toggleable__label-arrow:before {content: \"▾\";}#sk-container-id-3 div.sk-estimator input.sk-toggleable__control:checked~label.sk-toggleable__label {background-color: #d4ebff;}#sk-container-id-3 div.sk-label input.sk-toggleable__control:checked~label.sk-toggleable__label {background-color: #d4ebff;}#sk-container-id-3 input.sk-hidden--visually {border: 0;clip: rect(1px 1px 1px 1px);clip: rect(1px, 1px, 1px, 1px);height: 1px;margin: -1px;overflow: hidden;padding: 0;position: absolute;width: 1px;}#sk-container-id-3 div.sk-estimator {font-family: monospace;background-color: #f0f8ff;border: 1px dotted black;border-radius: 0.25em;box-sizing: border-box;margin-bottom: 0.5em;}#sk-container-id-3 div.sk-estimator:hover {background-color: #d4ebff;}#sk-container-id-3 div.sk-parallel-item::after {content: \"\";width: 100%;border-bottom: 1px solid gray;flex-grow: 1;}#sk-container-id-3 div.sk-label:hover label.sk-toggleable__label {background-color: #d4ebff;}#sk-container-id-3 div.sk-serial::before {content: \"\";position: absolute;border-left: 1px solid gray;box-sizing: border-box;top: 0;bottom: 0;left: 50%;z-index: 0;}#sk-container-id-3 div.sk-serial {display: flex;flex-direction: column;align-items: center;background-color: white;padding-right: 0.2em;padding-left: 0.2em;position: relative;}#sk-container-id-3 div.sk-item {position: relative;z-index: 1;}#sk-container-id-3 div.sk-parallel {display: flex;align-items: stretch;justify-content: center;background-color: white;position: relative;}#sk-container-id-3 div.sk-item::before, #sk-container-id-3 div.sk-parallel-item::before {content: \"\";position: absolute;border-left: 1px solid gray;box-sizing: border-box;top: 0;bottom: 0;left: 50%;z-index: -1;}#sk-container-id-3 div.sk-parallel-item {display: flex;flex-direction: column;z-index: 1;position: relative;background-color: white;}#sk-container-id-3 div.sk-parallel-item:first-child::after {align-self: flex-end;width: 50%;}#sk-container-id-3 div.sk-parallel-item:last-child::after {align-self: flex-start;width: 50%;}#sk-container-id-3 div.sk-parallel-item:only-child::after {width: 0;}#sk-container-id-3 div.sk-dashed-wrapped {border: 1px dashed gray;margin: 0 0.4em 0.5em 0.4em;box-sizing: border-box;padding-bottom: 0.4em;background-color: white;}#sk-container-id-3 div.sk-label label {font-family: monospace;font-weight: bold;display: inline-block;line-height: 1.2em;}#sk-container-id-3 div.sk-label-container {text-align: center;}#sk-container-id-3 div.sk-container {/* jupyter's `normalize.less` sets `[hidden] { display: none; }` but bootstrap.min.css set `[hidden] { display: none !important; }` so we also need the `!important` here to be able to override the default hidden behavior on the sphinx rendered scikit-learn.org. See: https://github.com/scikit-learn/scikit-learn/issues/21755 */display: inline-block !important;position: relative;}#sk-container-id-3 div.sk-text-repr-fallback {display: none;}</style><div id=\"sk-container-id-3\" class=\"sk-top-container\"><div class=\"sk-text-repr-fallback\"><pre>GridSearchCV(cv=10, estimator=RandomForestRegressor(), n_jobs=-1,\n",
       "             param_grid={&#x27;max_depth&#x27;: [3, 5, 8, 10, 15, 20, 25, 30, 35, 40,\n",
       "                                       None],\n",
       "                         &#x27;max_features&#x27;: range(1, 22),\n",
       "                         &#x27;min_samples_leaf&#x27;: range(1, 5),\n",
       "                         &#x27;n_estimators&#x27;: range(100, 101),\n",
       "                         &#x27;random_state&#x27;: range(2023, 2024)})</pre><b>In a Jupyter environment, please rerun this cell to show the HTML representation or trust the notebook. <br />On GitHub, the HTML representation is unable to render, please try loading this page with nbviewer.org.</b></div><div class=\"sk-container\" hidden><div class=\"sk-item sk-dashed-wrapped\"><div class=\"sk-label-container\"><div class=\"sk-label sk-toggleable\"><input class=\"sk-toggleable__control sk-hidden--visually\" id=\"sk-estimator-id-5\" type=\"checkbox\" ><label for=\"sk-estimator-id-5\" class=\"sk-toggleable__label sk-toggleable__label-arrow\">GridSearchCV</label><div class=\"sk-toggleable__content\"><pre>GridSearchCV(cv=10, estimator=RandomForestRegressor(), n_jobs=-1,\n",
       "             param_grid={&#x27;max_depth&#x27;: [3, 5, 8, 10, 15, 20, 25, 30, 35, 40,\n",
       "                                       None],\n",
       "                         &#x27;max_features&#x27;: range(1, 22),\n",
       "                         &#x27;min_samples_leaf&#x27;: range(1, 5),\n",
       "                         &#x27;n_estimators&#x27;: range(100, 101),\n",
       "                         &#x27;random_state&#x27;: range(2023, 2024)})</pre></div></div></div><div class=\"sk-parallel\"><div class=\"sk-parallel-item\"><div class=\"sk-item\"><div class=\"sk-label-container\"><div class=\"sk-label sk-toggleable\"><input class=\"sk-toggleable__control sk-hidden--visually\" id=\"sk-estimator-id-6\" type=\"checkbox\" ><label for=\"sk-estimator-id-6\" class=\"sk-toggleable__label sk-toggleable__label-arrow\">estimator: RandomForestRegressor</label><div class=\"sk-toggleable__content\"><pre>RandomForestRegressor()</pre></div></div></div><div class=\"sk-serial\"><div class=\"sk-item\"><div class=\"sk-estimator sk-toggleable\"><input class=\"sk-toggleable__control sk-hidden--visually\" id=\"sk-estimator-id-7\" type=\"checkbox\" ><label for=\"sk-estimator-id-7\" class=\"sk-toggleable__label sk-toggleable__label-arrow\">RandomForestRegressor</label><div class=\"sk-toggleable__content\"><pre>RandomForestRegressor()</pre></div></div></div></div></div></div></div></div></div></div>"
      ],
      "text/plain": [
       "GridSearchCV(cv=10, estimator=RandomForestRegressor(), n_jobs=-1,\n",
       "             param_grid={'max_depth': [3, 5, 8, 10, 15, 20, 25, 30, 35, 40,\n",
       "                                       None],\n",
       "                         'max_features': range(1, 22),\n",
       "                         'min_samples_leaf': range(1, 5),\n",
       "                         'n_estimators': range(100, 101),\n",
       "                         'random_state': range(2023, 2024)})"
      ]
     },
     "execution_count": 235,
     "metadata": {},
     "output_type": "execute_result"
    }
   ],
   "source": [
    "grid.fit(x_train, y_train.ravel())"
   ]
  },
  {
   "cell_type": "code",
   "execution_count": 236,
   "id": "7de19d46",
   "metadata": {},
   "outputs": [
    {
     "name": "stdout",
     "output_type": "stream",
     "text": [
      "time cost： 5.562656692663828 min\n"
     ]
    }
   ],
   "source": [
    "end_time = time()\n",
    "run_time = end_time-begin_time\n",
    "print ('time cost：',run_time/60, 'min') #该循环程序运行时间： 1.4201874732"
   ]
  },
  {
   "cell_type": "code",
   "execution_count": 237,
   "id": "5f8698db",
   "metadata": {
    "scrolled": true
   },
   "outputs": [
    {
     "data": {
      "text/plain": [
       "{'max_depth': 30,\n",
       " 'max_features': 8,\n",
       " 'min_samples_leaf': 1,\n",
       " 'n_estimators': 100,\n",
       " 'random_state': 2023}"
      ]
     },
     "execution_count": 237,
     "metadata": {},
     "output_type": "execute_result"
    }
   ],
   "source": [
    "grid.best_params_"
   ]
  },
  {
   "cell_type": "code",
   "execution_count": 238,
   "id": "d81582b6",
   "metadata": {},
   "outputs": [],
   "source": [
    "n_estimators = range(500,501)\n",
    "random_state = range(2023,2024)\n",
    "max_features= range(6,16)\n",
    "min_samples_leaf = range(1,2)\n",
    "max_depth = [15, 20, 25, 30, 35, 40, None]"
   ]
  },
  {
   "cell_type": "code",
   "execution_count": 239,
   "id": "9e4a4810",
   "metadata": {},
   "outputs": [],
   "source": [
    "param_grid = {'n_estimators': n_estimators,\n",
    "              'max_features': max_features,\n",
    "             'random_state': random_state,\n",
    "             'min_samples_leaf': min_samples_leaf,\n",
    "             'max_depth': max_depth}"
   ]
  },
  {
   "cell_type": "code",
   "execution_count": 240,
   "id": "91e0059d",
   "metadata": {},
   "outputs": [],
   "source": [
    "grid = GridSearchCV(RandomForestRegressor(), param_grid, cv=10,n_jobs = 7,return_train_score=False)"
   ]
  },
  {
   "cell_type": "code",
   "execution_count": 241,
   "id": "49a362e1",
   "metadata": {},
   "outputs": [],
   "source": [
    "begin_time = time()"
   ]
  },
  {
   "cell_type": "code",
   "execution_count": 242,
   "id": "2d781ce9",
   "metadata": {},
   "outputs": [
    {
     "data": {
      "text/html": [
       "<style>#sk-container-id-4 {color: black;background-color: white;}#sk-container-id-4 pre{padding: 0;}#sk-container-id-4 div.sk-toggleable {background-color: white;}#sk-container-id-4 label.sk-toggleable__label {cursor: pointer;display: block;width: 100%;margin-bottom: 0;padding: 0.3em;box-sizing: border-box;text-align: center;}#sk-container-id-4 label.sk-toggleable__label-arrow:before {content: \"▸\";float: left;margin-right: 0.25em;color: #696969;}#sk-container-id-4 label.sk-toggleable__label-arrow:hover:before {color: black;}#sk-container-id-4 div.sk-estimator:hover label.sk-toggleable__label-arrow:before {color: black;}#sk-container-id-4 div.sk-toggleable__content {max-height: 0;max-width: 0;overflow: hidden;text-align: left;background-color: #f0f8ff;}#sk-container-id-4 div.sk-toggleable__content pre {margin: 0.2em;color: black;border-radius: 0.25em;background-color: #f0f8ff;}#sk-container-id-4 input.sk-toggleable__control:checked~div.sk-toggleable__content {max-height: 200px;max-width: 100%;overflow: auto;}#sk-container-id-4 input.sk-toggleable__control:checked~label.sk-toggleable__label-arrow:before {content: \"▾\";}#sk-container-id-4 div.sk-estimator input.sk-toggleable__control:checked~label.sk-toggleable__label {background-color: #d4ebff;}#sk-container-id-4 div.sk-label input.sk-toggleable__control:checked~label.sk-toggleable__label {background-color: #d4ebff;}#sk-container-id-4 input.sk-hidden--visually {border: 0;clip: rect(1px 1px 1px 1px);clip: rect(1px, 1px, 1px, 1px);height: 1px;margin: -1px;overflow: hidden;padding: 0;position: absolute;width: 1px;}#sk-container-id-4 div.sk-estimator {font-family: monospace;background-color: #f0f8ff;border: 1px dotted black;border-radius: 0.25em;box-sizing: border-box;margin-bottom: 0.5em;}#sk-container-id-4 div.sk-estimator:hover {background-color: #d4ebff;}#sk-container-id-4 div.sk-parallel-item::after {content: \"\";width: 100%;border-bottom: 1px solid gray;flex-grow: 1;}#sk-container-id-4 div.sk-label:hover label.sk-toggleable__label {background-color: #d4ebff;}#sk-container-id-4 div.sk-serial::before {content: \"\";position: absolute;border-left: 1px solid gray;box-sizing: border-box;top: 0;bottom: 0;left: 50%;z-index: 0;}#sk-container-id-4 div.sk-serial {display: flex;flex-direction: column;align-items: center;background-color: white;padding-right: 0.2em;padding-left: 0.2em;position: relative;}#sk-container-id-4 div.sk-item {position: relative;z-index: 1;}#sk-container-id-4 div.sk-parallel {display: flex;align-items: stretch;justify-content: center;background-color: white;position: relative;}#sk-container-id-4 div.sk-item::before, #sk-container-id-4 div.sk-parallel-item::before {content: \"\";position: absolute;border-left: 1px solid gray;box-sizing: border-box;top: 0;bottom: 0;left: 50%;z-index: -1;}#sk-container-id-4 div.sk-parallel-item {display: flex;flex-direction: column;z-index: 1;position: relative;background-color: white;}#sk-container-id-4 div.sk-parallel-item:first-child::after {align-self: flex-end;width: 50%;}#sk-container-id-4 div.sk-parallel-item:last-child::after {align-self: flex-start;width: 50%;}#sk-container-id-4 div.sk-parallel-item:only-child::after {width: 0;}#sk-container-id-4 div.sk-dashed-wrapped {border: 1px dashed gray;margin: 0 0.4em 0.5em 0.4em;box-sizing: border-box;padding-bottom: 0.4em;background-color: white;}#sk-container-id-4 div.sk-label label {font-family: monospace;font-weight: bold;display: inline-block;line-height: 1.2em;}#sk-container-id-4 div.sk-label-container {text-align: center;}#sk-container-id-4 div.sk-container {/* jupyter's `normalize.less` sets `[hidden] { display: none; }` but bootstrap.min.css set `[hidden] { display: none !important; }` so we also need the `!important` here to be able to override the default hidden behavior on the sphinx rendered scikit-learn.org. See: https://github.com/scikit-learn/scikit-learn/issues/21755 */display: inline-block !important;position: relative;}#sk-container-id-4 div.sk-text-repr-fallback {display: none;}</style><div id=\"sk-container-id-4\" class=\"sk-top-container\"><div class=\"sk-text-repr-fallback\"><pre>GridSearchCV(cv=10, estimator=RandomForestRegressor(), n_jobs=7,\n",
       "             param_grid={&#x27;max_depth&#x27;: [15, 20, 25, 30, 35, 40, None],\n",
       "                         &#x27;max_features&#x27;: range(6, 16),\n",
       "                         &#x27;min_samples_leaf&#x27;: range(1, 2),\n",
       "                         &#x27;n_estimators&#x27;: range(500, 501),\n",
       "                         &#x27;random_state&#x27;: range(2023, 2024)})</pre><b>In a Jupyter environment, please rerun this cell to show the HTML representation or trust the notebook. <br />On GitHub, the HTML representation is unable to render, please try loading this page with nbviewer.org.</b></div><div class=\"sk-container\" hidden><div class=\"sk-item sk-dashed-wrapped\"><div class=\"sk-label-container\"><div class=\"sk-label sk-toggleable\"><input class=\"sk-toggleable__control sk-hidden--visually\" id=\"sk-estimator-id-8\" type=\"checkbox\" ><label for=\"sk-estimator-id-8\" class=\"sk-toggleable__label sk-toggleable__label-arrow\">GridSearchCV</label><div class=\"sk-toggleable__content\"><pre>GridSearchCV(cv=10, estimator=RandomForestRegressor(), n_jobs=7,\n",
       "             param_grid={&#x27;max_depth&#x27;: [15, 20, 25, 30, 35, 40, None],\n",
       "                         &#x27;max_features&#x27;: range(6, 16),\n",
       "                         &#x27;min_samples_leaf&#x27;: range(1, 2),\n",
       "                         &#x27;n_estimators&#x27;: range(500, 501),\n",
       "                         &#x27;random_state&#x27;: range(2023, 2024)})</pre></div></div></div><div class=\"sk-parallel\"><div class=\"sk-parallel-item\"><div class=\"sk-item\"><div class=\"sk-label-container\"><div class=\"sk-label sk-toggleable\"><input class=\"sk-toggleable__control sk-hidden--visually\" id=\"sk-estimator-id-9\" type=\"checkbox\" ><label for=\"sk-estimator-id-9\" class=\"sk-toggleable__label sk-toggleable__label-arrow\">estimator: RandomForestRegressor</label><div class=\"sk-toggleable__content\"><pre>RandomForestRegressor()</pre></div></div></div><div class=\"sk-serial\"><div class=\"sk-item\"><div class=\"sk-estimator sk-toggleable\"><input class=\"sk-toggleable__control sk-hidden--visually\" id=\"sk-estimator-id-10\" type=\"checkbox\" ><label for=\"sk-estimator-id-10\" class=\"sk-toggleable__label sk-toggleable__label-arrow\">RandomForestRegressor</label><div class=\"sk-toggleable__content\"><pre>RandomForestRegressor()</pre></div></div></div></div></div></div></div></div></div></div>"
      ],
      "text/plain": [
       "GridSearchCV(cv=10, estimator=RandomForestRegressor(), n_jobs=7,\n",
       "             param_grid={'max_depth': [15, 20, 25, 30, 35, 40, None],\n",
       "                         'max_features': range(6, 16),\n",
       "                         'min_samples_leaf': range(1, 2),\n",
       "                         'n_estimators': range(500, 501),\n",
       "                         'random_state': range(2023, 2024)})"
      ]
     },
     "execution_count": 242,
     "metadata": {},
     "output_type": "execute_result"
    }
   ],
   "source": [
    "grid.fit(x_train, y_train.ravel())"
   ]
  },
  {
   "cell_type": "code",
   "execution_count": 243,
   "id": "23409cbf",
   "metadata": {},
   "outputs": [
    {
     "name": "stdout",
     "output_type": "stream",
     "text": [
      "time cost： 4.449661755561829 min\n"
     ]
    }
   ],
   "source": [
    "end_time = time()\n",
    "run_time = end_time-begin_time\n",
    "print ('time cost：',run_time/60, 'min')"
   ]
  },
  {
   "cell_type": "code",
   "execution_count": 244,
   "id": "c3c2712b",
   "metadata": {},
   "outputs": [
    {
     "data": {
      "text/plain": [
       "{'max_depth': 25,\n",
       " 'max_features': 14,\n",
       " 'min_samples_leaf': 1,\n",
       " 'n_estimators': 500,\n",
       " 'random_state': 2023}"
      ]
     },
     "execution_count": 244,
     "metadata": {},
     "output_type": "execute_result"
    }
   ],
   "source": [
    "grid.best_params_"
   ]
  },
  {
   "cell_type": "code",
   "execution_count": 245,
   "id": "26681d6d",
   "metadata": {},
   "outputs": [
    {
     "data": {
      "text/plain": [
       "0.7942672058366329"
      ]
     },
     "execution_count": 245,
     "metadata": {},
     "output_type": "execute_result"
    }
   ],
   "source": [
    "grid.score(x_test, y_test)"
   ]
  },
  {
   "cell_type": "code",
   "execution_count": 246,
   "id": "b9c5f31c",
   "metadata": {},
   "outputs": [
    {
     "name": "stderr",
     "output_type": "stream",
     "text": [
      "E:\\Anaconda3\\lib\\site-packages\\sklearn\\base.py:450: UserWarning: X does not have valid feature names, but RandomForestRegressor was fitted with feature names\n",
      "  warnings.warn(\n"
     ]
    },
    {
     "data": {
      "text/plain": [
       "(array([4.94927903]), array([6.23181828]))"
      ]
     },
     "execution_count": 246,
     "metadata": {},
     "output_type": "execute_result"
    }
   ],
   "source": [
    "grid.predict(np.array(x_test.iloc[10]).reshape(1, -1)),y_test[10]"
   ]
  },
  {
   "cell_type": "code",
   "execution_count": 247,
   "id": "a74faf80",
   "metadata": {},
   "outputs": [
    {
     "data": {
      "text/plain": [
       "0.6637056344500083"
      ]
     },
     "execution_count": 247,
     "metadata": {},
     "output_type": "execute_result"
    }
   ],
   "source": [
    "grid.best_score_"
   ]
  },
  {
   "cell_type": "code",
   "execution_count": 248,
   "id": "decc04dc",
   "metadata": {},
   "outputs": [
    {
     "data": {
      "text/plain": [
       "0.9201557151144562"
      ]
     },
     "execution_count": 248,
     "metadata": {},
     "output_type": "execute_result"
    }
   ],
   "source": [
    "grid.score(x_train, y_train)"
   ]
  },
  {
   "cell_type": "code",
   "execution_count": 249,
   "id": "8f6c2dff",
   "metadata": {},
   "outputs": [
    {
     "data": {
      "text/plain": [
       "0.8768369156201443"
      ]
     },
     "execution_count": 249,
     "metadata": {},
     "output_type": "execute_result"
    }
   ],
   "source": [
    "np.sqrt(mean_squared_error(grid.predict(x_test), y_test))"
   ]
  },
  {
   "cell_type": "code",
   "execution_count": 250,
   "id": "5a43177e",
   "metadata": {},
   "outputs": [
    {
     "data": {
      "text/plain": [
       "0.632128603314749"
      ]
     },
     "execution_count": 250,
     "metadata": {},
     "output_type": "execute_result"
    }
   ],
   "source": [
    "np.sqrt(mean_squared_error(grid.predict(X), Y))"
   ]
  },
  {
   "cell_type": "code",
   "execution_count": 251,
   "id": "de082cee",
   "metadata": {
    "scrolled": true
   },
   "outputs": [
    {
     "data": {
      "text/html": [
       "<div>\n",
       "<style scoped>\n",
       "    .dataframe tbody tr th:only-of-type {\n",
       "        vertical-align: middle;\n",
       "    }\n",
       "\n",
       "    .dataframe tbody tr th {\n",
       "        vertical-align: top;\n",
       "    }\n",
       "\n",
       "    .dataframe thead th {\n",
       "        text-align: right;\n",
       "    }\n",
       "</style>\n",
       "<table border=\"1\" class=\"dataframe\">\n",
       "  <thead>\n",
       "    <tr style=\"text-align: right;\">\n",
       "      <th></th>\n",
       "      <th>mean_fit_time</th>\n",
       "      <th>std_fit_time</th>\n",
       "      <th>mean_score_time</th>\n",
       "      <th>std_score_time</th>\n",
       "      <th>param_max_depth</th>\n",
       "      <th>param_max_features</th>\n",
       "      <th>param_min_samples_leaf</th>\n",
       "      <th>param_n_estimators</th>\n",
       "      <th>param_random_state</th>\n",
       "      <th>params</th>\n",
       "      <th>split0_test_score</th>\n",
       "      <th>split1_test_score</th>\n",
       "      <th>split2_test_score</th>\n",
       "      <th>split3_test_score</th>\n",
       "      <th>split4_test_score</th>\n",
       "      <th>split5_test_score</th>\n",
       "      <th>split6_test_score</th>\n",
       "      <th>split7_test_score</th>\n",
       "      <th>split8_test_score</th>\n",
       "      <th>split9_test_score</th>\n",
       "      <th>mean_test_score</th>\n",
       "      <th>std_test_score</th>\n",
       "      <th>rank_test_score</th>\n",
       "    </tr>\n",
       "  </thead>\n",
       "  <tbody>\n",
       "    <tr>\n",
       "      <th>0</th>\n",
       "      <td>1.86059</td>\n",
       "      <td>0.04861</td>\n",
       "      <td>0.06690</td>\n",
       "      <td>0.00523</td>\n",
       "      <td>15</td>\n",
       "      <td>6</td>\n",
       "      <td>1</td>\n",
       "      <td>500</td>\n",
       "      <td>2023</td>\n",
       "      <td>{'max_depth': 15, 'max_features': 6, 'min_samples_leaf': 1, 'n_estimators': 500, 'random_state':...</td>\n",
       "      <td>0.57398</td>\n",
       "      <td>0.70660</td>\n",
       "      <td>0.73437</td>\n",
       "      <td>0.63544</td>\n",
       "      <td>0.65798</td>\n",
       "      <td>0.58306</td>\n",
       "      <td>0.69311</td>\n",
       "      <td>0.65087</td>\n",
       "      <td>0.65326</td>\n",
       "      <td>0.69867</td>\n",
       "      <td>0.65873</td>\n",
       "      <td>0.04933</td>\n",
       "      <td>70</td>\n",
       "    </tr>\n",
       "    <tr>\n",
       "      <th>1</th>\n",
       "      <td>2.00984</td>\n",
       "      <td>0.04704</td>\n",
       "      <td>0.05722</td>\n",
       "      <td>0.00604</td>\n",
       "      <td>15</td>\n",
       "      <td>7</td>\n",
       "      <td>1</td>\n",
       "      <td>500</td>\n",
       "      <td>2023</td>\n",
       "      <td>{'max_depth': 15, 'max_features': 7, 'min_samples_leaf': 1, 'n_estimators': 500, 'random_state':...</td>\n",
       "      <td>0.57326</td>\n",
       "      <td>0.71163</td>\n",
       "      <td>0.74195</td>\n",
       "      <td>0.63444</td>\n",
       "      <td>0.65983</td>\n",
       "      <td>0.58604</td>\n",
       "      <td>0.69079</td>\n",
       "      <td>0.65010</td>\n",
       "      <td>0.65496</td>\n",
       "      <td>0.70437</td>\n",
       "      <td>0.66074</td>\n",
       "      <td>0.05105</td>\n",
       "      <td>64</td>\n",
       "    </tr>\n",
       "    <tr>\n",
       "      <th>2</th>\n",
       "      <td>2.03981</td>\n",
       "      <td>0.04350</td>\n",
       "      <td>0.05486</td>\n",
       "      <td>0.00554</td>\n",
       "      <td>15</td>\n",
       "      <td>8</td>\n",
       "      <td>1</td>\n",
       "      <td>500</td>\n",
       "      <td>2023</td>\n",
       "      <td>{'max_depth': 15, 'max_features': 8, 'min_samples_leaf': 1, 'n_estimators': 500, 'random_state':...</td>\n",
       "      <td>0.56603</td>\n",
       "      <td>0.70716</td>\n",
       "      <td>0.73797</td>\n",
       "      <td>0.63836</td>\n",
       "      <td>0.66237</td>\n",
       "      <td>0.58877</td>\n",
       "      <td>0.69416</td>\n",
       "      <td>0.65057</td>\n",
       "      <td>0.65681</td>\n",
       "      <td>0.70040</td>\n",
       "      <td>0.66026</td>\n",
       "      <td>0.05058</td>\n",
       "      <td>68</td>\n",
       "    </tr>\n",
       "    <tr>\n",
       "      <th>3</th>\n",
       "      <td>2.16403</td>\n",
       "      <td>0.04320</td>\n",
       "      <td>0.05424</td>\n",
       "      <td>0.00424</td>\n",
       "      <td>15</td>\n",
       "      <td>9</td>\n",
       "      <td>1</td>\n",
       "      <td>500</td>\n",
       "      <td>2023</td>\n",
       "      <td>{'max_depth': 15, 'max_features': 9, 'min_samples_leaf': 1, 'n_estimators': 500, 'random_state':...</td>\n",
       "      <td>0.56531</td>\n",
       "      <td>0.71246</td>\n",
       "      <td>0.74306</td>\n",
       "      <td>0.63827</td>\n",
       "      <td>0.65685</td>\n",
       "      <td>0.58369</td>\n",
       "      <td>0.69480</td>\n",
       "      <td>0.65037</td>\n",
       "      <td>0.65339</td>\n",
       "      <td>0.70584</td>\n",
       "      <td>0.66040</td>\n",
       "      <td>0.05326</td>\n",
       "      <td>67</td>\n",
       "    </tr>\n",
       "    <tr>\n",
       "      <th>4</th>\n",
       "      <td>2.40852</td>\n",
       "      <td>0.06996</td>\n",
       "      <td>0.05629</td>\n",
       "      <td>0.00671</td>\n",
       "      <td>15</td>\n",
       "      <td>10</td>\n",
       "      <td>1</td>\n",
       "      <td>500</td>\n",
       "      <td>2023</td>\n",
       "      <td>{'max_depth': 15, 'max_features': 10, 'min_samples_leaf': 1, 'n_estimators': 500, 'random_state'...</td>\n",
       "      <td>0.56910</td>\n",
       "      <td>0.71253</td>\n",
       "      <td>0.74298</td>\n",
       "      <td>0.63597</td>\n",
       "      <td>0.65842</td>\n",
       "      <td>0.58559</td>\n",
       "      <td>0.69526</td>\n",
       "      <td>0.64972</td>\n",
       "      <td>0.65508</td>\n",
       "      <td>0.70503</td>\n",
       "      <td>0.66097</td>\n",
       "      <td>0.05236</td>\n",
       "      <td>62</td>\n",
       "    </tr>\n",
       "    <tr>\n",
       "      <th>...</th>\n",
       "      <td>...</td>\n",
       "      <td>...</td>\n",
       "      <td>...</td>\n",
       "      <td>...</td>\n",
       "      <td>...</td>\n",
       "      <td>...</td>\n",
       "      <td>...</td>\n",
       "      <td>...</td>\n",
       "      <td>...</td>\n",
       "      <td>...</td>\n",
       "      <td>...</td>\n",
       "      <td>...</td>\n",
       "      <td>...</td>\n",
       "      <td>...</td>\n",
       "      <td>...</td>\n",
       "      <td>...</td>\n",
       "      <td>...</td>\n",
       "      <td>...</td>\n",
       "      <td>...</td>\n",
       "      <td>...</td>\n",
       "      <td>...</td>\n",
       "      <td>...</td>\n",
       "      <td>...</td>\n",
       "    </tr>\n",
       "    <tr>\n",
       "      <th>65</th>\n",
       "      <td>2.57103</td>\n",
       "      <td>0.03751</td>\n",
       "      <td>0.05812</td>\n",
       "      <td>0.00538</td>\n",
       "      <td>None</td>\n",
       "      <td>11</td>\n",
       "      <td>1</td>\n",
       "      <td>500</td>\n",
       "      <td>2023</td>\n",
       "      <td>{'max_depth': None, 'max_features': 11, 'min_samples_leaf': 1, 'n_estimators': 500, 'random_stat...</td>\n",
       "      <td>0.56967</td>\n",
       "      <td>0.71390</td>\n",
       "      <td>0.74371</td>\n",
       "      <td>0.64121</td>\n",
       "      <td>0.66245</td>\n",
       "      <td>0.58671</td>\n",
       "      <td>0.69598</td>\n",
       "      <td>0.64850</td>\n",
       "      <td>0.64994</td>\n",
       "      <td>0.70988</td>\n",
       "      <td>0.66219</td>\n",
       "      <td>0.05270</td>\n",
       "      <td>27</td>\n",
       "    </tr>\n",
       "    <tr>\n",
       "      <th>66</th>\n",
       "      <td>2.69741</td>\n",
       "      <td>0.04286</td>\n",
       "      <td>0.05523</td>\n",
       "      <td>0.00372</td>\n",
       "      <td>None</td>\n",
       "      <td>12</td>\n",
       "      <td>1</td>\n",
       "      <td>500</td>\n",
       "      <td>2023</td>\n",
       "      <td>{'max_depth': None, 'max_features': 12, 'min_samples_leaf': 1, 'n_estimators': 500, 'random_stat...</td>\n",
       "      <td>0.56595</td>\n",
       "      <td>0.71099</td>\n",
       "      <td>0.74640</td>\n",
       "      <td>0.64143</td>\n",
       "      <td>0.65976</td>\n",
       "      <td>0.58094</td>\n",
       "      <td>0.69466</td>\n",
       "      <td>0.65029</td>\n",
       "      <td>0.65150</td>\n",
       "      <td>0.71009</td>\n",
       "      <td>0.66120</td>\n",
       "      <td>0.05419</td>\n",
       "      <td>50</td>\n",
       "    </tr>\n",
       "    <tr>\n",
       "      <th>67</th>\n",
       "      <td>2.86249</td>\n",
       "      <td>0.03899</td>\n",
       "      <td>0.05624</td>\n",
       "      <td>0.00447</td>\n",
       "      <td>None</td>\n",
       "      <td>13</td>\n",
       "      <td>1</td>\n",
       "      <td>500</td>\n",
       "      <td>2023</td>\n",
       "      <td>{'max_depth': None, 'max_features': 13, 'min_samples_leaf': 1, 'n_estimators': 500, 'random_stat...</td>\n",
       "      <td>0.57008</td>\n",
       "      <td>0.71136</td>\n",
       "      <td>0.74377</td>\n",
       "      <td>0.64798</td>\n",
       "      <td>0.66322</td>\n",
       "      <td>0.58511</td>\n",
       "      <td>0.70216</td>\n",
       "      <td>0.65199</td>\n",
       "      <td>0.65163</td>\n",
       "      <td>0.70634</td>\n",
       "      <td>0.66336</td>\n",
       "      <td>0.05239</td>\n",
       "      <td>4</td>\n",
       "    </tr>\n",
       "    <tr>\n",
       "      <th>68</th>\n",
       "      <td>3.03904</td>\n",
       "      <td>0.06599</td>\n",
       "      <td>0.05333</td>\n",
       "      <td>0.00606</td>\n",
       "      <td>None</td>\n",
       "      <td>14</td>\n",
       "      <td>1</td>\n",
       "      <td>500</td>\n",
       "      <td>2023</td>\n",
       "      <td>{'max_depth': None, 'max_features': 14, 'min_samples_leaf': 1, 'n_estimators': 500, 'random_stat...</td>\n",
       "      <td>0.56707</td>\n",
       "      <td>0.70802</td>\n",
       "      <td>0.74604</td>\n",
       "      <td>0.64631</td>\n",
       "      <td>0.66392</td>\n",
       "      <td>0.58395</td>\n",
       "      <td>0.69731</td>\n",
       "      <td>0.65538</td>\n",
       "      <td>0.65479</td>\n",
       "      <td>0.70864</td>\n",
       "      <td>0.66314</td>\n",
       "      <td>0.05295</td>\n",
       "      <td>8</td>\n",
       "    </tr>\n",
       "    <tr>\n",
       "      <th>69</th>\n",
       "      <td>3.08087</td>\n",
       "      <td>0.18192</td>\n",
       "      <td>0.05036</td>\n",
       "      <td>0.00640</td>\n",
       "      <td>None</td>\n",
       "      <td>15</td>\n",
       "      <td>1</td>\n",
       "      <td>500</td>\n",
       "      <td>2023</td>\n",
       "      <td>{'max_depth': None, 'max_features': 15, 'min_samples_leaf': 1, 'n_estimators': 500, 'random_stat...</td>\n",
       "      <td>0.57049</td>\n",
       "      <td>0.70593</td>\n",
       "      <td>0.74668</td>\n",
       "      <td>0.64685</td>\n",
       "      <td>0.66427</td>\n",
       "      <td>0.58165</td>\n",
       "      <td>0.70010</td>\n",
       "      <td>0.65227</td>\n",
       "      <td>0.65091</td>\n",
       "      <td>0.70916</td>\n",
       "      <td>0.66283</td>\n",
       "      <td>0.05296</td>\n",
       "      <td>14</td>\n",
       "    </tr>\n",
       "  </tbody>\n",
       "</table>\n",
       "<p>70 rows × 23 columns</p>\n",
       "</div>"
      ],
      "text/plain": [
       "    mean_fit_time  std_fit_time  mean_score_time  std_score_time param_max_depth param_max_features param_min_samples_leaf param_n_estimators param_random_state                                                                                               params  split0_test_score  split1_test_score  split2_test_score  split3_test_score  split4_test_score  split5_test_score  split6_test_score  split7_test_score  split8_test_score  split9_test_score  mean_test_score  std_test_score  rank_test_score\n",
       "0         1.86059       0.04861          0.06690         0.00523              15                  6                      1                500               2023  {'max_depth': 15, 'max_features': 6, 'min_samples_leaf': 1, 'n_estimators': 500, 'random_state':...            0.57398            0.70660            0.73437            0.63544            0.65798            0.58306            0.69311            0.65087            0.65326            0.69867          0.65873         0.04933               70\n",
       "1         2.00984       0.04704          0.05722         0.00604              15                  7                      1                500               2023  {'max_depth': 15, 'max_features': 7, 'min_samples_leaf': 1, 'n_estimators': 500, 'random_state':...            0.57326            0.71163            0.74195            0.63444            0.65983            0.58604            0.69079            0.65010            0.65496            0.70437          0.66074         0.05105               64\n",
       "2         2.03981       0.04350          0.05486         0.00554              15                  8                      1                500               2023  {'max_depth': 15, 'max_features': 8, 'min_samples_leaf': 1, 'n_estimators': 500, 'random_state':...            0.56603            0.70716            0.73797            0.63836            0.66237            0.58877            0.69416            0.65057            0.65681            0.70040          0.66026         0.05058               68\n",
       "3         2.16403       0.04320          0.05424         0.00424              15                  9                      1                500               2023  {'max_depth': 15, 'max_features': 9, 'min_samples_leaf': 1, 'n_estimators': 500, 'random_state':...            0.56531            0.71246            0.74306            0.63827            0.65685            0.58369            0.69480            0.65037            0.65339            0.70584          0.66040         0.05326               67\n",
       "4         2.40852       0.06996          0.05629         0.00671              15                 10                      1                500               2023  {'max_depth': 15, 'max_features': 10, 'min_samples_leaf': 1, 'n_estimators': 500, 'random_state'...            0.56910            0.71253            0.74298            0.63597            0.65842            0.58559            0.69526            0.64972            0.65508            0.70503          0.66097         0.05236               62\n",
       "..            ...           ...              ...             ...             ...                ...                    ...                ...                ...                                                                                                  ...                ...                ...                ...                ...                ...                ...                ...                ...                ...                ...              ...             ...              ...\n",
       "65        2.57103       0.03751          0.05812         0.00538            None                 11                      1                500               2023  {'max_depth': None, 'max_features': 11, 'min_samples_leaf': 1, 'n_estimators': 500, 'random_stat...            0.56967            0.71390            0.74371            0.64121            0.66245            0.58671            0.69598            0.64850            0.64994            0.70988          0.66219         0.05270               27\n",
       "66        2.69741       0.04286          0.05523         0.00372            None                 12                      1                500               2023  {'max_depth': None, 'max_features': 12, 'min_samples_leaf': 1, 'n_estimators': 500, 'random_stat...            0.56595            0.71099            0.74640            0.64143            0.65976            0.58094            0.69466            0.65029            0.65150            0.71009          0.66120         0.05419               50\n",
       "67        2.86249       0.03899          0.05624         0.00447            None                 13                      1                500               2023  {'max_depth': None, 'max_features': 13, 'min_samples_leaf': 1, 'n_estimators': 500, 'random_stat...            0.57008            0.71136            0.74377            0.64798            0.66322            0.58511            0.70216            0.65199            0.65163            0.70634          0.66336         0.05239                4\n",
       "68        3.03904       0.06599          0.05333         0.00606            None                 14                      1                500               2023  {'max_depth': None, 'max_features': 14, 'min_samples_leaf': 1, 'n_estimators': 500, 'random_stat...            0.56707            0.70802            0.74604            0.64631            0.66392            0.58395            0.69731            0.65538            0.65479            0.70864          0.66314         0.05295                8\n",
       "69        3.08087       0.18192          0.05036         0.00640            None                 15                      1                500               2023  {'max_depth': None, 'max_features': 15, 'min_samples_leaf': 1, 'n_estimators': 500, 'random_stat...            0.57049            0.70593            0.74668            0.64685            0.66427            0.58165            0.70010            0.65227            0.65091            0.70916          0.66283         0.05296               14\n",
       "\n",
       "[70 rows x 23 columns]"
      ]
     },
     "execution_count": 251,
     "metadata": {},
     "output_type": "execute_result"
    }
   ],
   "source": [
    "pd.DataFrame(grid.cv_results_)"
   ]
  },
  {
   "cell_type": "code",
   "execution_count": 252,
   "id": "534cd970",
   "metadata": {},
   "outputs": [
    {
     "data": {
      "text/plain": [
       "mean_fit_time                                                                                                         3.03095\n",
       "std_fit_time                                                                                                          0.02483\n",
       "mean_score_time                                                                                                       0.05471\n",
       "std_score_time                                                                                                        0.00422\n",
       "param_max_depth                                                                                                            25\n",
       "param_max_features                                                                                                         14\n",
       "param_min_samples_leaf                                                                                                      1\n",
       "param_n_estimators                                                                                                        500\n",
       "param_random_state                                                                                                       2023\n",
       "params                    {'max_depth': 25, 'max_features': 14, 'min_samples_leaf': 1, 'n_estimators': 500, 'random_state'...\n",
       "split0_test_score                                                                                                     0.57046\n",
       "split1_test_score                                                                                                     0.71001\n",
       "split2_test_score                                                                                                     0.74629\n",
       "split3_test_score                                                                                                     0.64554\n",
       "split4_test_score                                                                                                     0.66378\n",
       "split5_test_score                                                                                                     0.58602\n",
       "split6_test_score                                                                                                     0.69894\n",
       "split7_test_score                                                                                                     0.65355\n",
       "split8_test_score                                                                                                     0.65391\n",
       "split9_test_score                                                                                                     0.70857\n",
       "mean_test_score                                                                                                       0.66371\n",
       "std_test_score                                                                                                        0.05242\n",
       "rank_test_score                                                                                                             1\n",
       "Name: 28, dtype: object"
      ]
     },
     "execution_count": 252,
     "metadata": {},
     "output_type": "execute_result"
    }
   ],
   "source": [
    "pd.DataFrame(grid.cv_results_).iloc[grid.best_index_,:]"
   ]
  },
  {
   "cell_type": "code",
   "execution_count": 253,
   "id": "ce76800b",
   "metadata": {},
   "outputs": [
    {
     "data": {
      "text/html": [
       "<style>#sk-container-id-5 {color: black;background-color: white;}#sk-container-id-5 pre{padding: 0;}#sk-container-id-5 div.sk-toggleable {background-color: white;}#sk-container-id-5 label.sk-toggleable__label {cursor: pointer;display: block;width: 100%;margin-bottom: 0;padding: 0.3em;box-sizing: border-box;text-align: center;}#sk-container-id-5 label.sk-toggleable__label-arrow:before {content: \"▸\";float: left;margin-right: 0.25em;color: #696969;}#sk-container-id-5 label.sk-toggleable__label-arrow:hover:before {color: black;}#sk-container-id-5 div.sk-estimator:hover label.sk-toggleable__label-arrow:before {color: black;}#sk-container-id-5 div.sk-toggleable__content {max-height: 0;max-width: 0;overflow: hidden;text-align: left;background-color: #f0f8ff;}#sk-container-id-5 div.sk-toggleable__content pre {margin: 0.2em;color: black;border-radius: 0.25em;background-color: #f0f8ff;}#sk-container-id-5 input.sk-toggleable__control:checked~div.sk-toggleable__content {max-height: 200px;max-width: 100%;overflow: auto;}#sk-container-id-5 input.sk-toggleable__control:checked~label.sk-toggleable__label-arrow:before {content: \"▾\";}#sk-container-id-5 div.sk-estimator input.sk-toggleable__control:checked~label.sk-toggleable__label {background-color: #d4ebff;}#sk-container-id-5 div.sk-label input.sk-toggleable__control:checked~label.sk-toggleable__label {background-color: #d4ebff;}#sk-container-id-5 input.sk-hidden--visually {border: 0;clip: rect(1px 1px 1px 1px);clip: rect(1px, 1px, 1px, 1px);height: 1px;margin: -1px;overflow: hidden;padding: 0;position: absolute;width: 1px;}#sk-container-id-5 div.sk-estimator {font-family: monospace;background-color: #f0f8ff;border: 1px dotted black;border-radius: 0.25em;box-sizing: border-box;margin-bottom: 0.5em;}#sk-container-id-5 div.sk-estimator:hover {background-color: #d4ebff;}#sk-container-id-5 div.sk-parallel-item::after {content: \"\";width: 100%;border-bottom: 1px solid gray;flex-grow: 1;}#sk-container-id-5 div.sk-label:hover label.sk-toggleable__label {background-color: #d4ebff;}#sk-container-id-5 div.sk-serial::before {content: \"\";position: absolute;border-left: 1px solid gray;box-sizing: border-box;top: 0;bottom: 0;left: 50%;z-index: 0;}#sk-container-id-5 div.sk-serial {display: flex;flex-direction: column;align-items: center;background-color: white;padding-right: 0.2em;padding-left: 0.2em;position: relative;}#sk-container-id-5 div.sk-item {position: relative;z-index: 1;}#sk-container-id-5 div.sk-parallel {display: flex;align-items: stretch;justify-content: center;background-color: white;position: relative;}#sk-container-id-5 div.sk-item::before, #sk-container-id-5 div.sk-parallel-item::before {content: \"\";position: absolute;border-left: 1px solid gray;box-sizing: border-box;top: 0;bottom: 0;left: 50%;z-index: -1;}#sk-container-id-5 div.sk-parallel-item {display: flex;flex-direction: column;z-index: 1;position: relative;background-color: white;}#sk-container-id-5 div.sk-parallel-item:first-child::after {align-self: flex-end;width: 50%;}#sk-container-id-5 div.sk-parallel-item:last-child::after {align-self: flex-start;width: 50%;}#sk-container-id-5 div.sk-parallel-item:only-child::after {width: 0;}#sk-container-id-5 div.sk-dashed-wrapped {border: 1px dashed gray;margin: 0 0.4em 0.5em 0.4em;box-sizing: border-box;padding-bottom: 0.4em;background-color: white;}#sk-container-id-5 div.sk-label label {font-family: monospace;font-weight: bold;display: inline-block;line-height: 1.2em;}#sk-container-id-5 div.sk-label-container {text-align: center;}#sk-container-id-5 div.sk-container {/* jupyter's `normalize.less` sets `[hidden] { display: none; }` but bootstrap.min.css set `[hidden] { display: none !important; }` so we also need the `!important` here to be able to override the default hidden behavior on the sphinx rendered scikit-learn.org. See: https://github.com/scikit-learn/scikit-learn/issues/21755 */display: inline-block !important;position: relative;}#sk-container-id-5 div.sk-text-repr-fallback {display: none;}</style><div id=\"sk-container-id-5\" class=\"sk-top-container\"><div class=\"sk-text-repr-fallback\"><pre>RandomForestRegressor(max_depth=25, max_features=14, n_estimators=500,\n",
       "                      n_jobs=14, oob_score=True, random_state=2023)</pre><b>In a Jupyter environment, please rerun this cell to show the HTML representation or trust the notebook. <br />On GitHub, the HTML representation is unable to render, please try loading this page with nbviewer.org.</b></div><div class=\"sk-container\" hidden><div class=\"sk-item\"><div class=\"sk-estimator sk-toggleable\"><input class=\"sk-toggleable__control sk-hidden--visually\" id=\"sk-estimator-id-11\" type=\"checkbox\" checked><label for=\"sk-estimator-id-11\" class=\"sk-toggleable__label sk-toggleable__label-arrow\">RandomForestRegressor</label><div class=\"sk-toggleable__content\"><pre>RandomForestRegressor(max_depth=25, max_features=14, n_estimators=500,\n",
       "                      n_jobs=14, oob_score=True, random_state=2023)</pre></div></div></div></div></div>"
      ],
      "text/plain": [
       "RandomForestRegressor(max_depth=25, max_features=14, n_estimators=500,\n",
       "                      n_jobs=14, oob_score=True, random_state=2023)"
      ]
     },
     "execution_count": 253,
     "metadata": {},
     "output_type": "execute_result"
    }
   ],
   "source": [
    "RF = RandomForestRegressor(n_estimators=grid.best_params_['n_estimators'], max_features=grid.best_params_['max_features'],min_samples_leaf = grid.best_params_['min_samples_leaf'],max_depth = grid.best_params_['max_depth'],oob_score = True,random_state=grid.best_params_['random_state'],n_jobs=14)#random_state=grid.best_params_['random_state']   #最佳随机状态 = 112\n",
    "RF.fit(x_train, y_train.ravel())"
   ]
  },
  {
   "cell_type": "code",
   "execution_count": 254,
   "id": "728d7401",
   "metadata": {},
   "outputs": [
    {
     "data": {
      "text/html": [
       "<style>#sk-container-id-6 {color: black;background-color: white;}#sk-container-id-6 pre{padding: 0;}#sk-container-id-6 div.sk-toggleable {background-color: white;}#sk-container-id-6 label.sk-toggleable__label {cursor: pointer;display: block;width: 100%;margin-bottom: 0;padding: 0.3em;box-sizing: border-box;text-align: center;}#sk-container-id-6 label.sk-toggleable__label-arrow:before {content: \"▸\";float: left;margin-right: 0.25em;color: #696969;}#sk-container-id-6 label.sk-toggleable__label-arrow:hover:before {color: black;}#sk-container-id-6 div.sk-estimator:hover label.sk-toggleable__label-arrow:before {color: black;}#sk-container-id-6 div.sk-toggleable__content {max-height: 0;max-width: 0;overflow: hidden;text-align: left;background-color: #f0f8ff;}#sk-container-id-6 div.sk-toggleable__content pre {margin: 0.2em;color: black;border-radius: 0.25em;background-color: #f0f8ff;}#sk-container-id-6 input.sk-toggleable__control:checked~div.sk-toggleable__content {max-height: 200px;max-width: 100%;overflow: auto;}#sk-container-id-6 input.sk-toggleable__control:checked~label.sk-toggleable__label-arrow:before {content: \"▾\";}#sk-container-id-6 div.sk-estimator input.sk-toggleable__control:checked~label.sk-toggleable__label {background-color: #d4ebff;}#sk-container-id-6 div.sk-label input.sk-toggleable__control:checked~label.sk-toggleable__label {background-color: #d4ebff;}#sk-container-id-6 input.sk-hidden--visually {border: 0;clip: rect(1px 1px 1px 1px);clip: rect(1px, 1px, 1px, 1px);height: 1px;margin: -1px;overflow: hidden;padding: 0;position: absolute;width: 1px;}#sk-container-id-6 div.sk-estimator {font-family: monospace;background-color: #f0f8ff;border: 1px dotted black;border-radius: 0.25em;box-sizing: border-box;margin-bottom: 0.5em;}#sk-container-id-6 div.sk-estimator:hover {background-color: #d4ebff;}#sk-container-id-6 div.sk-parallel-item::after {content: \"\";width: 100%;border-bottom: 1px solid gray;flex-grow: 1;}#sk-container-id-6 div.sk-label:hover label.sk-toggleable__label {background-color: #d4ebff;}#sk-container-id-6 div.sk-serial::before {content: \"\";position: absolute;border-left: 1px solid gray;box-sizing: border-box;top: 0;bottom: 0;left: 50%;z-index: 0;}#sk-container-id-6 div.sk-serial {display: flex;flex-direction: column;align-items: center;background-color: white;padding-right: 0.2em;padding-left: 0.2em;position: relative;}#sk-container-id-6 div.sk-item {position: relative;z-index: 1;}#sk-container-id-6 div.sk-parallel {display: flex;align-items: stretch;justify-content: center;background-color: white;position: relative;}#sk-container-id-6 div.sk-item::before, #sk-container-id-6 div.sk-parallel-item::before {content: \"\";position: absolute;border-left: 1px solid gray;box-sizing: border-box;top: 0;bottom: 0;left: 50%;z-index: -1;}#sk-container-id-6 div.sk-parallel-item {display: flex;flex-direction: column;z-index: 1;position: relative;background-color: white;}#sk-container-id-6 div.sk-parallel-item:first-child::after {align-self: flex-end;width: 50%;}#sk-container-id-6 div.sk-parallel-item:last-child::after {align-self: flex-start;width: 50%;}#sk-container-id-6 div.sk-parallel-item:only-child::after {width: 0;}#sk-container-id-6 div.sk-dashed-wrapped {border: 1px dashed gray;margin: 0 0.4em 0.5em 0.4em;box-sizing: border-box;padding-bottom: 0.4em;background-color: white;}#sk-container-id-6 div.sk-label label {font-family: monospace;font-weight: bold;display: inline-block;line-height: 1.2em;}#sk-container-id-6 div.sk-label-container {text-align: center;}#sk-container-id-6 div.sk-container {/* jupyter's `normalize.less` sets `[hidden] { display: none; }` but bootstrap.min.css set `[hidden] { display: none !important; }` so we also need the `!important` here to be able to override the default hidden behavior on the sphinx rendered scikit-learn.org. See: https://github.com/scikit-learn/scikit-learn/issues/21755 */display: inline-block !important;position: relative;}#sk-container-id-6 div.sk-text-repr-fallback {display: none;}</style><div id=\"sk-container-id-6\" class=\"sk-top-container\"><div class=\"sk-text-repr-fallback\"><pre>RandomForestRegressor(max_depth=25, max_features=14, n_estimators=500,\n",
       "                      n_jobs=14, oob_score=True, random_state=2023)</pre><b>In a Jupyter environment, please rerun this cell to show the HTML representation or trust the notebook. <br />On GitHub, the HTML representation is unable to render, please try loading this page with nbviewer.org.</b></div><div class=\"sk-container\" hidden><div class=\"sk-item\"><div class=\"sk-estimator sk-toggleable\"><input class=\"sk-toggleable__control sk-hidden--visually\" id=\"sk-estimator-id-12\" type=\"checkbox\" checked><label for=\"sk-estimator-id-12\" class=\"sk-toggleable__label sk-toggleable__label-arrow\">RandomForestRegressor</label><div class=\"sk-toggleable__content\"><pre>RandomForestRegressor(max_depth=25, max_features=14, n_estimators=500,\n",
       "                      n_jobs=14, oob_score=True, random_state=2023)</pre></div></div></div></div></div>"
      ],
      "text/plain": [
       "RandomForestRegressor(max_depth=25, max_features=14, n_estimators=500,\n",
       "                      n_jobs=14, oob_score=True, random_state=2023)"
      ]
     },
     "execution_count": 254,
     "metadata": {},
     "output_type": "execute_result"
    }
   ],
   "source": [
    "RF"
   ]
  },
  {
   "cell_type": "code",
   "execution_count": 255,
   "id": "0ac28a6a",
   "metadata": {},
   "outputs": [
    {
     "data": {
      "text/plain": [
       "['E:\\\\OneDrive - HKUST Connect\\\\Research\\\\nh3_ml\\\\model\\\\RF_V6_alldatatraining_trainingset.pkl']"
      ]
     },
     "execution_count": 255,
     "metadata": {},
     "output_type": "execute_result"
    }
   ],
   "source": [
    "joblib.dump(RF,'E:\\\\OneDrive - HKUST Connect\\\\Research\\\\nh3_ml\\\\model\\\\RF_V6_alldatatraining_trainingset.pkl') "
   ]
  },
  {
   "cell_type": "code",
   "execution_count": 256,
   "id": "46b6304a",
   "metadata": {},
   "outputs": [
    {
     "data": {
      "text/plain": [
       "0.7942672058366329"
      ]
     },
     "execution_count": 256,
     "metadata": {},
     "output_type": "execute_result"
    }
   ],
   "source": [
    "RF.score(x_test, y_test)"
   ]
  },
  {
   "cell_type": "code",
   "execution_count": null,
   "id": "8755c5a4",
   "metadata": {},
   "outputs": [],
   "source": []
  },
  {
   "cell_type": "code",
   "execution_count": 220,
   "id": "375e64f9",
   "metadata": {},
   "outputs": [],
   "source": [
    "from sklearn.metrics import mean_absolute_error\n",
    "from sklearn.metrics import max_error\n",
    "from quantile_forest import RandomForestQuantileRegressor"
   ]
  },
  {
   "cell_type": "code",
   "execution_count": null,
   "id": "08a8c477",
   "metadata": {},
   "outputs": [],
   "source": []
  },
  {
   "cell_type": "code",
   "execution_count": 221,
   "id": "c35d9f77",
   "metadata": {},
   "outputs": [
    {
     "name": "stderr",
     "output_type": "stream",
     "text": [
      "<ipython-input-221-b896a9487e6d>:2: TqdmDeprecationWarning: This function will be removed in tqdm==5.0.0\n",
      "Please use `tqdm.notebook.tqdm` instead of `tqdm.tqdm_notebook`\n",
      "  for i in tqdm_notebook(range(5,104)):\n"
     ]
    },
    {
     "data": {
      "application/vnd.jupyter.widget-view+json": {
       "model_id": "a949b1e4b6794da8b16f9d0c098adeb1",
       "version_major": 2,
       "version_minor": 0
      },
      "text/plain": [
       "  0%|          | 0/99 [00:00<?, ?it/s]"
      ]
     },
     "metadata": {},
     "output_type": "display_data"
    },
    {
     "name": "stdout",
     "output_type": "stream",
     "text": [
      "6.323512123926963\n",
      "0.729646650182338\n",
      "0.11538629734281593\n",
      "5.458291628884666\n",
      "8.006867100276251\n"
     ]
    }
   ],
   "source": [
    "sdf = []  #100个重采样数据集训练\n",
    "for i in tqdm_notebook(range(5,104)):\n",
    "    RF = RandomForestRegressor(n_estimators=grid.best_params_['n_estimators'], max_features=grid.best_params_['max_features'],min_samples_leaf = grid.best_params_['min_samples_leaf'],max_depth = grid.best_params_['max_depth'],oob_score = False,random_state=grid.best_params_['random_state'],n_jobs=14)#random_state=grid.best_params_['random_state']   #最佳随机状态 = 2023\n",
    "    RF.fit(var['X_'+str(i)], var['Y_'+str(i)].ravel())\n",
    "    joblib.dump(RF,'E:\\\\OneDrive - HKUST Connect\\\\Research\\\\nh3_ml\\\\model\\\\RF_V6_alldatatraining_100bootstrap_'+ str(i) +'.pkl')\n",
    "    sdf.append(pt.inverse_transform(np.array(RF.predict(x_test).reshape(-1, 1)))[0])\n",
    "print(np.mean(sdf))\n",
    "print(np.std(sdf))\n",
    "print(np.std(sdf)/np.mean(sdf))\n",
    "print(np.percentile(sdf, 2.5 ))\n",
    "print(np.percentile(sdf, 97.5 ))"
   ]
  },
  {
   "cell_type": "code",
   "execution_count": 222,
   "id": "cd99628f",
   "metadata": {
    "scrolled": true
   },
   "outputs": [
    {
     "data": {
      "text/html": [
       "<style>#sk-container-id-4 {color: black;background-color: white;}#sk-container-id-4 pre{padding: 0;}#sk-container-id-4 div.sk-toggleable {background-color: white;}#sk-container-id-4 label.sk-toggleable__label {cursor: pointer;display: block;width: 100%;margin-bottom: 0;padding: 0.3em;box-sizing: border-box;text-align: center;}#sk-container-id-4 label.sk-toggleable__label-arrow:before {content: \"▸\";float: left;margin-right: 0.25em;color: #696969;}#sk-container-id-4 label.sk-toggleable__label-arrow:hover:before {color: black;}#sk-container-id-4 div.sk-estimator:hover label.sk-toggleable__label-arrow:before {color: black;}#sk-container-id-4 div.sk-toggleable__content {max-height: 0;max-width: 0;overflow: hidden;text-align: left;background-color: #f0f8ff;}#sk-container-id-4 div.sk-toggleable__content pre {margin: 0.2em;color: black;border-radius: 0.25em;background-color: #f0f8ff;}#sk-container-id-4 input.sk-toggleable__control:checked~div.sk-toggleable__content {max-height: 200px;max-width: 100%;overflow: auto;}#sk-container-id-4 input.sk-toggleable__control:checked~label.sk-toggleable__label-arrow:before {content: \"▾\";}#sk-container-id-4 div.sk-estimator input.sk-toggleable__control:checked~label.sk-toggleable__label {background-color: #d4ebff;}#sk-container-id-4 div.sk-label input.sk-toggleable__control:checked~label.sk-toggleable__label {background-color: #d4ebff;}#sk-container-id-4 input.sk-hidden--visually {border: 0;clip: rect(1px 1px 1px 1px);clip: rect(1px, 1px, 1px, 1px);height: 1px;margin: -1px;overflow: hidden;padding: 0;position: absolute;width: 1px;}#sk-container-id-4 div.sk-estimator {font-family: monospace;background-color: #f0f8ff;border: 1px dotted black;border-radius: 0.25em;box-sizing: border-box;margin-bottom: 0.5em;}#sk-container-id-4 div.sk-estimator:hover {background-color: #d4ebff;}#sk-container-id-4 div.sk-parallel-item::after {content: \"\";width: 100%;border-bottom: 1px solid gray;flex-grow: 1;}#sk-container-id-4 div.sk-label:hover label.sk-toggleable__label {background-color: #d4ebff;}#sk-container-id-4 div.sk-serial::before {content: \"\";position: absolute;border-left: 1px solid gray;box-sizing: border-box;top: 0;bottom: 0;left: 50%;z-index: 0;}#sk-container-id-4 div.sk-serial {display: flex;flex-direction: column;align-items: center;background-color: white;padding-right: 0.2em;padding-left: 0.2em;position: relative;}#sk-container-id-4 div.sk-item {position: relative;z-index: 1;}#sk-container-id-4 div.sk-parallel {display: flex;align-items: stretch;justify-content: center;background-color: white;position: relative;}#sk-container-id-4 div.sk-item::before, #sk-container-id-4 div.sk-parallel-item::before {content: \"\";position: absolute;border-left: 1px solid gray;box-sizing: border-box;top: 0;bottom: 0;left: 50%;z-index: -1;}#sk-container-id-4 div.sk-parallel-item {display: flex;flex-direction: column;z-index: 1;position: relative;background-color: white;}#sk-container-id-4 div.sk-parallel-item:first-child::after {align-self: flex-end;width: 50%;}#sk-container-id-4 div.sk-parallel-item:last-child::after {align-self: flex-start;width: 50%;}#sk-container-id-4 div.sk-parallel-item:only-child::after {width: 0;}#sk-container-id-4 div.sk-dashed-wrapped {border: 1px dashed gray;margin: 0 0.4em 0.5em 0.4em;box-sizing: border-box;padding-bottom: 0.4em;background-color: white;}#sk-container-id-4 div.sk-label label {font-family: monospace;font-weight: bold;display: inline-block;line-height: 1.2em;}#sk-container-id-4 div.sk-label-container {text-align: center;}#sk-container-id-4 div.sk-container {/* jupyter's `normalize.less` sets `[hidden] { display: none; }` but bootstrap.min.css set `[hidden] { display: none !important; }` so we also need the `!important` here to be able to override the default hidden behavior on the sphinx rendered scikit-learn.org. See: https://github.com/scikit-learn/scikit-learn/issues/21755 */display: inline-block !important;position: relative;}#sk-container-id-4 div.sk-text-repr-fallback {display: none;}</style><div id=\"sk-container-id-4\" class=\"sk-top-container\"><div class=\"sk-text-repr-fallback\"><pre>RandomForestRegressor(max_depth=25, max_features=14, n_estimators=500,\n",
       "                      n_jobs=14, oob_score=True, random_state=2023)</pre><b>In a Jupyter environment, please rerun this cell to show the HTML representation or trust the notebook. <br />On GitHub, the HTML representation is unable to render, please try loading this page with nbviewer.org.</b></div><div class=\"sk-container\" hidden><div class=\"sk-item\"><div class=\"sk-estimator sk-toggleable\"><input class=\"sk-toggleable__control sk-hidden--visually\" id=\"sk-estimator-id-8\" type=\"checkbox\" checked><label for=\"sk-estimator-id-8\" class=\"sk-toggleable__label sk-toggleable__label-arrow\">RandomForestRegressor</label><div class=\"sk-toggleable__content\"><pre>RandomForestRegressor(max_depth=25, max_features=14, n_estimators=500,\n",
       "                      n_jobs=14, oob_score=True, random_state=2023)</pre></div></div></div></div></div>"
      ],
      "text/plain": [
       "RandomForestRegressor(max_depth=25, max_features=14, n_estimators=500,\n",
       "                      n_jobs=14, oob_score=True, random_state=2023)"
      ]
     },
     "execution_count": 222,
     "metadata": {},
     "output_type": "execute_result"
    }
   ],
   "source": [
    "RF = RandomForestRegressor(n_estimators=grid.best_params_['n_estimators'], max_features=grid.best_params_['max_features'],min_samples_leaf = grid.best_params_['min_samples_leaf'],max_depth = grid.best_params_['max_depth'],oob_score = True,random_state=grid.best_params_['random_state'],n_jobs=14)\n",
    "RF.fit(X, Y.ravel())"
   ]
  },
  {
   "cell_type": "code",
   "execution_count": null,
   "id": "04d8d2b0",
   "metadata": {},
   "outputs": [],
   "source": [
    "joblib.dump(RF,'E:\\\\OneDrive - HKUST Connect\\\\Research\\\\nh3_ml\\\\model\\\\RF_V6_alldatatraining_100bootstrap_'+ str(104) +'.pkl')"
   ]
  },
  {
   "cell_type": "code",
   "execution_count": 197,
   "id": "acbb517e",
   "metadata": {},
   "outputs": [
    {
     "data": {
      "text/plain": [
       "['E:\\\\OneDrive - HKUST Connect\\\\Research\\\\nh3_ml\\\\model\\\\boxcox_V6_alldatatraining.pkl']"
      ]
     },
     "execution_count": 197,
     "metadata": {},
     "output_type": "execute_result"
    }
   ],
   "source": [
    "##save model\n",
    "joblib.dump(RF,'E:\\\\OneDrive - HKUST Connect\\\\Research\\\\nh3_ml\\\\model\\\\RF_V6_alldatatraining.pkl')\n",
    "joblib.dump(grid,'E:\\\\OneDrive - HKUST Connect\\\\Research\\\\nh3_ml\\\\model\\\\RF_grid_V6_alldatatraining.pkl')\n",
    "joblib.dump(pt,'E:\\\\OneDrive - HKUST Connect\\\\Research\\\\nh3_ml\\\\model\\\\boxcox_V6_alldatatraining.pkl')"
   ]
  },
  {
   "cell_type": "code",
   "execution_count": null,
   "id": "86091a62",
   "metadata": {},
   "outputs": [],
   "source": []
  }
 ],
 "metadata": {
  "kernelspec": {
   "display_name": "Python 3",
   "language": "python",
   "name": "python3"
  },
  "language_info": {
   "codemirror_mode": {
    "name": "ipython",
    "version": 3
   },
   "file_extension": ".py",
   "mimetype": "text/x-python",
   "name": "python",
   "nbconvert_exporter": "python",
   "pygments_lexer": "ipython3",
   "version": "3.8.8"
  }
 },
 "nbformat": 4,
 "nbformat_minor": 5
}
