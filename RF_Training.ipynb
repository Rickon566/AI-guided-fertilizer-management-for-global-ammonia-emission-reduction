{
 "cells": [
  {
   "cell_type": "code",
   "execution_count": 1,
   "id": "ea9ba978",
   "metadata": {},
   "outputs": [],
   "source": [
    "import numpy as np\n",
    "import pandas as pd\n",
    "import re\n",
    "import matplotlib.pyplot as plt\n",
    "%matplotlib inline\n",
    "np.set_printoptions(suppress=True)   \n",
    "pd.set_option('display.float_format', lambda x: '%.5f' % x) \n",
    "pd.set_option('display.max_columns', 1000)\n",
    "pd.set_option('display.width', 1000)\n",
    "pd.set_option('display.max_colwidth', 100)\n",
    "import seaborn as sns  \n",
    "import sklearn\n",
    "from sklearn import preprocessing\n",
    "from sklearn.linear_model import LinearRegression\n",
    "from sklearn.model_selection import train_test_split\n",
    "from sklearn.metrics import mean_squared_error\n",
    "from sklearn.inspection import permutation_importance\n",
    "from sklearn.ensemble import RandomForestRegressor\n",
    "from matplotlib.ticker import FuncFormatter\n",
    "from matplotlib.pyplot import MultipleLocator\n",
    "import pickle\n",
    "from sklearn.model_selection import GridSearchCV\n",
    "from sklearn.metrics import r2_score\n",
    "import joblib\n",
    "import scipy.stats\n",
    "from time import *\n",
    "from tqdm import tnrange, tqdm_notebook\n",
    "from time import sleep\n",
    "from matplotlib.mathtext import _mathtext as mathtext\n",
    "from sklearn.utils import resample\n",
    "from sklearn.ensemble import VotingRegressor\n",
    "mathtext.FontConstantsBase.sup1 = 0.3 "
   ]
  },
  {
   "cell_type": "code",
   "execution_count": 2,
   "id": "4ac416fe",
   "metadata": {},
   "outputs": [],
   "source": [
    "var = locals()"
   ]
  },
  {
   "cell_type": "code",
   "execution_count": null,
   "id": "f9402a81",
   "metadata": {},
   "outputs": [],
   "source": [
    "nh3 = pd.read_excel('./df_training.xlsx')"
   ]
  },
  {
   "cell_type": "code",
   "execution_count": null,
   "id": "cbf186cf",
   "metadata": {},
   "outputs": [],
   "source": [
    "nh3['Number of fertilizer applications'] = [1 if x >= 2 else 0 for x in nh3['Number of fertilizer applications']]"
   ]
  },
  {
   "cell_type": "code",
   "execution_count": null,
   "id": "f4cd3c09",
   "metadata": {
    "scrolled": true
   },
   "outputs": [],
   "source": [
    "stratify_columns = ['Fertilizer type', 'Nitrogen placement', 'Number of fertilizer applications', 'Soil tillage practices', 'Crop type']\n",
    "bootstrapped_datasets = []\n",
    "\n",
    "for i in range(5,104):\n",
    "    var['nh3_' + str(i)] = resample(nh3, stratify=nh3[stratify_columns], replace=True,random_state = i)\n",
    "    bootstrapped_datasets.append(var['nh3_' + str(i)])\n",
    "    #print(var['nh3_' + str(i)]['EF'].mean())\n",
    "    #print(var['nh3_' + str(i)]['Number of fertilizer applications'].sum())\n",
    "    #print(len(var['nh3_' + str(i)][var['nh3_' + str(i)]['Crop type'] == 'Rice']))\n",
    "bootstrapped_datasets.append(nh3)"
   ]
  },
  {
   "cell_type": "code",
   "execution_count": null,
   "id": "0f1781ca",
   "metadata": {},
   "outputs": [],
   "source": [
    "len(bootstrapped_datasets)"
   ]
  },
  {
   "cell_type": "code",
   "execution_count": null,
   "id": "e17c3038",
   "metadata": {},
   "outputs": [],
   "source": [
    "nh3_orig = nh3.copy()"
   ]
  },
  {
   "cell_type": "code",
   "execution_count": null,
   "id": "38516709",
   "metadata": {},
   "outputs": [],
   "source": [
    "for nh3df in bootstrapped_datasets:    \n",
    "    for i in range(1, len(nh3df['Fertilizer type'].unique()) + 1) :\n",
    "        nh3df[nh3df['Fertilizer type'].unique()[i - 1]] = np.array(nh3df['Fertilizer type'] == nh3df['Fertilizer type'].unique()[i - 1]).astype(np.int32)\n",
    "        i += 1\n",
    "    del nh3df['Fertilizer type']"
   ]
  },
  {
   "cell_type": "code",
   "execution_count": null,
   "id": "8cd778dd",
   "metadata": {},
   "outputs": [],
   "source": [
    "for nh3df in bootstrapped_datasets:   \n",
    "    for i in range(1, len(nh3df['Nitrogen placement'].unique()) + 1) :\n",
    "        nh3df[nh3df['Nitrogen placement'].unique()[i - 1]] = np.array(nh3df['Nitrogen placement'] == nh3df['Nitrogen placement'].unique()[i - 1]).astype(np.int32)\n",
    "        i += 1\n",
    "    del nh3df['Nitrogen placement']"
   ]
  },
  {
   "cell_type": "code",
   "execution_count": null,
   "id": "a8ca07cc",
   "metadata": {},
   "outputs": [],
   "source": [
    "for nh3df in bootstrapped_datasets:   \n",
    "    nh3df['Soil tillage practices'] = [1 if x=='NT' else 0 for x in nh3df['Soil tillage practices']]"
   ]
  },
  {
   "cell_type": "code",
   "execution_count": null,
   "id": "0023bbec",
   "metadata": {},
   "outputs": [],
   "source": [
    "for nh3df in bootstrapped_datasets:   \n",
    "    for i in range(1, len(nh3df['Crop type'].unique()) + 1) :\n",
    "        nh3df[nh3df['Crop type'].unique()[i - 1]] = np.array(nh3df['Crop type'] == nh3df['Crop type'].unique()[i - 1]).astype(np.int32)\n",
    "        i += 1\n",
    "    del nh3df['Crop type']"
   ]
  },
  {
   "cell_type": "code",
   "execution_count": null,
   "id": "b3f075e4",
   "metadata": {},
   "outputs": [],
   "source": [
    "for nh3df in bootstrapped_datasets[:-1]: \n",
    "    nh3df = sklearn.utils.shuffle(nh3df,random_state=2022)  \n",
    "    nh3df.index = range(0,len(nh3df))\n",
    "    nh3df"
   ]
  },
  {
   "cell_type": "code",
   "execution_count": null,
   "id": "5a86d39d",
   "metadata": {},
   "outputs": [],
   "source": [
    "nh3 = sklearn.utils.shuffle(nh3,random_state=2022) \n",
    "nh3.index = range(0,len(nh3))"
   ]
  },
  {
   "cell_type": "code",
   "execution_count": null,
   "id": "a9364310",
   "metadata": {},
   "outputs": [],
   "source": [
    "EFraw = nh3['EF'].copy()\n",
    "#nh3['EF'] = np.log(nh3['EF'])\n",
    "pt = preprocessing.PowerTransformer(method='box-cox', standardize=False)\n",
    "nh3['EF'] = pt.fit_transform(nh3['EF'].ravel().reshape(-1, 1))"
   ]
  },
  {
   "cell_type": "code",
   "execution_count": null,
   "id": "232b2828",
   "metadata": {},
   "outputs": [],
   "source": [
    "for nh3df in bootstrapped_datasets[:-1]: \n",
    "    nh3df['EF'] = pt.transform(nh3df['EF'].ravel().reshape(-1, 1))"
   ]
  },
  {
   "cell_type": "code",
   "execution_count": null,
   "id": "bf801a28",
   "metadata": {},
   "outputs": [],
   "source": [
    "X_col_ori = list(nh3.columns)"
   ]
  },
  {
   "cell_type": "code",
   "execution_count": null,
   "id": "19eec40a",
   "metadata": {},
   "outputs": [],
   "source": [
    "X_col_ori.remove('EF')\n",
    "X_col_ori.remove('region')\n",
    "X_col_ori.remove('Longitude')\n",
    "X_col_ori.remove('Latitude')"
   ]
  },
  {
   "cell_type": "code",
   "execution_count": null,
   "id": "a3be2dd5",
   "metadata": {},
   "outputs": [],
   "source": [
    "X = nh3[X_col_ori]"
   ]
  },
  {
   "cell_type": "code",
   "execution_count": null,
   "id": "5d710c53",
   "metadata": {},
   "outputs": [],
   "source": [
    "for i in range(5,104):\n",
    "    var['X_'+str(i)] = var['nh3_' + str(i)][X_col_ori]\n",
    "    var['X_'+str(i)] = var['X_'+str(i)].rename(columns={'Number of fertilizer applications':'FAT',\n",
    "                      'Soil tillage practices':'STP',\n",
    "                      'Average daily air temperature':'Tem',\n",
    "                      'SOC(g/kg)':'SOC','TN(g/kg)':'TN','BD(g/cm3)':'BD','clay(%)':'Clay','CEC(cmol/kg)':'CEC',\n",
    "                      'Nitrogen application rate':'Nrate',\n",
    "                      'U':'UOA','P+I':'Water'})"
   ]
  },
  {
   "cell_type": "code",
   "execution_count": null,
   "id": "3e54857c",
   "metadata": {},
   "outputs": [],
   "source": [
    "X = X.rename(columns={'Number of fertilizer applications':'FAT',\n",
    "                      'Soil tillage practices':'STP',\n",
    "                      'Average daily air temperature':'Tem',\n",
    "                      'SOC(g/kg)':'SOC','TN(g/kg)':'TN','BD(g/cm3)':'BD','clay(%)':'Clay','CEC(cmol/kg)':'CEC',\n",
    "                      'Nitrogen application rate':'Nrate',\n",
    "                      'U':'UOA','P+I':'Water'})"
   ]
  },
  {
   "cell_type": "code",
   "execution_count": null,
   "id": "fcef4868",
   "metadata": {},
   "outputs": [],
   "source": [
    "X_col = list(X.columns)"
   ]
  },
  {
   "cell_type": "code",
   "execution_count": null,
   "id": "141ff9c5",
   "metadata": {},
   "outputs": [],
   "source": []
  },
  {
   "cell_type": "code",
   "execution_count": null,
   "id": "5e8f3dce",
   "metadata": {},
   "outputs": [],
   "source": [
    "Y = nh3['EF'].values.reshape(len(nh3),1)"
   ]
  },
  {
   "cell_type": "code",
   "execution_count": null,
   "id": "863c2397",
   "metadata": {},
   "outputs": [],
   "source": [
    "for i in range(5,104):\n",
    "    var['Y_'+str(i)] = var['nh3_' + str(i)]['EF'].values.reshape(len(var['nh3_' + str(i)]),1)"
   ]
  },
  {
   "cell_type": "code",
   "execution_count": null,
   "id": "186d2739",
   "metadata": {},
   "outputs": [],
   "source": [
    "X.shape, Y.shape"
   ]
  },
  {
   "cell_type": "code",
   "execution_count": null,
   "id": "788c3e04",
   "metadata": {},
   "outputs": [],
   "source": [
    "var['X_'+str(i)].shape, var['Y_'+str(i)].shape"
   ]
  },
  {
   "cell_type": "code",
   "execution_count": null,
   "id": "d56ba496",
   "metadata": {},
   "outputs": [],
   "source": [
    "x_train, x_test, y_train, y_test = train_test_split(X, Y, test_size=0.2) "
   ]
  },
  {
   "cell_type": "code",
   "execution_count": null,
   "id": "c15ae987",
   "metadata": {},
   "outputs": [],
   "source": [
    "x_train.shape, x_test.shape"
   ]
  },
  {
   "cell_type": "code",
   "execution_count": null,
   "id": "5599bab8",
   "metadata": {
    "scrolled": true
   },
   "outputs": [],
   "source": [
    "y_train.shape, y_test.shape"
   ]
  },
  {
   "cell_type": "code",
   "execution_count": null,
   "id": "6c308abd",
   "metadata": {},
   "outputs": [],
   "source": [
    "n_estimators = range(100,101)\n",
    "random_state = range(2023,2024)\n",
    "max_features= range(1,22)\n",
    "min_samples_leaf = range(1,5)\n",
    "max_depth = [3, 5, 8, 10, 15, 20, 25, 30, 35, 40, None] "
   ]
  },
  {
   "cell_type": "code",
   "execution_count": null,
   "id": "aac247a4",
   "metadata": {},
   "outputs": [],
   "source": [
    "param_grid = {'n_estimators': n_estimators,\n",
    "              'max_features': max_features,\n",
    "             'random_state': random_state,\n",
    "             'min_samples_leaf': min_samples_leaf,\n",
    "             'max_depth': max_depth}"
   ]
  },
  {
   "cell_type": "code",
   "execution_count": null,
   "id": "e8b30596",
   "metadata": {},
   "outputs": [],
   "source": [
    "grid = GridSearchCV(RandomForestRegressor(), param_grid, cv=10,n_jobs = -1,return_train_score=False)"
   ]
  },
  {
   "cell_type": "code",
   "execution_count": null,
   "id": "83363a8c",
   "metadata": {},
   "outputs": [],
   "source": [
    "begin_time = time()"
   ]
  },
  {
   "cell_type": "code",
   "execution_count": null,
   "id": "727b98bc",
   "metadata": {},
   "outputs": [],
   "source": [
    "grid.fit(x_train, y_train.ravel())\n",
    "#grid.fit(X, Y.ravel())"
   ]
  },
  {
   "cell_type": "code",
   "execution_count": null,
   "id": "7de19d46",
   "metadata": {},
   "outputs": [],
   "source": [
    "end_time = time()\n",
    "run_time = end_time-begin_time\n",
    "print ('time cost：',run_time/60, 'min') "
   ]
  },
  {
   "cell_type": "code",
   "execution_count": null,
   "id": "5f8698db",
   "metadata": {},
   "outputs": [],
   "source": [
    "grid.best_params_"
   ]
  },
  {
   "cell_type": "code",
   "execution_count": null,
   "id": "d81582b6",
   "metadata": {},
   "outputs": [],
   "source": [
    "n_estimators = range(500,501)\n",
    "random_state = range(2023,2024)\n",
    "max_features= range(6,22)\n",
    "min_samples_leaf = range(1,2)\n",
    "max_depth = [15, 20, 25, 30, 35, 40, None]"
   ]
  },
  {
   "cell_type": "code",
   "execution_count": null,
   "id": "9e4a4810",
   "metadata": {},
   "outputs": [],
   "source": [
    "param_grid = {'n_estimators': n_estimators,\n",
    "              'max_features': max_features,\n",
    "             'random_state': random_state,\n",
    "             'min_samples_leaf': min_samples_leaf,\n",
    "             'max_depth': max_depth}"
   ]
  },
  {
   "cell_type": "code",
   "execution_count": null,
   "id": "91e0059d",
   "metadata": {},
   "outputs": [],
   "source": [
    "grid = GridSearchCV(RandomForestRegressor(), param_grid, cv=10,n_jobs = 7,return_train_score=False)"
   ]
  },
  {
   "cell_type": "code",
   "execution_count": null,
   "id": "49a362e1",
   "metadata": {},
   "outputs": [],
   "source": [
    "begin_time = time()"
   ]
  },
  {
   "cell_type": "code",
   "execution_count": null,
   "id": "2d781ce9",
   "metadata": {},
   "outputs": [],
   "source": [
    "grid.fit(x_train, y_train.ravel())\n",
    "#grid.fit(X, Y.ravel())"
   ]
  },
  {
   "cell_type": "code",
   "execution_count": null,
   "id": "23409cbf",
   "metadata": {},
   "outputs": [],
   "source": [
    "end_time = time()\n",
    "run_time = end_time-begin_time\n",
    "print ('time cost：',run_time/60, 'min') "
   ]
  },
  {
   "cell_type": "code",
   "execution_count": null,
   "id": "c3c2712b",
   "metadata": {},
   "outputs": [],
   "source": [
    "grid.best_params_"
   ]
  },
  {
   "cell_type": "code",
   "execution_count": null,
   "id": "26681d6d",
   "metadata": {},
   "outputs": [],
   "source": [
    "grid.score(x_test, y_test)"
   ]
  },
  {
   "cell_type": "code",
   "execution_count": null,
   "id": "decc04dc",
   "metadata": {},
   "outputs": [],
   "source": [
    "grid.score(x_train, y_train)"
   ]
  },
  {
   "cell_type": "code",
   "execution_count": null,
   "id": "8f6c2dff",
   "metadata": {},
   "outputs": [],
   "source": [
    "np.sqrt(mean_squared_error(grid.predict(x_test), y_test))"
   ]
  },
  {
   "cell_type": "code",
   "execution_count": null,
   "id": "5a43177e",
   "metadata": {},
   "outputs": [],
   "source": [
    "np.sqrt(mean_squared_error(grid.predict(X), Y))"
   ]
  },
  {
   "cell_type": "code",
   "execution_count": null,
   "id": "534cd970",
   "metadata": {},
   "outputs": [],
   "source": [
    "pd.DataFrame(grid.cv_results_).iloc[grid.best_index_,:]"
   ]
  },
  {
   "cell_type": "code",
   "execution_count": null,
   "id": "ce76800b",
   "metadata": {},
   "outputs": [],
   "source": [
    "RF = RandomForestRegressor(n_estimators=grid.best_params_['n_estimators'], max_features=grid.best_params_['max_features'],min_samples_leaf = grid.best_params_['min_samples_leaf'],max_depth = grid.best_params_['max_depth'],oob_score = True,random_state=grid.best_params_['random_state'],n_jobs=14)\n",
    "RF.fit(x_train, y_train.ravel())"
   ]
  },
  {
   "cell_type": "code",
   "execution_count": null,
   "id": "728d7401",
   "metadata": {},
   "outputs": [],
   "source": [
    "RF"
   ]
  },
  {
   "cell_type": "code",
   "execution_count": null,
   "id": "0ac28a6a",
   "metadata": {},
   "outputs": [],
   "source": [
    "joblib.dump(RF,'./RF_V6_alldatatraining_trainingset_100bootstrap_1000Nmax.pkl') #save model"
   ]
  },
  {
   "cell_type": "code",
   "execution_count": null,
   "id": "46b6304a",
   "metadata": {},
   "outputs": [],
   "source": [
    "RF.score(x_test, y_test)"
   ]
  },
  {
   "cell_type": "code",
   "execution_count": null,
   "id": "c3f8ce5d",
   "metadata": {},
   "outputs": [],
   "source": []
  },
  {
   "cell_type": "code",
   "execution_count": null,
   "id": "375e64f9",
   "metadata": {},
   "outputs": [],
   "source": [
    "from sklearn.metrics import mean_absolute_error\n",
    "from sklearn.metrics import max_error\n",
    "from quantile_forest import RandomForestQuantileRegressor"
   ]
  },
  {
   "cell_type": "code",
   "execution_count": null,
   "id": "08a8c477",
   "metadata": {},
   "outputs": [],
   "source": []
  },
  {
   "cell_type": "code",
   "execution_count": null,
   "id": "c35d9f77",
   "metadata": {},
   "outputs": [],
   "source": [
    "sdf = []  \n",
    "for i in tqdm_notebook(range(5,104)):\n",
    "    RF = RandomForestRegressor(n_estimators=grid.best_params_['n_estimators'], max_features=grid.best_params_['max_features'],min_samples_leaf = grid.best_params_['min_samples_leaf'],max_depth = grid.best_params_['max_depth'],oob_score = False,random_state=grid.best_params_['random_state'],n_jobs=14)\n",
    "    RF.fit(var['X_'+str(i)], var['Y_'+str(i)].ravel())\n",
    "    joblib.dump(RF,'./RF_V6_alldatatraining_100bootstrap_1000Nmax_'+ str(i) +'.pkl')\n",
    "    sdf.append(pt.inverse_transform(np.array(RF.predict(x_test).reshape(-1, 1)))[0])\n",
    "print(np.mean(sdf))\n",
    "print(np.std(sdf))\n",
    "print(np.std(sdf)/np.mean(sdf))\n",
    "print(np.percentile(sdf, 2.5 ))\n",
    "print(np.percentile(sdf, 97.5 ))"
   ]
  },
  {
   "cell_type": "code",
   "execution_count": null,
   "id": "cd99628f",
   "metadata": {
    "scrolled": true
   },
   "outputs": [],
   "source": [
    "RF = RandomForestRegressor(n_estimators=grid.best_params_['n_estimators'], max_features=grid.best_params_['max_features'],min_samples_leaf = grid.best_params_['min_samples_leaf'],max_depth = grid.best_params_['max_depth'],oob_score = True,random_state=grid.best_params_['random_state'],n_jobs=14)"
   ]
  },
  {
   "cell_type": "code",
   "execution_count": null,
   "id": "0629dbed",
   "metadata": {},
   "outputs": [],
   "source": [
    "from sklearn.model_selection import cross_val_score"
   ]
  },
  {
   "cell_type": "code",
   "execution_count": null,
   "id": "aa213789",
   "metadata": {
    "scrolled": true
   },
   "outputs": [],
   "source": [
    "scores = cross_val_score(RF, X, Y, cv=10)"
   ]
  },
  {
   "cell_type": "code",
   "execution_count": null,
   "id": "b62b0feb",
   "metadata": {},
   "outputs": [],
   "source": [
    "scores"
   ]
  },
  {
   "cell_type": "code",
   "execution_count": null,
   "id": "d49e1ca6",
   "metadata": {},
   "outputs": [],
   "source": [
    "scores.mean()"
   ]
  },
  {
   "cell_type": "code",
   "execution_count": null,
   "id": "943bf44b",
   "metadata": {},
   "outputs": [],
   "source": [
    "RF.fit(X, Y.ravel())"
   ]
  },
  {
   "cell_type": "code",
   "execution_count": null,
   "id": "57a3208d",
   "metadata": {},
   "outputs": [],
   "source": [
    "##save model\n",
    "joblib.dump(RF,'./RF_V6_alldatatraining_100bootstrap_1000Nmax.pkl')\n",
    "joblib.dump(grid,'./RF_grid_V6_alldatatraining_100bootstrap_1000Nmax.pkl')\n",
    "joblib.dump(pt,'./boxcox_V6_alldatatraining_100bootstrap_1000Nmax.pkl')"
   ]
  }
 ],
 "metadata": {
  "kernelspec": {
   "display_name": "Python 3",
   "language": "python",
   "name": "python3"
  },
  "language_info": {
   "codemirror_mode": {
    "name": "ipython",
    "version": 3
   },
   "file_extension": ".py",
   "mimetype": "text/x-python",
   "name": "python",
   "nbconvert_exporter": "python",
   "pygments_lexer": "ipython3",
   "version": "3.8.8"
  }
 },
 "nbformat": 4,
 "nbformat_minor": 5
}
